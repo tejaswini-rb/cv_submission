{
 "cells": [
  {
   "cell_type": "markdown",
   "metadata": {},
   "source": [
    "# Project 5: Classifying Point Clouds with PointNet"
   ]
  },
  {
   "cell_type": "markdown",
   "metadata": {},
   "source": [
    "For this project, we are going to build deep learning architectures to classify point clouds that were extracted from self-driving car LiDAR scans.\n",
    "\n",
    "Basic learning objectives of this project:\n",
    "* Construct the basic pipeline used for point cloud classification\n",
    "* Analyze the results from our model and look for potential points of improvement\n",
    "* Understand the limitations of the model and improve it using positional encodings"
   ]
  },
  {
   "cell_type": "markdown",
   "metadata": {},
   "source": [
    "## Setup"
   ]
  },
  {
   "cell_type": "code",
   "execution_count": 224,
   "metadata": {},
   "outputs": [
    {
     "name": "stdout",
     "output_type": "stream",
     "text": [
      "The autoreload extension is already loaded. To reload it, use:\n",
      "  %reload_ext autoreload\n"
     ]
    }
   ],
   "source": [
    "%matplotlib inline\n",
    "%load_ext autoreload\n",
    "%autoreload 2\n",
    "\n",
    "import torch\n",
    "from vision.utils import verify"
   ]
  },
  {
   "cell_type": "code",
   "execution_count": 225,
   "metadata": {},
   "outputs": [
    {
     "name": "stdout",
     "output_type": "stream",
     "text": [
      "Apple Silicon GPU detected. Consider setting use_apple_silicon to True.\n",
      "Using device: cpu\n"
     ]
    }
   ],
   "source": [
    "device = torch.device('cpu')\n",
    "# If you have an NVIDIA GPU with at least 2 GB of VRAM, set this to True\n",
    "use_cuda = False\n",
    "# If you have an Apple Silicon Mac, set this to True\n",
    "use_apple_silicon = False\n",
    "if torch.cuda.is_available():\n",
    "    if use_cuda:\n",
    "        device = torch.device('cuda')\n",
    "        print(\"CUDA-compatible NVIDIA GPU enabled.\")\n",
    "    else:\n",
    "        print(\"CUDA-compatible NVIDIA GPU detected. Consider setting use_cuda to True.\")\n",
    "if torch.backends.mps.is_available() and torch.backends.mps.is_built():\n",
    "    if use_apple_silicon:\n",
    "        device = torch.device('mps')\n",
    "        print(\"Apple Silicon GPU enabled.\")\n",
    "    else:\n",
    "        print(\"Apple Silicon GPU detected. Consider setting use_apple_silicon to True.\")\n",
    "        \n",
    "\n",
    "print(\"Using device: %s\" % str(device))"
   ]
  },
  {
   "cell_type": "markdown",
   "metadata": {},
   "source": [
    "Lets take a second to visualize a few point clouds that we are going to train our model on. You might need to rotate the visualization before you can actually see the object being represented by the points. See if you can make out this pedestrian's arms, legs, and head."
   ]
  },
  {
   "cell_type": "code",
   "execution_count": 226,
   "metadata": {},
   "outputs": [
    {
     "data": {
      "application/vnd.plotly.v1+json": {
       "config": {
        "plotlyServerURL": "https://plot.ly"
       },
       "data": [
        {
         "hovertemplate": "x=%{x}<br>y=%{y}<br>z=%{z}<extra></extra>",
         "legendgroup": "",
         "marker": {
          "color": "#636efa",
          "symbol": "circle"
         },
         "mode": "markers",
         "name": "",
         "scene": "scene",
         "showlegend": false,
         "type": "scatter3d",
         "x": [
          0.1484375,
          0.171875,
          0.1328125,
          0.1484375,
          0.203125,
          0.078125,
          0.1640625,
          0.2265625,
          0.1875,
          0.21875,
          0.1015625,
          0.078125,
          0.1171875,
          0.0859375,
          0.171875,
          0.2265625,
          0.21875,
          0.1640625,
          0.1796875,
          0.21875,
          0.2578125,
          0.1015625,
          0.1484375,
          0.1328125,
          0.2578125,
          0.109375,
          0.046875,
          0.15625,
          0.1796875,
          0.2265625,
          0.2265625,
          0.2578125,
          0.0625,
          0.2421875,
          0.109375,
          0.046875,
          0.2578125,
          0.1484375,
          0.1796875,
          -0.015625,
          0.109375,
          0.0625,
          0.1796875,
          0.28125,
          0,
          0.0859375,
          -0.0703125,
          0.109375,
          0.0078125,
          0.2265625,
          0.1953125,
          0,
          0.28125,
          0.15625,
          0.21875,
          0.2578125,
          0.0546875,
          0.015625,
          0.1796875,
          0.1875,
          0.0625,
          0.109375,
          0.0390625,
          0.2578125,
          0.1171875,
          0.2578125,
          -0.046875,
          0.0703125,
          0.140625,
          0.0078125,
          0.015625,
          0.09375,
          0.171875,
          -0.0859375,
          0.125,
          0.125,
          0.3203125,
          0.28125,
          -0.0546875,
          0.203125,
          0.015625,
          -0.0625,
          -0.140625,
          -0.1015625,
          0.28125,
          0.2265625,
          0,
          0.28125,
          0.0546875,
          -0.0234375,
          0.015625,
          0.1953125,
          0.1640625,
          0.125,
          0.0859375,
          0.0234375,
          0.1328125,
          -0.0625,
          -0.046875,
          -0.0546875,
          0.2109375,
          -0.1484375,
          -0.0703125,
          -0.0625,
          0.2890625,
          0.1796875,
          -0.078125,
          0.1328125,
          0.046875,
          0.078125,
          -0.1171875,
          0.1171875,
          0.1328125,
          0.2265625,
          -0.09375,
          0.1796875,
          0.0546875,
          0.203125,
          0.15625,
          0.1484375,
          0.078125,
          -0.078125,
          0,
          0.1328125,
          0.1875,
          0.2421875,
          0.046875,
          -0.015625,
          0.1015625,
          -0.0546875,
          -0.078125,
          0.171875,
          -0.0390625,
          -0.1171875,
          0.046875,
          0.046875,
          -0.1640625,
          0.1953125,
          -0.078125,
          0.0625,
          0.03125,
          0.0546875,
          0.1015625,
          0,
          0.109375,
          -0.1640625,
          -0.0078125,
          -0.140625,
          -0.1796875,
          0.0625,
          -0.203125,
          -0.0078125,
          -0.3203125
         ],
         "y": [
          0.140625,
          0.0859375,
          0.125,
          0.078125,
          0.0546875,
          0.1640625,
          0.09375,
          -0.0078125,
          0.03125,
          -0.0234375,
          0.1171875,
          0.1640625,
          0.1328125,
          0.1640625,
          0.015625,
          0.0078125,
          -0.03125,
          0.03125,
          0.0078125,
          -0.015625,
          -0.078125,
          0.1015625,
          0.0625,
          0.0625,
          -0.0390625,
          0.1015625,
          0.1484375,
          0.078125,
          0.015625,
          -0.0078125,
          0,
          -0.046875,
          0.1328125,
          -0.0703125,
          0.109375,
          0.1328125,
          -0.046875,
          0.0703125,
          0.0234375,
          0.2265625,
          0.109375,
          0.1484375,
          0.0234375,
          -0.1015625,
          0.1640625,
          0.0859375,
          0.25,
          0.0234375,
          0.1796875,
          -0.1015625,
          -0.0390625,
          0.1640625,
          -0.1015625,
          0,
          -0.046875,
          -0.1171875,
          0.140625,
          0.171875,
          -0.0078125,
          -0.046875,
          0.1171875,
          0.0546875,
          0.1171875,
          -0.1484375,
          0.03125,
          -0.109375,
          0.203125,
          0.0859375,
          0.0078125,
          0.171875,
          0.1484375,
          0.0625,
          -0.0390625,
          0.234375,
          -0.03125,
          0.015625,
          -0.203125,
          -0.1640625,
          0.1875,
          -0.0859375,
          0.1171875,
          0.203125,
          0.25,
          0.21875,
          -0.171875,
          -0.1171875,
          0.0703125,
          -0.171875,
          0.0703125,
          0.15625,
          0.109375,
          -0.1171875,
          -0.0546875,
          -0.015625,
          0.0234375,
          0.0234375,
          -0.0234375,
          0.1640625,
          0.125,
          0.1328125,
          -0.15625,
          0.1953125,
          0.109375,
          0.09375,
          -0.234375,
          -0.109375,
          0.171875,
          -0.0234375,
          -0.03125,
          0.0078125,
          0.1484375,
          -0.0234375,
          -0.0546875,
          -0.1796875,
          0.1640625,
          -0.1171875,
          0.015625,
          -0.1875,
          -0.109375,
          -0.078125,
          -0.03125,
          0.046875,
          0.046875,
          -0.0859375,
          -0.1796875,
          -0.25,
          -0.0078125,
          -0.046875,
          -0.046875,
          -0.0078125,
          0.0234375,
          -0.171875,
          -0.0234375,
          0.0625,
          -0.015625,
          -0.015625,
          0.0859375,
          -0.2421875,
          0.0546875,
          -0.078125,
          -0.046875,
          -0.09375,
          -0.1171875,
          -0.0625,
          -0.1953125,
          -0.0390625,
          -0.0859375,
          -0.09375,
          -0.0625,
          -0.234375,
          -0.0703125,
          -0.15625,
          -0.1015625
         ],
         "z": [
          0.1502685546875,
          0.0506591796875,
          0.0501708984375,
          -0.1265869140625,
          0.3328857421875,
          0.0491943359375,
          0.3328857421875,
          -0.0430908203125,
          -0.0435791015625,
          -0.4195556640625,
          -0.1270751953125,
          0.1483154296875,
          0.3319091796875,
          0.3319091796875,
          -0.4205322265625,
          0.3328857421875,
          -0.2325439453125,
          -0.1270751953125,
          -0.2330322265625,
          0.0491943359375,
          -0.2325439453125,
          -0.0450439453125,
          0.1419677734375,
          -0.0450439453125,
          0.3328857421875,
          0.1414794921875,
          -0.1285400390625,
          0.4237060546875,
          0.1419677734375,
          0.4237060546875,
          0.5155029296875,
          0.4246826171875,
          0.1405029296875,
          0.0487060546875,
          0.4237060546875,
          -0.0465087890625,
          0.5155029296875,
          0.5145263671875,
          0.4237060546875,
          0.3309326171875,
          0.5145263671875,
          0.4227294921875,
          0.5145263671875,
          0.4237060546875,
          0.0457763671875,
          0.2337646484375,
          0.1453857421875,
          -0.2364501953125,
          0.3309326171875,
          -0.1417236328125,
          0.2342529296875,
          0.1395263671875,
          0.5155029296875,
          0.2342529296875,
          0.4227294921875,
          0.1478271484375,
          0.5145263671875,
          0.4227294921875,
          0.4217529296875,
          0.1405029296875,
          0.4217529296875,
          0.3280029296875,
          0.2332763671875,
          -0.1422119140625,
          0.2337646484375,
          0.3319091796875,
          0.1453857421875,
          0.3280029296875,
          0.3280029296875,
          0.5135498046875,
          0.4207763671875,
          0.4217529296875,
          0.3280029296875,
          0.2318115234375,
          -0.1441650390625,
          0.4217529296875,
          0.3319091796875,
          0.3309326171875,
          0.2318115234375,
          0.3280029296875,
          0.3270263671875,
          0.3270263671875,
          -0.1475830078125,
          0.1370849609375,
          0.4227294921875,
          0.4207763671875,
          -0.1466064453125,
          0.5145263671875,
          0.5145263671875,
          0.5135498046875,
          0.5145263671875,
          0.2322998046875,
          0.5145263671875,
          0.5145263671875,
          0.5145263671875,
          -0.1475830078125,
          0.6053466796875,
          0.4197998046875,
          0.2303466796875,
          0.3250732421875,
          0.3270263671875,
          -0.1363525390625,
          -0.0528564453125,
          -0.1490478515625,
          0.4227294921875,
          0.5145263671875,
          0.5135498046875,
          0.7899169921875,
          -0.1485595703125,
          0.6053466796875,
          -0.1363525390625,
          0.6981201171875,
          0.6072998046875,
          0.4197998046875,
          0.4197998046875,
          0.6053466796875,
          0.6072998046875,
          0.2308349609375,
          0.6072998046875,
          0.7899169921875,
          0.6072998046875,
          -0.510986328125,
          0.6063232421875,
          0.6981201171875,
          0.5135498046875,
          0.4188232421875,
          0.6981201171875,
          -0.51171875,
          0.8817138671875,
          -0.51220703125,
          -0.2469482421875,
          0.6072998046875,
          -0.2464599609375,
          -0.2474365234375,
          0.7899169921875,
          0.8817138671875,
          -0.2491455078125,
          0.5125732421875,
          0.6053466796875,
          0.7957763671875,
          0.7947998046875,
          0.7010498046875,
          0.8826904296875,
          0.7010498046875,
          0.7010498046875,
          -0.63665771484375,
          0.8895263671875,
          -0.63739013671875,
          -0.8753662109375,
          0.7947998046875,
          -0.4495849609375,
          0.8895263671875,
          -0.8895263671875
         ]
        }
       ],
       "layout": {
        "legend": {
         "tracegroupgap": 0
        },
        "margin": {
         "t": 60
        },
        "scene": {
         "domain": {
          "x": [
           0,
           1
          ],
          "y": [
           0,
           1
          ]
         },
         "xaxis": {
          "title": {
           "text": "x"
          }
         },
         "yaxis": {
          "title": {
           "text": "y"
          }
         },
         "zaxis": {
          "title": {
           "text": "z"
          }
         }
        },
        "template": {
         "data": {
          "bar": [
           {
            "error_x": {
             "color": "#2a3f5f"
            },
            "error_y": {
             "color": "#2a3f5f"
            },
            "marker": {
             "line": {
              "color": "#E5ECF6",
              "width": 0.5
             },
             "pattern": {
              "fillmode": "overlay",
              "size": 10,
              "solidity": 0.2
             }
            },
            "type": "bar"
           }
          ],
          "barpolar": [
           {
            "marker": {
             "line": {
              "color": "#E5ECF6",
              "width": 0.5
             },
             "pattern": {
              "fillmode": "overlay",
              "size": 10,
              "solidity": 0.2
             }
            },
            "type": "barpolar"
           }
          ],
          "carpet": [
           {
            "aaxis": {
             "endlinecolor": "#2a3f5f",
             "gridcolor": "white",
             "linecolor": "white",
             "minorgridcolor": "white",
             "startlinecolor": "#2a3f5f"
            },
            "baxis": {
             "endlinecolor": "#2a3f5f",
             "gridcolor": "white",
             "linecolor": "white",
             "minorgridcolor": "white",
             "startlinecolor": "#2a3f5f"
            },
            "type": "carpet"
           }
          ],
          "choropleth": [
           {
            "colorbar": {
             "outlinewidth": 0,
             "ticks": ""
            },
            "type": "choropleth"
           }
          ],
          "contour": [
           {
            "colorbar": {
             "outlinewidth": 0,
             "ticks": ""
            },
            "colorscale": [
             [
              0,
              "#0d0887"
             ],
             [
              0.1111111111111111,
              "#46039f"
             ],
             [
              0.2222222222222222,
              "#7201a8"
             ],
             [
              0.3333333333333333,
              "#9c179e"
             ],
             [
              0.4444444444444444,
              "#bd3786"
             ],
             [
              0.5555555555555556,
              "#d8576b"
             ],
             [
              0.6666666666666666,
              "#ed7953"
             ],
             [
              0.7777777777777778,
              "#fb9f3a"
             ],
             [
              0.8888888888888888,
              "#fdca26"
             ],
             [
              1,
              "#f0f921"
             ]
            ],
            "type": "contour"
           }
          ],
          "contourcarpet": [
           {
            "colorbar": {
             "outlinewidth": 0,
             "ticks": ""
            },
            "type": "contourcarpet"
           }
          ],
          "heatmap": [
           {
            "colorbar": {
             "outlinewidth": 0,
             "ticks": ""
            },
            "colorscale": [
             [
              0,
              "#0d0887"
             ],
             [
              0.1111111111111111,
              "#46039f"
             ],
             [
              0.2222222222222222,
              "#7201a8"
             ],
             [
              0.3333333333333333,
              "#9c179e"
             ],
             [
              0.4444444444444444,
              "#bd3786"
             ],
             [
              0.5555555555555556,
              "#d8576b"
             ],
             [
              0.6666666666666666,
              "#ed7953"
             ],
             [
              0.7777777777777778,
              "#fb9f3a"
             ],
             [
              0.8888888888888888,
              "#fdca26"
             ],
             [
              1,
              "#f0f921"
             ]
            ],
            "type": "heatmap"
           }
          ],
          "heatmapgl": [
           {
            "colorbar": {
             "outlinewidth": 0,
             "ticks": ""
            },
            "colorscale": [
             [
              0,
              "#0d0887"
             ],
             [
              0.1111111111111111,
              "#46039f"
             ],
             [
              0.2222222222222222,
              "#7201a8"
             ],
             [
              0.3333333333333333,
              "#9c179e"
             ],
             [
              0.4444444444444444,
              "#bd3786"
             ],
             [
              0.5555555555555556,
              "#d8576b"
             ],
             [
              0.6666666666666666,
              "#ed7953"
             ],
             [
              0.7777777777777778,
              "#fb9f3a"
             ],
             [
              0.8888888888888888,
              "#fdca26"
             ],
             [
              1,
              "#f0f921"
             ]
            ],
            "type": "heatmapgl"
           }
          ],
          "histogram": [
           {
            "marker": {
             "pattern": {
              "fillmode": "overlay",
              "size": 10,
              "solidity": 0.2
             }
            },
            "type": "histogram"
           }
          ],
          "histogram2d": [
           {
            "colorbar": {
             "outlinewidth": 0,
             "ticks": ""
            },
            "colorscale": [
             [
              0,
              "#0d0887"
             ],
             [
              0.1111111111111111,
              "#46039f"
             ],
             [
              0.2222222222222222,
              "#7201a8"
             ],
             [
              0.3333333333333333,
              "#9c179e"
             ],
             [
              0.4444444444444444,
              "#bd3786"
             ],
             [
              0.5555555555555556,
              "#d8576b"
             ],
             [
              0.6666666666666666,
              "#ed7953"
             ],
             [
              0.7777777777777778,
              "#fb9f3a"
             ],
             [
              0.8888888888888888,
              "#fdca26"
             ],
             [
              1,
              "#f0f921"
             ]
            ],
            "type": "histogram2d"
           }
          ],
          "histogram2dcontour": [
           {
            "colorbar": {
             "outlinewidth": 0,
             "ticks": ""
            },
            "colorscale": [
             [
              0,
              "#0d0887"
             ],
             [
              0.1111111111111111,
              "#46039f"
             ],
             [
              0.2222222222222222,
              "#7201a8"
             ],
             [
              0.3333333333333333,
              "#9c179e"
             ],
             [
              0.4444444444444444,
              "#bd3786"
             ],
             [
              0.5555555555555556,
              "#d8576b"
             ],
             [
              0.6666666666666666,
              "#ed7953"
             ],
             [
              0.7777777777777778,
              "#fb9f3a"
             ],
             [
              0.8888888888888888,
              "#fdca26"
             ],
             [
              1,
              "#f0f921"
             ]
            ],
            "type": "histogram2dcontour"
           }
          ],
          "mesh3d": [
           {
            "colorbar": {
             "outlinewidth": 0,
             "ticks": ""
            },
            "type": "mesh3d"
           }
          ],
          "parcoords": [
           {
            "line": {
             "colorbar": {
              "outlinewidth": 0,
              "ticks": ""
             }
            },
            "type": "parcoords"
           }
          ],
          "pie": [
           {
            "automargin": true,
            "type": "pie"
           }
          ],
          "scatter": [
           {
            "fillpattern": {
             "fillmode": "overlay",
             "size": 10,
             "solidity": 0.2
            },
            "type": "scatter"
           }
          ],
          "scatter3d": [
           {
            "line": {
             "colorbar": {
              "outlinewidth": 0,
              "ticks": ""
             }
            },
            "marker": {
             "colorbar": {
              "outlinewidth": 0,
              "ticks": ""
             }
            },
            "type": "scatter3d"
           }
          ],
          "scattercarpet": [
           {
            "marker": {
             "colorbar": {
              "outlinewidth": 0,
              "ticks": ""
             }
            },
            "type": "scattercarpet"
           }
          ],
          "scattergeo": [
           {
            "marker": {
             "colorbar": {
              "outlinewidth": 0,
              "ticks": ""
             }
            },
            "type": "scattergeo"
           }
          ],
          "scattergl": [
           {
            "marker": {
             "colorbar": {
              "outlinewidth": 0,
              "ticks": ""
             }
            },
            "type": "scattergl"
           }
          ],
          "scattermapbox": [
           {
            "marker": {
             "colorbar": {
              "outlinewidth": 0,
              "ticks": ""
             }
            },
            "type": "scattermapbox"
           }
          ],
          "scatterpolar": [
           {
            "marker": {
             "colorbar": {
              "outlinewidth": 0,
              "ticks": ""
             }
            },
            "type": "scatterpolar"
           }
          ],
          "scatterpolargl": [
           {
            "marker": {
             "colorbar": {
              "outlinewidth": 0,
              "ticks": ""
             }
            },
            "type": "scatterpolargl"
           }
          ],
          "scatterternary": [
           {
            "marker": {
             "colorbar": {
              "outlinewidth": 0,
              "ticks": ""
             }
            },
            "type": "scatterternary"
           }
          ],
          "surface": [
           {
            "colorbar": {
             "outlinewidth": 0,
             "ticks": ""
            },
            "colorscale": [
             [
              0,
              "#0d0887"
             ],
             [
              0.1111111111111111,
              "#46039f"
             ],
             [
              0.2222222222222222,
              "#7201a8"
             ],
             [
              0.3333333333333333,
              "#9c179e"
             ],
             [
              0.4444444444444444,
              "#bd3786"
             ],
             [
              0.5555555555555556,
              "#d8576b"
             ],
             [
              0.6666666666666666,
              "#ed7953"
             ],
             [
              0.7777777777777778,
              "#fb9f3a"
             ],
             [
              0.8888888888888888,
              "#fdca26"
             ],
             [
              1,
              "#f0f921"
             ]
            ],
            "type": "surface"
           }
          ],
          "table": [
           {
            "cells": {
             "fill": {
              "color": "#EBF0F8"
             },
             "line": {
              "color": "white"
             }
            },
            "header": {
             "fill": {
              "color": "#C8D4E3"
             },
             "line": {
              "color": "white"
             }
            },
            "type": "table"
           }
          ]
         },
         "layout": {
          "annotationdefaults": {
           "arrowcolor": "#2a3f5f",
           "arrowhead": 0,
           "arrowwidth": 1
          },
          "autotypenumbers": "strict",
          "coloraxis": {
           "colorbar": {
            "outlinewidth": 0,
            "ticks": ""
           }
          },
          "colorscale": {
           "diverging": [
            [
             0,
             "#8e0152"
            ],
            [
             0.1,
             "#c51b7d"
            ],
            [
             0.2,
             "#de77ae"
            ],
            [
             0.3,
             "#f1b6da"
            ],
            [
             0.4,
             "#fde0ef"
            ],
            [
             0.5,
             "#f7f7f7"
            ],
            [
             0.6,
             "#e6f5d0"
            ],
            [
             0.7,
             "#b8e186"
            ],
            [
             0.8,
             "#7fbc41"
            ],
            [
             0.9,
             "#4d9221"
            ],
            [
             1,
             "#276419"
            ]
           ],
           "sequential": [
            [
             0,
             "#0d0887"
            ],
            [
             0.1111111111111111,
             "#46039f"
            ],
            [
             0.2222222222222222,
             "#7201a8"
            ],
            [
             0.3333333333333333,
             "#9c179e"
            ],
            [
             0.4444444444444444,
             "#bd3786"
            ],
            [
             0.5555555555555556,
             "#d8576b"
            ],
            [
             0.6666666666666666,
             "#ed7953"
            ],
            [
             0.7777777777777778,
             "#fb9f3a"
            ],
            [
             0.8888888888888888,
             "#fdca26"
            ],
            [
             1,
             "#f0f921"
            ]
           ],
           "sequentialminus": [
            [
             0,
             "#0d0887"
            ],
            [
             0.1111111111111111,
             "#46039f"
            ],
            [
             0.2222222222222222,
             "#7201a8"
            ],
            [
             0.3333333333333333,
             "#9c179e"
            ],
            [
             0.4444444444444444,
             "#bd3786"
            ],
            [
             0.5555555555555556,
             "#d8576b"
            ],
            [
             0.6666666666666666,
             "#ed7953"
            ],
            [
             0.7777777777777778,
             "#fb9f3a"
            ],
            [
             0.8888888888888888,
             "#fdca26"
            ],
            [
             1,
             "#f0f921"
            ]
           ]
          },
          "colorway": [
           "#636efa",
           "#EF553B",
           "#00cc96",
           "#ab63fa",
           "#FFA15A",
           "#19d3f3",
           "#FF6692",
           "#B6E880",
           "#FF97FF",
           "#FECB52"
          ],
          "font": {
           "color": "#2a3f5f"
          },
          "geo": {
           "bgcolor": "white",
           "lakecolor": "white",
           "landcolor": "#E5ECF6",
           "showlakes": true,
           "showland": true,
           "subunitcolor": "white"
          },
          "hoverlabel": {
           "align": "left"
          },
          "hovermode": "closest",
          "mapbox": {
           "style": "light"
          },
          "paper_bgcolor": "white",
          "plot_bgcolor": "#E5ECF6",
          "polar": {
           "angularaxis": {
            "gridcolor": "white",
            "linecolor": "white",
            "ticks": ""
           },
           "bgcolor": "#E5ECF6",
           "radialaxis": {
            "gridcolor": "white",
            "linecolor": "white",
            "ticks": ""
           }
          },
          "scene": {
           "xaxis": {
            "backgroundcolor": "#E5ECF6",
            "gridcolor": "white",
            "gridwidth": 2,
            "linecolor": "white",
            "showbackground": true,
            "ticks": "",
            "zerolinecolor": "white"
           },
           "yaxis": {
            "backgroundcolor": "#E5ECF6",
            "gridcolor": "white",
            "gridwidth": 2,
            "linecolor": "white",
            "showbackground": true,
            "ticks": "",
            "zerolinecolor": "white"
           },
           "zaxis": {
            "backgroundcolor": "#E5ECF6",
            "gridcolor": "white",
            "gridwidth": 2,
            "linecolor": "white",
            "showbackground": true,
            "ticks": "",
            "zerolinecolor": "white"
           }
          },
          "shapedefaults": {
           "line": {
            "color": "#2a3f5f"
           }
          },
          "ternary": {
           "aaxis": {
            "gridcolor": "white",
            "linecolor": "white",
            "ticks": ""
           },
           "baxis": {
            "gridcolor": "white",
            "linecolor": "white",
            "ticks": ""
           },
           "bgcolor": "#E5ECF6",
           "caxis": {
            "gridcolor": "white",
            "linecolor": "white",
            "ticks": ""
           }
          },
          "title": {
           "x": 0.05
          },
          "xaxis": {
           "automargin": true,
           "gridcolor": "white",
           "linecolor": "white",
           "ticks": "",
           "title": {
            "standoff": 15
           },
           "zerolinecolor": "white",
           "zerolinewidth": 2
          },
          "yaxis": {
           "automargin": true,
           "gridcolor": "white",
           "linecolor": "white",
           "ticks": "",
           "title": {
            "standoff": 15
           },
           "zerolinecolor": "white",
           "zerolinewidth": 2
          }
         }
        }
       }
      }
     },
     "metadata": {},
     "output_type": "display_data"
    }
   ],
   "source": [
    "from vision.utils import plot_cloud_from_file\n",
    "\n",
    "plot_cloud_from_file('data/sweeps/PEDESTRIAN/11.txt')"
   ]
  },
  {
   "cell_type": "markdown",
   "metadata": {},
   "source": [
    "## Part 1: Data Loading"
   ]
  },
  {
   "cell_type": "markdown",
   "metadata": {},
   "source": [
    "The first order of business we're going to take care of is writing a PyTorch dataset that will load in the data we'll be using to train and test our model. We have a total of 20 different classes that all found under the `data/sweeps` folder and each class has been split into a training and testing set. We will write a class that will load the appropriate data given the split we pass in (i.e. train/test split).\n",
    "\n",
    "**TODO 1:** complete `part1_dataloader.py`"
   ]
  },
  {
   "cell_type": "code",
   "execution_count": 227,
   "metadata": {},
   "outputs": [],
   "source": [
    "from vision.part1_dataloader import Argoverse\n",
    "from torch.utils.data import DataLoader\n",
    "from tests.test_part1 import (\n",
    "    test_dataset_length, \n",
    "    test_unique_values, \n",
    "    test_get_points_from_file, \n",
    "    test_pad_points, \n",
    "    test_class_values\n",
    ")"
   ]
  },
  {
   "cell_type": "code",
   "execution_count": 228,
   "metadata": {},
   "outputs": [
    {
     "name": "stdout",
     "output_type": "stream",
     "text": [
      "test_dataset_length():  \u001b[32m\"Correct\"\u001b[0m\n",
      "test_unique_values():  \u001b[32m\"Correct\"\u001b[0m\n",
      "test_get_points_from_file():  \u001b[32m\"Correct\"\u001b[0m\n",
      "test_pad_points():  \u001b[32m\"Correct\"\u001b[0m\n",
      "test_class_values():  \u001b[32m\"Correct\"\u001b[0m\n"
     ]
    }
   ],
   "source": [
    "print(\"test_dataset_length(): \", verify(test_dataset_length))\n",
    "print(\"test_unique_values(): \", verify(test_unique_values))\n",
    "print(\"test_get_points_from_file(): \", verify(test_get_points_from_file))\n",
    "print(\"test_pad_points(): \", verify(test_pad_points))\n",
    "print(\"test_class_values(): \", verify(test_class_values))"
   ]
  },
  {
   "cell_type": "markdown",
   "metadata": {},
   "source": [
    "Now we can load in our data. When extracting object point clouds from LiDAR scans, we pruned point clouds with large numbers of points to reduce the computational demand of training and testing our classifiers. We pruned all point clouds to have a maximum of 200 points so that is the size that we will be padding all of the other point clouds to. (Feel free to adjust the batch size if you find a value that works better with your implementation)"
   ]
  },
  {
   "cell_type": "code",
   "execution_count": 229,
   "metadata": {},
   "outputs": [],
   "source": [
    "train_dataset = Argoverse('train', 'data/sweeps', 200)\n",
    "test_dataset = Argoverse('test', 'data/sweeps', 200)\n",
    "\n",
    "train_loader = DataLoader(train_dataset, batch_size=16, shuffle=True)\n",
    "test_loader = DataLoader(test_dataset, batch_size=16, shuffle=True)"
   ]
  },
  {
   "cell_type": "markdown",
   "metadata": {},
   "source": [
    "## Part 2: Baseline\n",
    "\n",
    "A very simple baseline to start with is a voxel-based approach. Our overall point cloud falls in a 4x4x4 meter volume in space. We can divide this up into 1x1x1 meter volumes which would give us a total of 64 $1m^3$ cells. We build a 64-dimensional feature for a point by simply counting how many points in the point cloud fall into each cell then normalizng the resulting feature vector.\n",
    "\n",
    "For more details see the project pdf.\n",
    "\n",
    "**TODO 2:** complete `part2_baseline.py`"
   ]
  },
  {
   "cell_type": "code",
   "execution_count": 230,
   "metadata": {},
   "outputs": [],
   "source": [
    "from vision.part2_baseline import Baseline\n",
    "from torch import optim\n",
    "from vision.training import train, test\n",
    "from tests.test_part2 import (\n",
    "    test_count_points,\n",
    "    test_baseline\n",
    ")"
   ]
  },
  {
   "cell_type": "code",
   "execution_count": 231,
   "metadata": {},
   "outputs": [
    {
     "name": "stdout",
     "output_type": "stream",
     "text": [
      "test_count_points():  \u001b[32m\"Correct\"\u001b[0m\n",
      "test_baseline():  \u001b[32m\"Correct\"\u001b[0m\n"
     ]
    }
   ],
   "source": [
    "print(\"test_count_points(): \", verify(test_count_points))\n",
    "print(\"test_baseline(): \", verify(test_baseline))"
   ]
  },
  {
   "cell_type": "markdown",
   "metadata": {},
   "source": [
    "Lets train our baseline implementation and see how it does! Fill in the hyperparameters and train your model. \n",
    "\n",
    "To get full credit for this section, you will need *$\\geq$ 30%* accuracy on the test data set. The TAs were able to consistently achieve this accuracy with ~15 epochs.\n",
    "\n",
    "*Hint: Play around with different voxel resolutions and the two different modes you implemented to see which configuration works the best.*"
   ]
  },
  {
   "cell_type": "code",
   "execution_count": 232,
   "metadata": {},
   "outputs": [],
   "source": [
    "lr = 0.05\n",
    "weight_decay = 1e-4\n",
    "epochs = 10\n",
    "\n",
    "model = Baseline(20, voxel_resolution=8, mode=\"occupancy\")\n",
    "optimizer = optim.Adam(model.parameters(), lr=lr, weight_decay=weight_decay)"
   ]
  },
  {
   "cell_type": "code",
   "execution_count": 233,
   "metadata": {},
   "outputs": [
    {
     "name": "stdout",
     "output_type": "stream",
     "text": [
      "Epoch 1\n",
      "\n",
      "Training...\n"
     ]
    },
    {
     "name": "stderr",
     "output_type": "stream",
     "text": [
      "  0%|          | 0/213 [00:00<?, ?it/s]"
     ]
    },
    {
     "name": "stderr",
     "output_type": "stream",
     "text": [
      "100%|██████████| 213/213 [00:01<00:00, 174.31it/s]\n"
     ]
    },
    {
     "name": "stdout",
     "output_type": "stream",
     "text": [
      "\n",
      "Testing...\n"
     ]
    },
    {
     "name": "stderr",
     "output_type": "stream",
     "text": [
      "100%|██████████| 38/38 [00:00<00:00, 234.51it/s]\n"
     ]
    },
    {
     "name": "stdout",
     "output_type": "stream",
     "text": [
      "\n",
      "Epoch 1 Stats:\n",
      "\tTraining accuracy: 0.5918\n",
      "\tTraining loss: 1.4263\n",
      "\tValidation accuracy: 0.4567\n",
      "\tValidation loss: 2.3072\n",
      "\n",
      "Validation accuracy improved from 0 to 0.4566666781902313\n",
      "Saving model to Baseline.pt\n",
      "\n",
      "===============================================================================\n",
      "\n",
      "Epoch 2\n",
      "\n",
      "Training...\n"
     ]
    },
    {
     "name": "stderr",
     "output_type": "stream",
     "text": [
      "100%|██████████| 213/213 [00:00<00:00, 302.83it/s]\n"
     ]
    },
    {
     "name": "stdout",
     "output_type": "stream",
     "text": [
      "\n",
      "Testing...\n"
     ]
    },
    {
     "name": "stderr",
     "output_type": "stream",
     "text": [
      "100%|██████████| 38/38 [00:00<00:00, 339.88it/s]\n"
     ]
    },
    {
     "name": "stdout",
     "output_type": "stream",
     "text": [
      "\n",
      "Epoch 2 Stats:\n",
      "\tTraining accuracy: 0.7179\n",
      "\tTraining loss: 0.8682\n",
      "\tValidation accuracy: 0.4833\n",
      "\tValidation loss: 2.3599\n",
      "\n",
      "Validation accuracy improved from 0.4566666781902313 to 0.4833333194255829\n",
      "Saving model to Baseline.pt\n",
      "\n",
      "===============================================================================\n",
      "\n",
      "Epoch 3\n",
      "\n",
      "Training...\n"
     ]
    },
    {
     "name": "stderr",
     "output_type": "stream",
     "text": [
      "100%|██████████| 213/213 [00:00<00:00, 307.00it/s]\n"
     ]
    },
    {
     "name": "stdout",
     "output_type": "stream",
     "text": [
      "\n",
      "Testing...\n"
     ]
    },
    {
     "name": "stderr",
     "output_type": "stream",
     "text": [
      "100%|██████████| 38/38 [00:00<00:00, 360.89it/s]\n"
     ]
    },
    {
     "name": "stdout",
     "output_type": "stream",
     "text": [
      "\n",
      "Epoch 3 Stats:\n",
      "\tTraining accuracy: 0.7526\n",
      "\tTraining loss: 0.7381\n",
      "\tValidation accuracy: 0.4600\n",
      "\tValidation loss: 2.7288\n",
      "\n",
      "===============================================================================\n",
      "\n",
      "Epoch 4\n",
      "\n",
      "Training...\n"
     ]
    },
    {
     "name": "stderr",
     "output_type": "stream",
     "text": [
      "100%|██████████| 213/213 [00:00<00:00, 304.02it/s]\n"
     ]
    },
    {
     "name": "stdout",
     "output_type": "stream",
     "text": [
      "\n",
      "Testing...\n"
     ]
    },
    {
     "name": "stderr",
     "output_type": "stream",
     "text": [
      "100%|██████████| 38/38 [00:00<00:00, 339.10it/s]\n"
     ]
    },
    {
     "name": "stdout",
     "output_type": "stream",
     "text": [
      "\n",
      "Epoch 4 Stats:\n",
      "\tTraining accuracy: 0.7606\n",
      "\tTraining loss: 0.6988\n",
      "\tValidation accuracy: 0.4367\n",
      "\tValidation loss: 2.8589\n",
      "\n",
      "===============================================================================\n",
      "\n",
      "Epoch 5\n",
      "\n",
      "Training...\n"
     ]
    },
    {
     "name": "stderr",
     "output_type": "stream",
     "text": [
      "100%|██████████| 213/213 [00:00<00:00, 301.55it/s]\n"
     ]
    },
    {
     "name": "stdout",
     "output_type": "stream",
     "text": [
      "\n",
      "Testing...\n"
     ]
    },
    {
     "name": "stderr",
     "output_type": "stream",
     "text": [
      "100%|██████████| 38/38 [00:00<00:00, 335.93it/s]\n"
     ]
    },
    {
     "name": "stdout",
     "output_type": "stream",
     "text": [
      "\n",
      "Epoch 5 Stats:\n",
      "\tTraining accuracy: 0.7629\n",
      "\tTraining loss: 0.6919\n",
      "\tValidation accuracy: 0.4583\n",
      "\tValidation loss: 2.6348\n",
      "\n",
      "===============================================================================\n",
      "\n",
      "Epoch 6\n",
      "\n",
      "Training...\n"
     ]
    },
    {
     "name": "stderr",
     "output_type": "stream",
     "text": [
      "100%|██████████| 213/213 [00:00<00:00, 295.77it/s]\n"
     ]
    },
    {
     "name": "stdout",
     "output_type": "stream",
     "text": [
      "\n",
      "Testing...\n"
     ]
    },
    {
     "name": "stderr",
     "output_type": "stream",
     "text": [
      "100%|██████████| 38/38 [00:00<00:00, 336.03it/s]\n"
     ]
    },
    {
     "name": "stdout",
     "output_type": "stream",
     "text": [
      "\n",
      "Epoch 6 Stats:\n",
      "\tTraining accuracy: 0.7788\n",
      "\tTraining loss: 0.6505\n",
      "\tValidation accuracy: 0.4833\n",
      "\tValidation loss: 2.9046\n",
      "\n",
      "===============================================================================\n",
      "\n",
      "Epoch 7\n",
      "\n",
      "Training...\n"
     ]
    },
    {
     "name": "stderr",
     "output_type": "stream",
     "text": [
      "100%|██████████| 213/213 [00:00<00:00, 280.12it/s]\n"
     ]
    },
    {
     "name": "stdout",
     "output_type": "stream",
     "text": [
      "\n",
      "Testing...\n"
     ]
    },
    {
     "name": "stderr",
     "output_type": "stream",
     "text": [
      "100%|██████████| 38/38 [00:00<00:00, 163.65it/s]\n"
     ]
    },
    {
     "name": "stdout",
     "output_type": "stream",
     "text": [
      "\n",
      "Epoch 7 Stats:\n",
      "\tTraining accuracy: 0.7700\n",
      "\tTraining loss: 0.6706\n",
      "\tValidation accuracy: 0.4550\n",
      "\tValidation loss: 3.0183\n",
      "\n",
      "===============================================================================\n",
      "\n",
      "Epoch 8\n",
      "\n",
      "Training...\n"
     ]
    },
    {
     "name": "stderr",
     "output_type": "stream",
     "text": [
      "100%|██████████| 213/213 [00:00<00:00, 269.73it/s]\n"
     ]
    },
    {
     "name": "stdout",
     "output_type": "stream",
     "text": [
      "\n",
      "Testing...\n"
     ]
    },
    {
     "name": "stderr",
     "output_type": "stream",
     "text": [
      "100%|██████████| 38/38 [00:00<00:00, 324.77it/s]\n"
     ]
    },
    {
     "name": "stdout",
     "output_type": "stream",
     "text": [
      "\n",
      "Epoch 8 Stats:\n",
      "\tTraining accuracy: 0.7674\n",
      "\tTraining loss: 0.6885\n",
      "\tValidation accuracy: 0.4333\n",
      "\tValidation loss: 3.0855\n",
      "\n",
      "===============================================================================\n",
      "\n",
      "Epoch 9\n",
      "\n",
      "Training...\n"
     ]
    },
    {
     "name": "stderr",
     "output_type": "stream",
     "text": [
      "100%|██████████| 213/213 [00:00<00:00, 249.45it/s]\n"
     ]
    },
    {
     "name": "stdout",
     "output_type": "stream",
     "text": [
      "\n",
      "Testing...\n"
     ]
    },
    {
     "name": "stderr",
     "output_type": "stream",
     "text": [
      "100%|██████████| 38/38 [00:00<00:00, 327.60it/s]\n"
     ]
    },
    {
     "name": "stdout",
     "output_type": "stream",
     "text": [
      "\n",
      "Epoch 9 Stats:\n",
      "\tTraining accuracy: 0.7679\n",
      "\tTraining loss: 0.6540\n",
      "\tValidation accuracy: 0.4450\n",
      "\tValidation loss: 2.9072\n",
      "\n",
      "===============================================================================\n",
      "\n",
      "Epoch 10\n",
      "\n",
      "Training...\n"
     ]
    },
    {
     "name": "stderr",
     "output_type": "stream",
     "text": [
      "100%|██████████| 213/213 [00:00<00:00, 284.22it/s]\n"
     ]
    },
    {
     "name": "stdout",
     "output_type": "stream",
     "text": [
      "\n",
      "Testing...\n"
     ]
    },
    {
     "name": "stderr",
     "output_type": "stream",
     "text": [
      "100%|██████████| 38/38 [00:00<00:00, 328.98it/s]"
     ]
    },
    {
     "name": "stdout",
     "output_type": "stream",
     "text": [
      "\n",
      "Epoch 10 Stats:\n",
      "\tTraining accuracy: 0.7735\n",
      "\tTraining loss: 0.6576\n",
      "\tValidation accuracy: 0.4667\n",
      "\tValidation loss: 2.8307\n",
      "\n",
      "===============================================================================\n",
      "\n"
     ]
    },
    {
     "name": "stderr",
     "output_type": "stream",
     "text": [
      "\n"
     ]
    }
   ],
   "source": [
    "train_acc, train_loss, test_acc, test_loss = train(model, optimizer, epochs, train_loader, test_loader)"
   ]
  },
  {
   "cell_type": "code",
   "execution_count": 234,
   "metadata": {},
   "outputs": [
    {
     "name": "stderr",
     "output_type": "stream",
     "text": [
      "/var/folders/zt/lq569kjj6f5f4wqklbbzk7r40000gn/T/ipykernel_28856/2856288945.py:1: FutureWarning:\n",
      "\n",
      "You are using `torch.load` with `weights_only=False` (the current default value), which uses the default pickle module implicitly. It is possible to construct malicious pickle data which will execute arbitrary code during unpickling (See https://github.com/pytorch/pytorch/blob/main/SECURITY.md#untrusted-models for more details). In a future release, the default value for `weights_only` will be flipped to `True`. This limits the functions that could be executed during unpickling. Arbitrary objects will no longer be allowed to be loaded via this mode unless they are explicitly allowlisted by the user via `torch.serialization.add_safe_globals`. We recommend you start setting `weights_only=True` for any use case where you don't have full control of the loaded file. Please open an issue on GitHub for any issues related to this experimental feature.\n",
      "\n",
      "100%|██████████| 38/38 [00:00<00:00, 307.43it/s]"
     ]
    },
    {
     "name": "stdout",
     "output_type": "stream",
     "text": [
      "Test accuracy: 0.4833\n",
      "Test loss: 2.3677\n"
     ]
    },
    {
     "name": "stderr",
     "output_type": "stream",
     "text": [
      "\n"
     ]
    }
   ],
   "source": [
    "model = torch.load('output/Baseline.pt')\n",
    "test_acc, test_loss = test(model, test_loader)"
   ]
  },
  {
   "cell_type": "markdown",
   "metadata": {},
   "source": [
    "## Part 3: PointNet"
   ]
  },
  {
   "cell_type": "markdown",
   "metadata": {},
   "source": [
    "Now that we have a baseline to compare to, we're going to build a simplified version of PointNet which was first published in 2017 by researchers at Stanford University. You can view the original website for this publication [here](https://stanford.edu/~rqi/pointnet/). \n",
    "\n",
    "We will be slightly modifying the original architecture. The architecture described in the PointNet publication includes two modules that we will not be implementing. Namely, they are the input transform and the feature transform. We will also not be using our PointNet implementation for semantic segmentation so you can ignore that part of the architecture as well. For an architecture diagram of what we will be implementing, check the project pdf.\n",
    "\n",
    "**TODO 3**: complete `part3_pointnet.py`, use the architecture diagram in the project pdf for reference."
   ]
  },
  {
   "cell_type": "code",
   "execution_count": 235,
   "metadata": {},
   "outputs": [],
   "source": [
    "from tests.test_part3 import test_pointnet\n",
    "from vision.part3_pointnet import PointNet"
   ]
  },
  {
   "cell_type": "code",
   "execution_count": 236,
   "metadata": {},
   "outputs": [
    {
     "name": "stdout",
     "output_type": "stream",
     "text": [
      "test_pointnet():  \u001b[32m\"Correct\"\u001b[0m\n"
     ]
    }
   ],
   "source": [
    "print(\"test_pointnet(): \", verify(test_pointnet))"
   ]
  },
  {
   "cell_type": "markdown",
   "metadata": {},
   "source": [
    "Now that we have a PointNet implementation, lets train our model and see how it does. Fill in the hyper-parameters and give your new model a spin! \n",
    "\n",
    "To get full credit for this section, you will need *$\\geq$ 60% accuracy* on the test dataset. The TAs were able to consistently achieve this accuracy with ~15 epochs of training."
   ]
  },
  {
   "cell_type": "code",
   "execution_count": 237,
   "metadata": {},
   "outputs": [],
   "source": [
    "lr = 0.001\n",
    "weight_decay = 1e-4\n",
    "epochs = 10\n",
    "\n",
    "model = PointNet(classes=20)\n",
    "optimizer = optim.Adam(model.parameters(), lr=lr, weight_decay=weight_decay)"
   ]
  },
  {
   "cell_type": "code",
   "execution_count": 238,
   "metadata": {},
   "outputs": [
    {
     "name": "stdout",
     "output_type": "stream",
     "text": [
      "Epoch 1\n",
      "\n",
      "Training...\n"
     ]
    },
    {
     "name": "stderr",
     "output_type": "stream",
     "text": [
      "100%|██████████| 213/213 [00:04<00:00, 49.44it/s]\n"
     ]
    },
    {
     "name": "stdout",
     "output_type": "stream",
     "text": [
      "\n",
      "Testing...\n"
     ]
    },
    {
     "name": "stderr",
     "output_type": "stream",
     "text": [
      "100%|██████████| 38/38 [00:00<00:00, 114.44it/s]\n"
     ]
    },
    {
     "name": "stdout",
     "output_type": "stream",
     "text": [
      "\n",
      "Epoch 1 Stats:\n",
      "\tTraining accuracy: 0.4706\n",
      "\tTraining loss: 1.6656\n",
      "\tValidation accuracy: 0.4183\n",
      "\tValidation loss: 1.6865\n",
      "\n",
      "Validation accuracy improved from 0 to 0.4183333218097687\n",
      "Saving model to PointNet.pt\n",
      "\n",
      "===============================================================================\n",
      "\n",
      "Epoch 2\n",
      "\n",
      "Training...\n"
     ]
    },
    {
     "name": "stderr",
     "output_type": "stream",
     "text": [
      "100%|██████████| 213/213 [00:04<00:00, 46.13it/s]\n"
     ]
    },
    {
     "name": "stdout",
     "output_type": "stream",
     "text": [
      "\n",
      "Testing...\n"
     ]
    },
    {
     "name": "stderr",
     "output_type": "stream",
     "text": [
      "100%|██████████| 38/38 [00:00<00:00, 157.04it/s]\n"
     ]
    },
    {
     "name": "stdout",
     "output_type": "stream",
     "text": [
      "\n",
      "Epoch 2 Stats:\n",
      "\tTraining accuracy: 0.6312\n",
      "\tTraining loss: 1.1498\n",
      "\tValidation accuracy: 0.5117\n",
      "\tValidation loss: 1.4143\n",
      "\n",
      "Validation accuracy improved from 0.4183333218097687 to 0.5116666555404663\n",
      "Saving model to PointNet.pt\n",
      "\n",
      "===============================================================================\n",
      "\n",
      "Epoch 3\n",
      "\n",
      "Training...\n"
     ]
    },
    {
     "name": "stderr",
     "output_type": "stream",
     "text": [
      "100%|██████████| 213/213 [00:03<00:00, 57.46it/s]\n"
     ]
    },
    {
     "name": "stdout",
     "output_type": "stream",
     "text": [
      "\n",
      "Testing...\n"
     ]
    },
    {
     "name": "stderr",
     "output_type": "stream",
     "text": [
      "100%|██████████| 38/38 [00:00<00:00, 156.47it/s]\n"
     ]
    },
    {
     "name": "stdout",
     "output_type": "stream",
     "text": [
      "\n",
      "Epoch 3 Stats:\n",
      "\tTraining accuracy: 0.6774\n",
      "\tTraining loss: 0.9911\n",
      "\tValidation accuracy: 0.5583\n",
      "\tValidation loss: 1.3158\n",
      "\n",
      "Validation accuracy improved from 0.5116666555404663 to 0.5583333373069763\n",
      "Saving model to PointNet.pt\n",
      "\n",
      "===============================================================================\n",
      "\n",
      "Epoch 4\n",
      "\n",
      "Training...\n"
     ]
    },
    {
     "name": "stderr",
     "output_type": "stream",
     "text": [
      "100%|██████████| 213/213 [00:03<00:00, 54.50it/s]\n"
     ]
    },
    {
     "name": "stdout",
     "output_type": "stream",
     "text": [
      "\n",
      "Testing...\n"
     ]
    },
    {
     "name": "stderr",
     "output_type": "stream",
     "text": [
      "100%|██████████| 38/38 [00:00<00:00, 149.84it/s]\n"
     ]
    },
    {
     "name": "stdout",
     "output_type": "stream",
     "text": [
      "\n",
      "Epoch 4 Stats:\n",
      "\tTraining accuracy: 0.7047\n",
      "\tTraining loss: 0.8954\n",
      "\tValidation accuracy: 0.5183\n",
      "\tValidation loss: 1.5802\n",
      "\n",
      "===============================================================================\n",
      "\n",
      "Epoch 5\n",
      "\n",
      "Training...\n"
     ]
    },
    {
     "name": "stderr",
     "output_type": "stream",
     "text": [
      "100%|██████████| 213/213 [00:03<00:00, 57.04it/s]\n"
     ]
    },
    {
     "name": "stdout",
     "output_type": "stream",
     "text": [
      "\n",
      "Testing...\n"
     ]
    },
    {
     "name": "stderr",
     "output_type": "stream",
     "text": [
      "100%|██████████| 38/38 [00:00<00:00, 148.93it/s]\n"
     ]
    },
    {
     "name": "stdout",
     "output_type": "stream",
     "text": [
      "\n",
      "Epoch 5 Stats:\n",
      "\tTraining accuracy: 0.7238\n",
      "\tTraining loss: 0.8636\n",
      "\tValidation accuracy: 0.5383\n",
      "\tValidation loss: 1.4068\n",
      "\n",
      "===============================================================================\n",
      "\n",
      "Epoch 6\n",
      "\n",
      "Training...\n"
     ]
    },
    {
     "name": "stderr",
     "output_type": "stream",
     "text": [
      "100%|██████████| 213/213 [00:03<00:00, 57.33it/s]\n"
     ]
    },
    {
     "name": "stdout",
     "output_type": "stream",
     "text": [
      "\n",
      "Testing...\n"
     ]
    },
    {
     "name": "stderr",
     "output_type": "stream",
     "text": [
      "100%|██████████| 38/38 [00:00<00:00, 152.24it/s]\n"
     ]
    },
    {
     "name": "stdout",
     "output_type": "stream",
     "text": [
      "\n",
      "Epoch 6 Stats:\n",
      "\tTraining accuracy: 0.7471\n",
      "\tTraining loss: 0.7750\n",
      "\tValidation accuracy: 0.5683\n",
      "\tValidation loss: 1.4294\n",
      "\n",
      "Validation accuracy improved from 0.5583333373069763 to 0.5683333277702332\n",
      "Saving model to PointNet.pt\n",
      "\n",
      "===============================================================================\n",
      "\n",
      "Epoch 7\n",
      "\n",
      "Training...\n"
     ]
    },
    {
     "name": "stderr",
     "output_type": "stream",
     "text": [
      "100%|██████████| 213/213 [00:03<00:00, 54.37it/s]\n"
     ]
    },
    {
     "name": "stdout",
     "output_type": "stream",
     "text": [
      "\n",
      "Testing...\n"
     ]
    },
    {
     "name": "stderr",
     "output_type": "stream",
     "text": [
      "100%|██████████| 38/38 [00:00<00:00, 155.25it/s]\n"
     ]
    },
    {
     "name": "stdout",
     "output_type": "stream",
     "text": [
      "\n",
      "Epoch 7 Stats:\n",
      "\tTraining accuracy: 0.7762\n",
      "\tTraining loss: 0.7192\n",
      "\tValidation accuracy: 0.5567\n",
      "\tValidation loss: 1.2935\n",
      "\n",
      "===============================================================================\n",
      "\n",
      "Epoch 8\n",
      "\n",
      "Training...\n"
     ]
    },
    {
     "name": "stderr",
     "output_type": "stream",
     "text": [
      "100%|██████████| 213/213 [00:03<00:00, 57.41it/s]\n"
     ]
    },
    {
     "name": "stdout",
     "output_type": "stream",
     "text": [
      "\n",
      "Testing...\n"
     ]
    },
    {
     "name": "stderr",
     "output_type": "stream",
     "text": [
      "100%|██████████| 38/38 [00:00<00:00, 151.58it/s]\n"
     ]
    },
    {
     "name": "stdout",
     "output_type": "stream",
     "text": [
      "\n",
      "Epoch 8 Stats:\n",
      "\tTraining accuracy: 0.7706\n",
      "\tTraining loss: 0.7112\n",
      "\tValidation accuracy: 0.6017\n",
      "\tValidation loss: 1.3505\n",
      "\n",
      "Validation accuracy improved from 0.5683333277702332 to 0.6016666889190674\n",
      "Saving model to PointNet.pt\n",
      "\n",
      "===============================================================================\n",
      "\n",
      "Epoch 9\n",
      "\n",
      "Training...\n"
     ]
    },
    {
     "name": "stderr",
     "output_type": "stream",
     "text": [
      "100%|██████████| 213/213 [00:03<00:00, 57.85it/s]\n"
     ]
    },
    {
     "name": "stdout",
     "output_type": "stream",
     "text": [
      "\n",
      "Testing...\n"
     ]
    },
    {
     "name": "stderr",
     "output_type": "stream",
     "text": [
      "100%|██████████| 38/38 [00:00<00:00, 155.67it/s]\n"
     ]
    },
    {
     "name": "stdout",
     "output_type": "stream",
     "text": [
      "\n",
      "Epoch 9 Stats:\n",
      "\tTraining accuracy: 0.7724\n",
      "\tTraining loss: 0.6916\n",
      "\tValidation accuracy: 0.5567\n",
      "\tValidation loss: 1.2807\n",
      "\n",
      "===============================================================================\n",
      "\n",
      "Epoch 10\n",
      "\n",
      "Training...\n"
     ]
    },
    {
     "name": "stderr",
     "output_type": "stream",
     "text": [
      "100%|██████████| 213/213 [00:03<00:00, 57.24it/s]\n"
     ]
    },
    {
     "name": "stdout",
     "output_type": "stream",
     "text": [
      "\n",
      "Testing...\n"
     ]
    },
    {
     "name": "stderr",
     "output_type": "stream",
     "text": [
      "100%|██████████| 38/38 [00:00<00:00, 154.00it/s]"
     ]
    },
    {
     "name": "stdout",
     "output_type": "stream",
     "text": [
      "\n",
      "Epoch 10 Stats:\n",
      "\tTraining accuracy: 0.7888\n",
      "\tTraining loss: 0.6224\n",
      "\tValidation accuracy: 0.5783\n",
      "\tValidation loss: 1.3615\n",
      "\n",
      "===============================================================================\n",
      "\n"
     ]
    },
    {
     "name": "stderr",
     "output_type": "stream",
     "text": [
      "\n"
     ]
    }
   ],
   "source": [
    "train_acc, train_loss, test_acc, test_loss = train(model, optimizer, epochs, train_loader, test_loader, device=device)"
   ]
  },
  {
   "cell_type": "code",
   "execution_count": 239,
   "metadata": {},
   "outputs": [
    {
     "name": "stderr",
     "output_type": "stream",
     "text": [
      "/var/folders/zt/lq569kjj6f5f4wqklbbzk7r40000gn/T/ipykernel_28856/2270301145.py:1: FutureWarning:\n",
      "\n",
      "You are using `torch.load` with `weights_only=False` (the current default value), which uses the default pickle module implicitly. It is possible to construct malicious pickle data which will execute arbitrary code during unpickling (See https://github.com/pytorch/pytorch/blob/main/SECURITY.md#untrusted-models for more details). In a future release, the default value for `weights_only` will be flipped to `True`. This limits the functions that could be executed during unpickling. Arbitrary objects will no longer be allowed to be loaded via this mode unless they are explicitly allowlisted by the user via `torch.serialization.add_safe_globals`. We recommend you start setting `weights_only=True` for any use case where you don't have full control of the loaded file. Please open an issue on GitHub for any issues related to this experimental feature.\n",
      "\n",
      "100%|██████████| 38/38 [00:00<00:00, 150.30it/s]"
     ]
    },
    {
     "name": "stdout",
     "output_type": "stream",
     "text": [
      "Test accuracy: 0.6017\n",
      "Test loss: 1.3308\n"
     ]
    },
    {
     "name": "stderr",
     "output_type": "stream",
     "text": [
      "\n"
     ]
    }
   ],
   "source": [
    "model = torch.load('output/PointNet.pt', map_location='cpu')\n",
    "test_acc, test_loss = test(model, test_loader)"
   ]
  },
  {
   "cell_type": "markdown",
   "metadata": {},
   "source": [
    "## Part 4: Performance Analysis"
   ]
  },
  {
   "cell_type": "markdown",
   "metadata": {},
   "source": [
    "Now that we have a trained PointNet model, we can look at how it performs and what its shortcomings are. We are also going to analyze our point clouds to see which parts of them the model deemed to be most important in making its classification decision.\n",
    "\n",
    "**TODO 4:** complete `part4_analysis.py`"
   ]
  },
  {
   "cell_type": "code",
   "execution_count": 240,
   "metadata": {},
   "outputs": [],
   "source": [
    "from vision.utils import (\n",
    "    generate_and_plot_confusion_matrix,\n",
    "    plot_crit_points_from_file\n",
    ")\n",
    "from tests.test_part4 import (\n",
    "    test_critical_indices,\n",
    "    test_critical_indices_with_duplicates,\n",
    "    test_confusion_matrix,\n",
    "    test_confusion_matrix_normalized\n",
    ")"
   ]
  },
  {
   "cell_type": "code",
   "execution_count": 241,
   "metadata": {},
   "outputs": [
    {
     "name": "stdout",
     "output_type": "stream",
     "text": [
      "test_critical_indices():  \u001b[32m\"Correct\"\u001b[0m\n",
      "test_critical_indices_with_duplicates():  \u001b[32m\"Correct\"\u001b[0m\n",
      "test_confusion_matrix():  \u001b[32m\"Correct\"\u001b[0m\n",
      "test_confusion_matrix_normalized():  \u001b[32m\"Correct\"\u001b[0m\n"
     ]
    }
   ],
   "source": [
    "print(\"test_critical_indices(): \", verify(test_critical_indices))\n",
    "print(\"test_critical_indices_with_duplicates(): \", verify(test_critical_indices_with_duplicates))\n",
    "print(\"test_confusion_matrix(): \", verify(test_confusion_matrix))\n",
    "print(\"test_confusion_matrix_normalized(): \", verify(test_confusion_matrix_normalized))"
   ]
  },
  {
   "cell_type": "markdown",
   "metadata": {},
   "source": [
    "Lets use the confusion matrix to look at which mistakes our model is making most often."
   ]
  },
  {
   "cell_type": "code",
   "execution_count": 242,
   "metadata": {},
   "outputs": [
    {
     "data": {
      "image/png": "[encoded data removed]",
      "text/plain": [
       "<Figure size 1000x1000 with 1 Axes>"
      ]
     },
     "metadata": {},
     "output_type": "display_data"
    }
   ],
   "source": [
    "generate_and_plot_confusion_matrix(model, test_loader, 20)"
   ]
  },
  {
   "cell_type": "markdown",
   "metadata": {},
   "source": [
    "Now lets visualize the critical points calculated by our model for the predestrian clouds from before. Recall that these are the points that contributed to the global feature. Why do you think these were the critical points the model ended up using? (Feel free to use different point clouds for your analysis)"
   ]
  },
  {
   "cell_type": "code",
   "execution_count": 243,
   "metadata": {},
   "outputs": [
    {
     "data": {
      "application/vnd.plotly.v1+json": {
       "config": {
        "plotlyServerURL": "https://plot.ly"
       },
       "data": [
        {
         "line": {
          "color": "rgba(0,0,0,0)"
         },
         "marker": {
          "color": [
           "red",
           "red",
           "red",
           "red",
           "blue",
           "red",
           "red",
           "red",
           "blue",
           "red",
           "red",
           "red",
           "red",
           "red",
           "red",
           "blue",
           "red",
           "blue",
           "red",
           "red",
           "red",
           "blue",
           "blue",
           "red",
           "blue",
           "red",
           "red",
           "red",
           "blue",
           "blue",
           "red",
           "blue",
           "red",
           "red",
           "blue",
           "blue",
           "blue",
           "red",
           "blue",
           "red",
           "red",
           "red",
           "blue",
           "red",
           "red",
           "blue",
           "red",
           "blue",
           "blue",
           "red",
           "blue",
           "red",
           "red",
           "blue",
           "blue",
           "red",
           "blue",
           "red",
           "blue",
           "red",
           "blue",
           "blue",
           "blue",
           "red",
           "blue",
           "red",
           "red",
           "blue",
           "blue",
           "red",
           "blue",
           "red",
           "blue",
           "red",
           "red",
           "blue",
           "red",
           "blue",
           "blue",
           "blue",
           "blue",
           "red",
           "red",
           "red",
           "red",
           "blue",
           "red",
           "red",
           "blue",
           "blue",
           "blue",
           "blue",
           "blue",
           "blue",
           "blue",
           "red",
           "blue",
           "blue",
           "red",
           "red",
           "blue",
           "red",
           "red",
           "blue",
           "red",
           "blue",
           "red",
           "red",
           "red",
           "blue",
           "red",
           "blue",
           "blue",
           "blue",
           "red",
           "blue",
           "blue",
           "red",
           "blue",
           "red",
           "blue",
           "red",
           "blue",
           "blue",
           "blue",
           "red",
           "blue",
           "red",
           "red",
           "blue",
           "red",
           "blue",
           "red",
           "blue",
           "blue",
           "red",
           "red",
           "red",
           "red",
           "blue",
           "blue",
           "blue",
           "red",
           "red",
           "red",
           "red",
           "red",
           "red",
           "red",
           "red",
           "red",
           "red",
           "red",
           "red",
           "red",
           "red",
           "red",
           "red",
           "red",
           "red",
           "red",
           "red",
           "red",
           "red",
           "red",
           "red",
           "red",
           "red",
           "red",
           "red",
           "red",
           "red",
           "red",
           "red",
           "red",
           "red",
           "red",
           "red",
           "red",
           "red",
           "red",
           "red",
           "red",
           "red",
           "red",
           "red",
           "red",
           "red",
           "red",
           "red",
           "red",
           "red",
           "red",
           "red",
           "red",
           "red",
           "red",
           "red",
           "red",
           "red"
          ]
         },
         "scene": "scene",
         "type": "scatter3d",
         "x": [
          0.1484375,
          0.171875,
          0.1328125,
          0.1484375,
          0.203125,
          0.078125,
          0.1640625,
          0.2265625,
          0.1875,
          0.21875,
          0.1015625,
          0.078125,
          0.1171875,
          0.0859375,
          0.171875,
          0.2265625,
          0.21875,
          0.1640625,
          0.1796875,
          0.21875,
          0.2578125,
          0.1015625,
          0.1484375,
          0.1328125,
          0.2578125,
          0.109375,
          0.046875,
          0.15625,
          0.1796875,
          0.2265625,
          0.2265625,
          0.2578125,
          0.0625,
          0.2421875,
          0.109375,
          0.046875,
          0.2578125,
          0.1484375,
          0.1796875,
          -0.015625,
          0.109375,
          0.0625,
          0.1796875,
          0.28125,
          0,
          0.0859375,
          -0.0703125,
          0.109375,
          0.0078125,
          0.2265625,
          0.1953125,
          0,
          0.28125,
          0.15625,
          0.21875,
          0.2578125,
          0.0546875,
          0.015625,
          0.1796875,
          0.1875,
          0.0625,
          0.109375,
          0.0390625,
          0.2578125,
          0.1171875,
          0.2578125,
          -0.046875,
          0.0703125,
          0.140625,
          0.0078125,
          0.015625,
          0.09375,
          0.171875,
          -0.0859375,
          0.125,
          0.125,
          0.3203125,
          0.28125,
          -0.0546875,
          0.203125,
          0.015625,
          -0.0625,
          -0.140625,
          -0.1015625,
          0.28125,
          0.2265625,
          0,
          0.28125,
          0.0546875,
          -0.0234375,
          0.015625,
          0.1953125,
          0.1640625,
          0.125,
          0.0859375,
          0.0234375,
          0.1328125,
          -0.0625,
          -0.046875,
          -0.0546875,
          0.2109375,
          -0.1484375,
          -0.0703125,
          -0.0625,
          0.2890625,
          0.1796875,
          -0.078125,
          0.1328125,
          0.046875,
          0.078125,
          -0.1171875,
          0.1171875,
          0.1328125,
          0.2265625,
          -0.09375,
          0.1796875,
          0.0546875,
          0.203125,
          0.15625,
          0.1484375,
          0.078125,
          -0.078125,
          0,
          0.1328125,
          0.1875,
          0.2421875,
          0.046875,
          -0.015625,
          0.1015625,
          -0.0546875,
          -0.078125,
          0.171875,
          -0.0390625,
          -0.1171875,
          0.046875,
          0.046875,
          -0.1640625,
          0.1953125,
          -0.078125,
          0.0625,
          0.03125,
          0.0546875,
          0.1015625,
          0,
          0.109375,
          -0.1640625,
          -0.0078125,
          -0.140625,
          -0.1796875,
          0.0625,
          -0.203125,
          -0.0078125,
          -0.3203125,
          0.1484375,
          0.1484375,
          0.1484375,
          0.1484375,
          0.1484375,
          0.1484375,
          0.1484375,
          0.1484375,
          0.1484375,
          0.1484375,
          0.1484375,
          0.1484375,
          0.1484375,
          0.1484375,
          0.1484375,
          0.1484375,
          0.1484375,
          0.1484375,
          0.1484375,
          0.1484375,
          0.1484375,
          0.1484375,
          0.1484375,
          0.1484375,
          0.1484375,
          0.1484375,
          0.1484375,
          0.1484375,
          0.1484375,
          0.1484375,
          0.1484375,
          0.1484375,
          0.1484375,
          0.1484375,
          0.1484375,
          0.1484375,
          0.1484375,
          0.1484375,
          0.1484375,
          0.1484375,
          0.1484375,
          0.1484375,
          0.1484375,
          0.1484375,
          0.1484375,
          0.1484375,
          0.1484375
         ],
         "y": [
          0.140625,
          0.0859375,
          0.125,
          0.078125,
          0.0546875,
          0.1640625,
          0.09375,
          -0.0078125,
          0.03125,
          -0.0234375,
          0.1171875,
          0.1640625,
          0.1328125,
          0.1640625,
          0.015625,
          0.0078125,
          -0.03125,
          0.03125,
          0.0078125,
          -0.015625,
          -0.078125,
          0.1015625,
          0.0625,
          0.0625,
          -0.0390625,
          0.1015625,
          0.1484375,
          0.078125,
          0.015625,
          -0.0078125,
          0,
          -0.046875,
          0.1328125,
          -0.0703125,
          0.109375,
          0.1328125,
          -0.046875,
          0.0703125,
          0.0234375,
          0.2265625,
          0.109375,
          0.1484375,
          0.0234375,
          -0.1015625,
          0.1640625,
          0.0859375,
          0.25,
          0.0234375,
          0.1796875,
          -0.1015625,
          -0.0390625,
          0.1640625,
          -0.1015625,
          0,
          -0.046875,
          -0.1171875,
          0.140625,
          0.171875,
          -0.0078125,
          -0.046875,
          0.1171875,
          0.0546875,
          0.1171875,
          -0.1484375,
          0.03125,
          -0.109375,
          0.203125,
          0.0859375,
          0.0078125,
          0.171875,
          0.1484375,
          0.0625,
          -0.0390625,
          0.234375,
          -0.03125,
          0.015625,
          -0.203125,
          -0.1640625,
          0.1875,
          -0.0859375,
          0.1171875,
          0.203125,
          0.25,
          0.21875,
          -0.171875,
          -0.1171875,
          0.0703125,
          -0.171875,
          0.0703125,
          0.15625,
          0.109375,
          -0.1171875,
          -0.0546875,
          -0.015625,
          0.0234375,
          0.0234375,
          -0.0234375,
          0.1640625,
          0.125,
          0.1328125,
          -0.15625,
          0.1953125,
          0.109375,
          0.09375,
          -0.234375,
          -0.109375,
          0.171875,
          -0.0234375,
          -0.03125,
          0.0078125,
          0.1484375,
          -0.0234375,
          -0.0546875,
          -0.1796875,
          0.1640625,
          -0.1171875,
          0.015625,
          -0.1875,
          -0.109375,
          -0.078125,
          -0.03125,
          0.046875,
          0.046875,
          -0.0859375,
          -0.1796875,
          -0.25,
          -0.0078125,
          -0.046875,
          -0.046875,
          -0.0078125,
          0.0234375,
          -0.171875,
          -0.0234375,
          0.0625,
          -0.015625,
          -0.015625,
          0.0859375,
          -0.2421875,
          0.0546875,
          -0.078125,
          -0.046875,
          -0.09375,
          -0.1171875,
          -0.0625,
          -0.1953125,
          -0.0390625,
          -0.0859375,
          -0.09375,
          -0.0625,
          -0.234375,
          -0.0703125,
          -0.15625,
          -0.1015625,
          0.140625,
          0.140625,
          0.140625,
          0.140625,
          0.140625,
          0.140625,
          0.140625,
          0.140625,
          0.140625,
          0.140625,
          0.140625,
          0.140625,
          0.140625,
          0.140625,
          0.140625,
          0.140625,
          0.140625,
          0.140625,
          0.140625,
          0.140625,
          0.140625,
          0.140625,
          0.140625,
          0.140625,
          0.140625,
          0.140625,
          0.140625,
          0.140625,
          0.140625,
          0.140625,
          0.140625,
          0.140625,
          0.140625,
          0.140625,
          0.140625,
          0.140625,
          0.140625,
          0.140625,
          0.140625,
          0.140625,
          0.140625,
          0.140625,
          0.140625,
          0.140625,
          0.140625,
          0.140625,
          0.140625
         ],
         "z": [
          0.1502685546875,
          0.0506591796875,
          0.0501708984375,
          -0.1265869140625,
          0.3328857421875,
          0.0491943359375,
          0.3328857421875,
          -0.0430908203125,
          -0.0435791015625,
          -0.4195556640625,
          -0.1270751953125,
          0.1483154296875,
          0.3319091796875,
          0.3319091796875,
          -0.4205322265625,
          0.3328857421875,
          -0.2325439453125,
          -0.1270751953125,
          -0.2330322265625,
          0.0491943359375,
          -0.2325439453125,
          -0.0450439453125,
          0.1419677734375,
          -0.0450439453125,
          0.3328857421875,
          0.1414794921875,
          -0.1285400390625,
          0.4237060546875,
          0.1419677734375,
          0.4237060546875,
          0.5155029296875,
          0.4246826171875,
          0.1405029296875,
          0.0487060546875,
          0.4237060546875,
          -0.0465087890625,
          0.5155029296875,
          0.5145263671875,
          0.4237060546875,
          0.3309326171875,
          0.5145263671875,
          0.4227294921875,
          0.5145263671875,
          0.4237060546875,
          0.0457763671875,
          0.2337646484375,
          0.1453857421875,
          -0.2364501953125,
          0.3309326171875,
          -0.1417236328125,
          0.2342529296875,
          0.1395263671875,
          0.5155029296875,
          0.2342529296875,
          0.4227294921875,
          0.1478271484375,
          0.5145263671875,
          0.4227294921875,
          0.4217529296875,
          0.1405029296875,
          0.4217529296875,
          0.3280029296875,
          0.2332763671875,
          -0.1422119140625,
          0.2337646484375,
          0.3319091796875,
          0.1453857421875,
          0.3280029296875,
          0.3280029296875,
          0.5135498046875,
          0.4207763671875,
          0.4217529296875,
          0.3280029296875,
          0.2318115234375,
          -0.1441650390625,
          0.4217529296875,
          0.3319091796875,
          0.3309326171875,
          0.2318115234375,
          0.3280029296875,
          0.3270263671875,
          0.3270263671875,
          -0.1475830078125,
          0.1370849609375,
          0.4227294921875,
          0.4207763671875,
          -0.1466064453125,
          0.5145263671875,
          0.5145263671875,
          0.5135498046875,
          0.5145263671875,
          0.2322998046875,
          0.5145263671875,
          0.5145263671875,
          0.5145263671875,
          -0.1475830078125,
          0.6053466796875,
          0.4197998046875,
          0.2303466796875,
          0.3250732421875,
          0.3270263671875,
          -0.1363525390625,
          -0.0528564453125,
          -0.1490478515625,
          0.4227294921875,
          0.5145263671875,
          0.5135498046875,
          0.7899169921875,
          -0.1485595703125,
          0.6053466796875,
          -0.1363525390625,
          0.6981201171875,
          0.6072998046875,
          0.4197998046875,
          0.4197998046875,
          0.6053466796875,
          0.6072998046875,
          0.2308349609375,
          0.6072998046875,
          0.7899169921875,
          0.6072998046875,
          -0.510986328125,
          0.6063232421875,
          0.6981201171875,
          0.5135498046875,
          0.4188232421875,
          0.6981201171875,
          -0.51171875,
          0.8817138671875,
          -0.51220703125,
          -0.2469482421875,
          0.6072998046875,
          -0.2464599609375,
          -0.2474365234375,
          0.7899169921875,
          0.8817138671875,
          -0.2491455078125,
          0.5125732421875,
          0.6053466796875,
          0.7957763671875,
          0.7947998046875,
          0.7010498046875,
          0.8826904296875,
          0.7010498046875,
          0.7010498046875,
          -0.63665771484375,
          0.8895263671875,
          -0.63739013671875,
          -0.8753662109375,
          0.7947998046875,
          -0.4495849609375,
          0.8895263671875,
          -0.8895263671875,
          0.1502685546875,
          0.1502685546875,
          0.1502685546875,
          0.1502685546875,
          0.1502685546875,
          0.1502685546875,
          0.1502685546875,
          0.1502685546875,
          0.1502685546875,
          0.1502685546875,
          0.1502685546875,
          0.1502685546875,
          0.1502685546875,
          0.1502685546875,
          0.1502685546875,
          0.1502685546875,
          0.1502685546875,
          0.1502685546875,
          0.1502685546875,
          0.1502685546875,
          0.1502685546875,
          0.1502685546875,
          0.1502685546875,
          0.1502685546875,
          0.1502685546875,
          0.1502685546875,
          0.1502685546875,
          0.1502685546875,
          0.1502685546875,
          0.1502685546875,
          0.1502685546875,
          0.1502685546875,
          0.1502685546875,
          0.1502685546875,
          0.1502685546875,
          0.1502685546875,
          0.1502685546875,
          0.1502685546875,
          0.1502685546875,
          0.1502685546875,
          0.1502685546875,
          0.1502685546875,
          0.1502685546875,
          0.1502685546875,
          0.1502685546875,
          0.1502685546875,
          0.1502685546875
         ]
        },
        {
         "line": {
          "color": "rgba(0,0,0,0)"
         },
         "marker": {
          "color": "red"
         },
         "scene": "scene2",
         "type": "scatter3d",
         "x": [
          0.1484375,
          0.171875,
          0.1328125,
          0.1484375,
          0.078125,
          0.1640625,
          0.2265625,
          0.21875,
          0.1015625,
          0.078125,
          0.1171875,
          0.0859375,
          0.171875,
          0.21875,
          0.1796875,
          0.21875,
          0.2578125,
          0.1328125,
          0.109375,
          0.046875,
          0.15625,
          0.2265625,
          0.0625,
          0.2421875,
          0.1484375,
          -0.015625,
          0.109375,
          0.0625,
          0.28125,
          0,
          -0.0703125,
          0.2265625,
          0,
          0.28125,
          0.2578125,
          0.015625,
          0.1875,
          0.2578125,
          0.2578125,
          -0.046875,
          0.0078125,
          0.09375,
          -0.0859375,
          0.125,
          0.3203125,
          -0.0625,
          -0.140625,
          -0.1015625,
          0.28125,
          0,
          0.28125,
          0.0234375,
          -0.046875,
          -0.0546875,
          -0.1484375,
          -0.0703125,
          0.2890625,
          -0.078125,
          0.1328125,
          0.046875,
          -0.1171875,
          -0.09375,
          0.203125,
          0.1484375,
          -0.078125,
          0.2421875,
          -0.015625,
          0.1015625,
          -0.078125,
          -0.0390625,
          0.046875,
          -0.1640625,
          0.1953125,
          -0.078125,
          0.1015625,
          0,
          0.109375,
          -0.1640625,
          -0.0078125,
          -0.140625,
          -0.1796875,
          0.0625,
          -0.203125,
          -0.0078125,
          -0.3203125,
          0.1484375,
          0.1484375,
          0.1484375,
          0.1484375,
          0.1484375,
          0.1484375,
          0.1484375,
          0.1484375,
          0.1484375,
          0.1484375,
          0.1484375,
          0.1484375,
          0.1484375,
          0.1484375,
          0.1484375,
          0.1484375,
          0.1484375,
          0.1484375,
          0.1484375,
          0.1484375,
          0.1484375,
          0.1484375,
          0.1484375,
          0.1484375,
          0.1484375,
          0.1484375,
          0.1484375,
          0.1484375,
          0.1484375,
          0.1484375,
          0.1484375,
          0.1484375,
          0.1484375,
          0.1484375,
          0.1484375,
          0.1484375,
          0.1484375,
          0.1484375,
          0.1484375,
          0.1484375,
          0.1484375,
          0.1484375,
          0.1484375,
          0.1484375,
          0.1484375,
          0.1484375,
          0.1484375
         ],
         "y": [
          0.140625,
          0.0859375,
          0.125,
          0.078125,
          0.1640625,
          0.09375,
          -0.0078125,
          -0.0234375,
          0.1171875,
          0.1640625,
          0.1328125,
          0.1640625,
          0.015625,
          -0.03125,
          0.0078125,
          -0.015625,
          -0.078125,
          0.0625,
          0.1015625,
          0.1484375,
          0.078125,
          0,
          0.1328125,
          -0.0703125,
          0.0703125,
          0.2265625,
          0.109375,
          0.1484375,
          -0.1015625,
          0.1640625,
          0.25,
          -0.1015625,
          0.1640625,
          -0.1015625,
          -0.1171875,
          0.171875,
          -0.046875,
          -0.1484375,
          -0.109375,
          0.203125,
          0.171875,
          0.0625,
          0.234375,
          -0.03125,
          -0.203125,
          0.203125,
          0.25,
          0.21875,
          -0.171875,
          0.0703125,
          -0.171875,
          0.0234375,
          0.125,
          0.1328125,
          0.1953125,
          0.109375,
          -0.234375,
          0.171875,
          -0.0234375,
          -0.03125,
          0.1484375,
          0.1640625,
          -0.1875,
          -0.078125,
          0.046875,
          -0.25,
          -0.046875,
          -0.046875,
          0.0234375,
          -0.0234375,
          -0.015625,
          0.0859375,
          -0.2421875,
          0.0546875,
          -0.1171875,
          -0.0625,
          -0.1953125,
          -0.0390625,
          -0.0859375,
          -0.09375,
          -0.0625,
          -0.234375,
          -0.0703125,
          -0.15625,
          -0.1015625,
          0.140625,
          0.140625,
          0.140625,
          0.140625,
          0.140625,
          0.140625,
          0.140625,
          0.140625,
          0.140625,
          0.140625,
          0.140625,
          0.140625,
          0.140625,
          0.140625,
          0.140625,
          0.140625,
          0.140625,
          0.140625,
          0.140625,
          0.140625,
          0.140625,
          0.140625,
          0.140625,
          0.140625,
          0.140625,
          0.140625,
          0.140625,
          0.140625,
          0.140625,
          0.140625,
          0.140625,
          0.140625,
          0.140625,
          0.140625,
          0.140625,
          0.140625,
          0.140625,
          0.140625,
          0.140625,
          0.140625,
          0.140625,
          0.140625,
          0.140625,
          0.140625,
          0.140625,
          0.140625,
          0.140625
         ],
         "z": [
          0.1502685546875,
          0.0506591796875,
          0.0501708984375,
          -0.1265869140625,
          0.0491943359375,
          0.3328857421875,
          -0.0430908203125,
          -0.4195556640625,
          -0.1270751953125,
          0.1483154296875,
          0.3319091796875,
          0.3319091796875,
          -0.4205322265625,
          -0.2325439453125,
          -0.2330322265625,
          0.0491943359375,
          -0.2325439453125,
          -0.0450439453125,
          0.1414794921875,
          -0.1285400390625,
          0.4237060546875,
          0.5155029296875,
          0.1405029296875,
          0.0487060546875,
          0.5145263671875,
          0.3309326171875,
          0.5145263671875,
          0.4227294921875,
          0.4237060546875,
          0.0457763671875,
          0.1453857421875,
          -0.1417236328125,
          0.1395263671875,
          0.5155029296875,
          0.1478271484375,
          0.4227294921875,
          0.1405029296875,
          -0.1422119140625,
          0.3319091796875,
          0.1453857421875,
          0.5135498046875,
          0.4217529296875,
          0.2318115234375,
          -0.1441650390625,
          0.3319091796875,
          0.3270263671875,
          -0.1475830078125,
          0.1370849609375,
          0.4227294921875,
          -0.1466064453125,
          0.5145263671875,
          -0.1475830078125,
          0.2303466796875,
          0.3250732421875,
          -0.1363525390625,
          -0.0528564453125,
          0.4227294921875,
          0.5135498046875,
          0.7899169921875,
          -0.1485595703125,
          -0.1363525390625,
          0.4197998046875,
          0.2308349609375,
          0.7899169921875,
          -0.510986328125,
          0.4188232421875,
          -0.51171875,
          0.8817138671875,
          -0.2469482421875,
          -0.2464599609375,
          0.8817138671875,
          -0.2491455078125,
          0.5125732421875,
          0.6053466796875,
          0.8826904296875,
          0.7010498046875,
          0.7010498046875,
          -0.63665771484375,
          0.8895263671875,
          -0.63739013671875,
          -0.8753662109375,
          0.7947998046875,
          -0.4495849609375,
          0.8895263671875,
          -0.8895263671875,
          0.1502685546875,
          0.1502685546875,
          0.1502685546875,
          0.1502685546875,
          0.1502685546875,
          0.1502685546875,
          0.1502685546875,
          0.1502685546875,
          0.1502685546875,
          0.1502685546875,
          0.1502685546875,
          0.1502685546875,
          0.1502685546875,
          0.1502685546875,
          0.1502685546875,
          0.1502685546875,
          0.1502685546875,
          0.1502685546875,
          0.1502685546875,
          0.1502685546875,
          0.1502685546875,
          0.1502685546875,
          0.1502685546875,
          0.1502685546875,
          0.1502685546875,
          0.1502685546875,
          0.1502685546875,
          0.1502685546875,
          0.1502685546875,
          0.1502685546875,
          0.1502685546875,
          0.1502685546875,
          0.1502685546875,
          0.1502685546875,
          0.1502685546875,
          0.1502685546875,
          0.1502685546875,
          0.1502685546875,
          0.1502685546875,
          0.1502685546875,
          0.1502685546875,
          0.1502685546875,
          0.1502685546875,
          0.1502685546875,
          0.1502685546875,
          0.1502685546875,
          0.1502685546875
         ]
        }
       ],
       "layout": {
        "annotations": [
         {
          "font": {
           "size": 16
          },
          "showarrow": false,
          "text": "All Points",
          "x": 0.225,
          "xanchor": "center",
          "xref": "paper",
          "y": 1,
          "yanchor": "bottom",
          "yref": "paper"
         },
         {
          "font": {
           "size": 16
          },
          "showarrow": false,
          "text": "Critical Points",
          "x": 0.775,
          "xanchor": "center",
          "xref": "paper",
          "y": 1,
          "yanchor": "bottom",
          "yref": "paper"
         }
        ],
        "scene": {
         "domain": {
          "x": [
           0,
           0.45
          ],
          "y": [
           0,
           1
          ]
         }
        },
        "scene2": {
         "domain": {
          "x": [
           0.55,
           1
          ],
          "y": [
           0,
           1
          ]
         }
        },
        "template": {
         "data": {
          "bar": [
           {
            "error_x": {
             "color": "#2a3f5f"
            },
            "error_y": {
             "color": "#2a3f5f"
            },
            "marker": {
             "line": {
              "color": "#E5ECF6",
              "width": 0.5
             },
             "pattern": {
              "fillmode": "overlay",
              "size": 10,
              "solidity": 0.2
             }
            },
            "type": "bar"
           }
          ],
          "barpolar": [
           {
            "marker": {
             "line": {
              "color": "#E5ECF6",
              "width": 0.5
             },
             "pattern": {
              "fillmode": "overlay",
              "size": 10,
              "solidity": 0.2
             }
            },
            "type": "barpolar"
           }
          ],
          "carpet": [
           {
            "aaxis": {
             "endlinecolor": "#2a3f5f",
             "gridcolor": "white",
             "linecolor": "white",
             "minorgridcolor": "white",
             "startlinecolor": "#2a3f5f"
            },
            "baxis": {
             "endlinecolor": "#2a3f5f",
             "gridcolor": "white",
             "linecolor": "white",
             "minorgridcolor": "white",
             "startlinecolor": "#2a3f5f"
            },
            "type": "carpet"
           }
          ],
          "choropleth": [
           {
            "colorbar": {
             "outlinewidth": 0,
             "ticks": ""
            },
            "type": "choropleth"
           }
          ],
          "contour": [
           {
            "colorbar": {
             "outlinewidth": 0,
             "ticks": ""
            },
            "colorscale": [
             [
              0,
              "#0d0887"
             ],
             [
              0.1111111111111111,
              "#46039f"
             ],
             [
              0.2222222222222222,
              "#7201a8"
             ],
             [
              0.3333333333333333,
              "#9c179e"
             ],
             [
              0.4444444444444444,
              "#bd3786"
             ],
             [
              0.5555555555555556,
              "#d8576b"
             ],
             [
              0.6666666666666666,
              "#ed7953"
             ],
             [
              0.7777777777777778,
              "#fb9f3a"
             ],
             [
              0.8888888888888888,
              "#fdca26"
             ],
             [
              1,
              "#f0f921"
             ]
            ],
            "type": "contour"
           }
          ],
          "contourcarpet": [
           {
            "colorbar": {
             "outlinewidth": 0,
             "ticks": ""
            },
            "type": "contourcarpet"
           }
          ],
          "heatmap": [
           {
            "colorbar": {
             "outlinewidth": 0,
             "ticks": ""
            },
            "colorscale": [
             [
              0,
              "#0d0887"
             ],
             [
              0.1111111111111111,
              "#46039f"
             ],
             [
              0.2222222222222222,
              "#7201a8"
             ],
             [
              0.3333333333333333,
              "#9c179e"
             ],
             [
              0.4444444444444444,
              "#bd3786"
             ],
             [
              0.5555555555555556,
              "#d8576b"
             ],
             [
              0.6666666666666666,
              "#ed7953"
             ],
             [
              0.7777777777777778,
              "#fb9f3a"
             ],
             [
              0.8888888888888888,
              "#fdca26"
             ],
             [
              1,
              "#f0f921"
             ]
            ],
            "type": "heatmap"
           }
          ],
          "heatmapgl": [
           {
            "colorbar": {
             "outlinewidth": 0,
             "ticks": ""
            },
            "colorscale": [
             [
              0,
              "#0d0887"
             ],
             [
              0.1111111111111111,
              "#46039f"
             ],
             [
              0.2222222222222222,
              "#7201a8"
             ],
             [
              0.3333333333333333,
              "#9c179e"
             ],
             [
              0.4444444444444444,
              "#bd3786"
             ],
             [
              0.5555555555555556,
              "#d8576b"
             ],
             [
              0.6666666666666666,
              "#ed7953"
             ],
             [
              0.7777777777777778,
              "#fb9f3a"
             ],
             [
              0.8888888888888888,
              "#fdca26"
             ],
             [
              1,
              "#f0f921"
             ]
            ],
            "type": "heatmapgl"
           }
          ],
          "histogram": [
           {
            "marker": {
             "pattern": {
              "fillmode": "overlay",
              "size": 10,
              "solidity": 0.2
             }
            },
            "type": "histogram"
           }
          ],
          "histogram2d": [
           {
            "colorbar": {
             "outlinewidth": 0,
             "ticks": ""
            },
            "colorscale": [
             [
              0,
              "#0d0887"
             ],
             [
              0.1111111111111111,
              "#46039f"
             ],
             [
              0.2222222222222222,
              "#7201a8"
             ],
             [
              0.3333333333333333,
              "#9c179e"
             ],
             [
              0.4444444444444444,
              "#bd3786"
             ],
             [
              0.5555555555555556,
              "#d8576b"
             ],
             [
              0.6666666666666666,
              "#ed7953"
             ],
             [
              0.7777777777777778,
              "#fb9f3a"
             ],
             [
              0.8888888888888888,
              "#fdca26"
             ],
             [
              1,
              "#f0f921"
             ]
            ],
            "type": "histogram2d"
           }
          ],
          "histogram2dcontour": [
           {
            "colorbar": {
             "outlinewidth": 0,
             "ticks": ""
            },
            "colorscale": [
             [
              0,
              "#0d0887"
             ],
             [
              0.1111111111111111,
              "#46039f"
             ],
             [
              0.2222222222222222,
              "#7201a8"
             ],
             [
              0.3333333333333333,
              "#9c179e"
             ],
             [
              0.4444444444444444,
              "#bd3786"
             ],
             [
              0.5555555555555556,
              "#d8576b"
             ],
             [
              0.6666666666666666,
              "#ed7953"
             ],
             [
              0.7777777777777778,
              "#fb9f3a"
             ],
             [
              0.8888888888888888,
              "#fdca26"
             ],
             [
              1,
              "#f0f921"
             ]
            ],
            "type": "histogram2dcontour"
           }
          ],
          "mesh3d": [
           {
            "colorbar": {
             "outlinewidth": 0,
             "ticks": ""
            },
            "type": "mesh3d"
           }
          ],
          "parcoords": [
           {
            "line": {
             "colorbar": {
              "outlinewidth": 0,
              "ticks": ""
             }
            },
            "type": "parcoords"
           }
          ],
          "pie": [
           {
            "automargin": true,
            "type": "pie"
           }
          ],
          "scatter": [
           {
            "fillpattern": {
             "fillmode": "overlay",
             "size": 10,
             "solidity": 0.2
            },
            "type": "scatter"
           }
          ],
          "scatter3d": [
           {
            "line": {
             "colorbar": {
              "outlinewidth": 0,
              "ticks": ""
             }
            },
            "marker": {
             "colorbar": {
              "outlinewidth": 0,
              "ticks": ""
             }
            },
            "type": "scatter3d"
           }
          ],
          "scattercarpet": [
           {
            "marker": {
             "colorbar": {
              "outlinewidth": 0,
              "ticks": ""
             }
            },
            "type": "scattercarpet"
           }
          ],
          "scattergeo": [
           {
            "marker": {
             "colorbar": {
              "outlinewidth": 0,
              "ticks": ""
             }
            },
            "type": "scattergeo"
           }
          ],
          "scattergl": [
           {
            "marker": {
             "colorbar": {
              "outlinewidth": 0,
              "ticks": ""
             }
            },
            "type": "scattergl"
           }
          ],
          "scattermapbox": [
           {
            "marker": {
             "colorbar": {
              "outlinewidth": 0,
              "ticks": ""
             }
            },
            "type": "scattermapbox"
           }
          ],
          "scatterpolar": [
           {
            "marker": {
             "colorbar": {
              "outlinewidth": 0,
              "ticks": ""
             }
            },
            "type": "scatterpolar"
           }
          ],
          "scatterpolargl": [
           {
            "marker": {
             "colorbar": {
              "outlinewidth": 0,
              "ticks": ""
             }
            },
            "type": "scatterpolargl"
           }
          ],
          "scatterternary": [
           {
            "marker": {
             "colorbar": {
              "outlinewidth": 0,
              "ticks": ""
             }
            },
            "type": "scatterternary"
           }
          ],
          "surface": [
           {
            "colorbar": {
             "outlinewidth": 0,
             "ticks": ""
            },
            "colorscale": [
             [
              0,
              "#0d0887"
             ],
             [
              0.1111111111111111,
              "#46039f"
             ],
             [
              0.2222222222222222,
              "#7201a8"
             ],
             [
              0.3333333333333333,
              "#9c179e"
             ],
             [
              0.4444444444444444,
              "#bd3786"
             ],
             [
              0.5555555555555556,
              "#d8576b"
             ],
             [
              0.6666666666666666,
              "#ed7953"
             ],
             [
              0.7777777777777778,
              "#fb9f3a"
             ],
             [
              0.8888888888888888,
              "#fdca26"
             ],
             [
              1,
              "#f0f921"
             ]
            ],
            "type": "surface"
           }
          ],
          "table": [
           {
            "cells": {
             "fill": {
              "color": "#EBF0F8"
             },
             "line": {
              "color": "white"
             }
            },
            "header": {
             "fill": {
              "color": "#C8D4E3"
             },
             "line": {
              "color": "white"
             }
            },
            "type": "table"
           }
          ]
         },
         "layout": {
          "annotationdefaults": {
           "arrowcolor": "#2a3f5f",
           "arrowhead": 0,
           "arrowwidth": 1
          },
          "autotypenumbers": "strict",
          "coloraxis": {
           "colorbar": {
            "outlinewidth": 0,
            "ticks": ""
           }
          },
          "colorscale": {
           "diverging": [
            [
             0,
             "#8e0152"
            ],
            [
             0.1,
             "#c51b7d"
            ],
            [
             0.2,
             "#de77ae"
            ],
            [
             0.3,
             "#f1b6da"
            ],
            [
             0.4,
             "#fde0ef"
            ],
            [
             0.5,
             "#f7f7f7"
            ],
            [
             0.6,
             "#e6f5d0"
            ],
            [
             0.7,
             "#b8e186"
            ],
            [
             0.8,
             "#7fbc41"
            ],
            [
             0.9,
             "#4d9221"
            ],
            [
             1,
             "#276419"
            ]
           ],
           "sequential": [
            [
             0,
             "#0d0887"
            ],
            [
             0.1111111111111111,
             "#46039f"
            ],
            [
             0.2222222222222222,
             "#7201a8"
            ],
            [
             0.3333333333333333,
             "#9c179e"
            ],
            [
             0.4444444444444444,
             "#bd3786"
            ],
            [
             0.5555555555555556,
             "#d8576b"
            ],
            [
             0.6666666666666666,
             "#ed7953"
            ],
            [
             0.7777777777777778,
             "#fb9f3a"
            ],
            [
             0.8888888888888888,
             "#fdca26"
            ],
            [
             1,
             "#f0f921"
            ]
           ],
           "sequentialminus": [
            [
             0,
             "#0d0887"
            ],
            [
             0.1111111111111111,
             "#46039f"
            ],
            [
             0.2222222222222222,
             "#7201a8"
            ],
            [
             0.3333333333333333,
             "#9c179e"
            ],
            [
             0.4444444444444444,
             "#bd3786"
            ],
            [
             0.5555555555555556,
             "#d8576b"
            ],
            [
             0.6666666666666666,
             "#ed7953"
            ],
            [
             0.7777777777777778,
             "#fb9f3a"
            ],
            [
             0.8888888888888888,
             "#fdca26"
            ],
            [
             1,
             "#f0f921"
            ]
           ]
          },
          "colorway": [
           "#636efa",
           "#EF553B",
           "#00cc96",
           "#ab63fa",
           "#FFA15A",
           "#19d3f3",
           "#FF6692",
           "#B6E880",
           "#FF97FF",
           "#FECB52"
          ],
          "font": {
           "color": "#2a3f5f"
          },
          "geo": {
           "bgcolor": "white",
           "lakecolor": "white",
           "landcolor": "#E5ECF6",
           "showlakes": true,
           "showland": true,
           "subunitcolor": "white"
          },
          "hoverlabel": {
           "align": "left"
          },
          "hovermode": "closest",
          "mapbox": {
           "style": "light"
          },
          "paper_bgcolor": "white",
          "plot_bgcolor": "#E5ECF6",
          "polar": {
           "angularaxis": {
            "gridcolor": "white",
            "linecolor": "white",
            "ticks": ""
           },
           "bgcolor": "#E5ECF6",
           "radialaxis": {
            "gridcolor": "white",
            "linecolor": "white",
            "ticks": ""
           }
          },
          "scene": {
           "xaxis": {
            "backgroundcolor": "#E5ECF6",
            "gridcolor": "white",
            "gridwidth": 2,
            "linecolor": "white",
            "showbackground": true,
            "ticks": "",
            "zerolinecolor": "white"
           },
           "yaxis": {
            "backgroundcolor": "#E5ECF6",
            "gridcolor": "white",
            "gridwidth": 2,
            "linecolor": "white",
            "showbackground": true,
            "ticks": "",
            "zerolinecolor": "white"
           },
           "zaxis": {
            "backgroundcolor": "#E5ECF6",
            "gridcolor": "white",
            "gridwidth": 2,
            "linecolor": "white",
            "showbackground": true,
            "ticks": "",
            "zerolinecolor": "white"
           }
          },
          "shapedefaults": {
           "line": {
            "color": "#2a3f5f"
           }
          },
          "ternary": {
           "aaxis": {
            "gridcolor": "white",
            "linecolor": "white",
            "ticks": ""
           },
           "baxis": {
            "gridcolor": "white",
            "linecolor": "white",
            "ticks": ""
           },
           "bgcolor": "#E5ECF6",
           "caxis": {
            "gridcolor": "white",
            "linecolor": "white",
            "ticks": ""
           }
          },
          "title": {
           "x": 0.05
          },
          "xaxis": {
           "automargin": true,
           "gridcolor": "white",
           "linecolor": "white",
           "ticks": "",
           "title": {
            "standoff": 15
           },
           "zerolinecolor": "white",
           "zerolinewidth": 2
          },
          "yaxis": {
           "automargin": true,
           "gridcolor": "white",
           "linecolor": "white",
           "ticks": "",
           "title": {
            "standoff": 15
           },
           "zerolinecolor": "white",
           "zerolinewidth": 2
          }
         }
        }
       }
      }
     },
     "metadata": {},
     "output_type": "display_data"
    }
   ],
   "source": [
    "plot_crit_points_from_file(model, 'data/sweeps/PEDESTRIAN/11.txt', 200)"
   ]
  },
  {
   "cell_type": "markdown",
   "metadata": {},
   "source": [
    "## Part 5: T-Net"
   ]
  },
  {
   "cell_type": "markdown",
   "metadata": {},
   "source": [
    "Our basic PointNet model does pretty well. But let's see if we can do any better. One proposed solution to improve on the shortcomings of the basic PointNet model is using a T-Net (see pdf for more details). \n",
    "\n",
    "**TODO 5:** complete `part5_tnet.py`"
   ]
  },
  {
   "cell_type": "code",
   "execution_count": 244,
   "metadata": {},
   "outputs": [],
   "source": [
    "from vision.part5_tnet import PointNetTNet\n",
    "from tests.test_part5 import (\n",
    "    test_tnet_shapes,\n",
    "    test_pointnet_tnet\n",
    ")"
   ]
  },
  {
   "cell_type": "code",
   "execution_count": 245,
   "metadata": {},
   "outputs": [
    {
     "name": "stdout",
     "output_type": "stream",
     "text": [
      "test_tnet_shapes():  \u001b[32m\"Correct\"\u001b[0m\n",
      "test_pointnet_tnet():  \u001b[32m\"Correct\"\u001b[0m\n"
     ]
    }
   ],
   "source": [
    "print(\"test_tnet_shapes(): \", verify(test_tnet_shapes))\n",
    "print(\"test_pointnet_tnet(): \", verify(test_pointnet_tnet))"
   ]
  },
  {
   "cell_type": "markdown",
   "metadata": {},
   "source": [
    "Let's check out how our model performs now that we added a T-Net.\n",
    "\n",
    "To get full credit for this section, you will need *$\\geq$ 65% accuracy* on the test dataset. The TAs were able to consistently achieve this accuracy with ~10 epochs of training.\n",
    "\n",
    "*Hint: You may need to play around with the number of layers in the T-Net*"
   ]
  },
  {
   "cell_type": "code",
   "execution_count": 246,
   "metadata": {},
   "outputs": [],
   "source": [
    "lr = 0.002\n",
    "weight_decay = 1e-4\n",
    "epochs = 10\n",
    "\n",
    "model = PointNetTNet(classes=20)\n",
    "optimizer = optim.Adam(model.parameters(), lr=lr, weight_decay=weight_decay)"
   ]
  },
  {
   "cell_type": "code",
   "execution_count": 247,
   "metadata": {},
   "outputs": [
    {
     "name": "stdout",
     "output_type": "stream",
     "text": [
      "Epoch 1\n",
      "\n",
      "Training...\n"
     ]
    },
    {
     "name": "stderr",
     "output_type": "stream",
     "text": [
      "100%|██████████| 213/213 [00:06<00:00, 30.62it/s]\n"
     ]
    },
    {
     "name": "stdout",
     "output_type": "stream",
     "text": [
      "\n",
      "Testing...\n"
     ]
    },
    {
     "name": "stderr",
     "output_type": "stream",
     "text": [
      "100%|██████████| 38/38 [00:00<00:00, 90.23it/s]\n"
     ]
    },
    {
     "name": "stdout",
     "output_type": "stream",
     "text": [
      "\n",
      "Epoch 1 Stats:\n",
      "\tTraining accuracy: 0.3306\n",
      "\tTraining loss: 1.9451\n",
      "\tValidation accuracy: 0.2450\n",
      "\tValidation loss: 1.9826\n",
      "\n",
      "Validation accuracy improved from 0 to 0.24500000476837158\n",
      "Saving model to PointNetTNet.pt\n",
      "\n",
      "===============================================================================\n",
      "\n",
      "Epoch 2\n",
      "\n",
      "Training...\n"
     ]
    },
    {
     "name": "stderr",
     "output_type": "stream",
     "text": [
      "100%|██████████| 213/213 [00:07<00:00, 29.15it/s]\n"
     ]
    },
    {
     "name": "stdout",
     "output_type": "stream",
     "text": [
      "\n",
      "Testing...\n"
     ]
    },
    {
     "name": "stderr",
     "output_type": "stream",
     "text": [
      "100%|██████████| 38/38 [00:00<00:00, 82.23it/s]\n"
     ]
    },
    {
     "name": "stdout",
     "output_type": "stream",
     "text": [
      "\n",
      "Epoch 2 Stats:\n",
      "\tTraining accuracy: 0.5588\n",
      "\tTraining loss: 1.3394\n",
      "\tValidation accuracy: 0.4100\n",
      "\tValidation loss: 1.5995\n",
      "\n",
      "Validation accuracy improved from 0.24500000476837158 to 0.4099999964237213\n",
      "Saving model to PointNetTNet.pt\n",
      "\n",
      "===============================================================================\n",
      "\n",
      "Epoch 3\n",
      "\n",
      "Training...\n"
     ]
    },
    {
     "name": "stderr",
     "output_type": "stream",
     "text": [
      "100%|██████████| 213/213 [00:06<00:00, 30.78it/s]\n"
     ]
    },
    {
     "name": "stdout",
     "output_type": "stream",
     "text": [
      "\n",
      "Testing...\n"
     ]
    },
    {
     "name": "stderr",
     "output_type": "stream",
     "text": [
      "100%|██████████| 38/38 [00:00<00:00, 88.58it/s]\n"
     ]
    },
    {
     "name": "stdout",
     "output_type": "stream",
     "text": [
      "\n",
      "Epoch 3 Stats:\n",
      "\tTraining accuracy: 0.6459\n",
      "\tTraining loss: 1.0754\n",
      "\tValidation accuracy: 0.5000\n",
      "\tValidation loss: 1.6881\n",
      "\n",
      "Validation accuracy improved from 0.4099999964237213 to 0.5\n",
      "Saving model to PointNetTNet.pt\n",
      "\n",
      "===============================================================================\n",
      "\n",
      "Epoch 4\n",
      "\n",
      "Training...\n"
     ]
    },
    {
     "name": "stderr",
     "output_type": "stream",
     "text": [
      "100%|██████████| 213/213 [00:07<00:00, 27.13it/s]\n"
     ]
    },
    {
     "name": "stdout",
     "output_type": "stream",
     "text": [
      "\n",
      "Testing...\n"
     ]
    },
    {
     "name": "stderr",
     "output_type": "stream",
     "text": [
      "100%|██████████| 38/38 [00:00<00:00, 77.14it/s]\n"
     ]
    },
    {
     "name": "stdout",
     "output_type": "stream",
     "text": [
      "\n",
      "Epoch 4 Stats:\n",
      "\tTraining accuracy: 0.6847\n",
      "\tTraining loss: 0.9699\n",
      "\tValidation accuracy: 0.5267\n",
      "\tValidation loss: 1.5643\n",
      "\n",
      "Validation accuracy improved from 0.5 to 0.5266666412353516\n",
      "Saving model to PointNetTNet.pt\n",
      "\n",
      "===============================================================================\n",
      "\n",
      "Epoch 5\n",
      "\n",
      "Training...\n"
     ]
    },
    {
     "name": "stderr",
     "output_type": "stream",
     "text": [
      "100%|██████████| 213/213 [00:07<00:00, 29.38it/s]\n"
     ]
    },
    {
     "name": "stdout",
     "output_type": "stream",
     "text": [
      "\n",
      "Testing...\n"
     ]
    },
    {
     "name": "stderr",
     "output_type": "stream",
     "text": [
      "100%|██████████| 38/38 [00:00<00:00, 89.41it/s]\n"
     ]
    },
    {
     "name": "stdout",
     "output_type": "stream",
     "text": [
      "\n",
      "Epoch 5 Stats:\n",
      "\tTraining accuracy: 0.7115\n",
      "\tTraining loss: 0.8802\n",
      "\tValidation accuracy: 0.5200\n",
      "\tValidation loss: 1.4543\n",
      "\n",
      "===============================================================================\n",
      "\n",
      "Epoch 6\n",
      "\n",
      "Training...\n"
     ]
    },
    {
     "name": "stderr",
     "output_type": "stream",
     "text": [
      "100%|██████████| 213/213 [00:06<00:00, 30.85it/s]\n"
     ]
    },
    {
     "name": "stdout",
     "output_type": "stream",
     "text": [
      "\n",
      "Testing...\n"
     ]
    },
    {
     "name": "stderr",
     "output_type": "stream",
     "text": [
      "100%|██████████| 38/38 [00:00<00:00, 89.20it/s]\n"
     ]
    },
    {
     "name": "stdout",
     "output_type": "stream",
     "text": [
      "\n",
      "Epoch 6 Stats:\n",
      "\tTraining accuracy: 0.7371\n",
      "\tTraining loss: 0.8406\n",
      "\tValidation accuracy: 0.4733\n",
      "\tValidation loss: 1.6002\n",
      "\n",
      "===============================================================================\n",
      "\n",
      "Epoch 7\n",
      "\n",
      "Training...\n"
     ]
    },
    {
     "name": "stderr",
     "output_type": "stream",
     "text": [
      "100%|██████████| 213/213 [00:06<00:00, 30.52it/s]\n"
     ]
    },
    {
     "name": "stdout",
     "output_type": "stream",
     "text": [
      "\n",
      "Testing...\n"
     ]
    },
    {
     "name": "stderr",
     "output_type": "stream",
     "text": [
      "100%|██████████| 38/38 [00:00<00:00, 84.83it/s]\n"
     ]
    },
    {
     "name": "stdout",
     "output_type": "stream",
     "text": [
      "\n",
      "Epoch 7 Stats:\n",
      "\tTraining accuracy: 0.7526\n",
      "\tTraining loss: 0.7744\n",
      "\tValidation accuracy: 0.5783\n",
      "\tValidation loss: 1.2039\n",
      "\n",
      "Validation accuracy improved from 0.5266666412353516 to 0.57833331823349\n",
      "Saving model to PointNetTNet.pt\n",
      "\n",
      "===============================================================================\n",
      "\n",
      "Epoch 8\n",
      "\n",
      "Training...\n"
     ]
    },
    {
     "name": "stderr",
     "output_type": "stream",
     "text": [
      "100%|██████████| 213/213 [00:07<00:00, 28.52it/s]\n"
     ]
    },
    {
     "name": "stdout",
     "output_type": "stream",
     "text": [
      "\n",
      "Testing...\n"
     ]
    },
    {
     "name": "stderr",
     "output_type": "stream",
     "text": [
      "100%|██████████| 38/38 [00:00<00:00, 76.61it/s]\n"
     ]
    },
    {
     "name": "stdout",
     "output_type": "stream",
     "text": [
      "\n",
      "Epoch 8 Stats:\n",
      "\tTraining accuracy: 0.7718\n",
      "\tTraining loss: 0.6972\n",
      "\tValidation accuracy: 0.5733\n",
      "\tValidation loss: 1.4199\n",
      "\n",
      "===============================================================================\n",
      "\n",
      "Epoch 9\n",
      "\n",
      "Training...\n"
     ]
    },
    {
     "name": "stderr",
     "output_type": "stream",
     "text": [
      "100%|██████████| 213/213 [00:08<00:00, 25.20it/s]\n"
     ]
    },
    {
     "name": "stdout",
     "output_type": "stream",
     "text": [
      "\n",
      "Testing...\n"
     ]
    },
    {
     "name": "stderr",
     "output_type": "stream",
     "text": [
      "100%|██████████| 38/38 [00:00<00:00, 68.92it/s]\n"
     ]
    },
    {
     "name": "stdout",
     "output_type": "stream",
     "text": [
      "\n",
      "Epoch 9 Stats:\n",
      "\tTraining accuracy: 0.7838\n",
      "\tTraining loss: 0.6822\n",
      "\tValidation accuracy: 0.6483\n",
      "\tValidation loss: 1.1179\n",
      "\n",
      "Validation accuracy improved from 0.57833331823349 to 0.6483333110809326\n",
      "Saving model to PointNetTNet.pt\n",
      "\n",
      "===============================================================================\n",
      "\n",
      "Epoch 10\n",
      "\n",
      "Training...\n"
     ]
    },
    {
     "name": "stderr",
     "output_type": "stream",
     "text": [
      "100%|██████████| 213/213 [00:08<00:00, 25.77it/s]\n"
     ]
    },
    {
     "name": "stdout",
     "output_type": "stream",
     "text": [
      "\n",
      "Testing...\n"
     ]
    },
    {
     "name": "stderr",
     "output_type": "stream",
     "text": [
      "100%|██████████| 38/38 [00:00<00:00, 75.82it/s]\n"
     ]
    },
    {
     "name": "stdout",
     "output_type": "stream",
     "text": [
      "\n",
      "Epoch 10 Stats:\n",
      "\tTraining accuracy: 0.7862\n",
      "\tTraining loss: 0.6499\n",
      "\tValidation accuracy: 0.5117\n",
      "\tValidation loss: 1.5599\n",
      "\n",
      "===============================================================================\n",
      "\n"
     ]
    }
   ],
   "source": [
    "train_acc, train_loss, test_acc, test_loss = train(model, optimizer, epochs, train_loader, test_loader, device=device)"
   ]
  },
  {
   "cell_type": "code",
   "execution_count": 248,
   "metadata": {},
   "outputs": [
    {
     "name": "stderr",
     "output_type": "stream",
     "text": [
      "/var/folders/zt/lq569kjj6f5f4wqklbbzk7r40000gn/T/ipykernel_28856/4218532974.py:1: FutureWarning:\n",
      "\n",
      "You are using `torch.load` with `weights_only=False` (the current default value), which uses the default pickle module implicitly. It is possible to construct malicious pickle data which will execute arbitrary code during unpickling (See https://github.com/pytorch/pytorch/blob/main/SECURITY.md#untrusted-models for more details). In a future release, the default value for `weights_only` will be flipped to `True`. This limits the functions that could be executed during unpickling. Arbitrary objects will no longer be allowed to be loaded via this mode unless they are explicitly allowlisted by the user via `torch.serialization.add_safe_globals`. We recommend you start setting `weights_only=True` for any use case where you don't have full control of the loaded file. Please open an issue on GitHub for any issues related to this experimental feature.\n",
      "\n",
      "100%|██████████| 38/38 [00:00<00:00, 72.38it/s]"
     ]
    },
    {
     "name": "stdout",
     "output_type": "stream",
     "text": [
      "Test accuracy: 0.6483\n",
      "Test loss: 1.1198\n"
     ]
    },
    {
     "name": "stderr",
     "output_type": "stream",
     "text": [
      "\n"
     ]
    }
   ],
   "source": [
    "model = torch.load('output/PointNetTNet.pt', map_location='cpu')\n",
    "test_acc, test_loss = test(model, test_loader)"
   ]
  },
  {
   "cell_type": "markdown",
   "metadata": {},
   "source": [
    "Lets take a look at how the addition of positional encoding improved on the performance of our original PointNet model. Which classes does the positional encoding help the most with? Which ones does it not really seem to make much of a difference for? Why?"
   ]
  },
  {
   "cell_type": "code",
   "execution_count": 249,
   "metadata": {},
   "outputs": [
    {
     "data": {
      "image/png": "[encoded data removed]",
      "text/plain": [
       "<Figure size 1000x1000 with 1 Axes>"
      ]
     },
     "metadata": {},
     "output_type": "display_data"
    }
   ],
   "source": [
    "generate_and_plot_confusion_matrix(model, test_loader, 20)"
   ]
  },
  {
   "cell_type": "code",
   "execution_count": 250,
   "metadata": {},
   "outputs": [
    {
     "data": {
      "application/vnd.plotly.v1+json": {
       "config": {
        "plotlyServerURL": "https://plot.ly"
       },
       "data": [
        {
         "line": {
          "color": "rgba(0,0,0,0)"
         },
         "marker": {
          "color": [
           "red",
           "red",
           "blue",
           "red",
           "red",
           "red",
           "red",
           "red",
           "red",
           "red",
           "red",
           "red",
           "red",
           "red",
           "red",
           "blue",
           "red",
           "red",
           "red",
           "red",
           "red",
           "blue",
           "blue",
           "blue",
           "red",
           "red",
           "red",
           "blue",
           "red",
           "blue",
           "red",
           "blue",
           "blue",
           "red",
           "blue",
           "blue",
           "red",
           "red",
           "red",
           "red",
           "red",
           "red",
           "blue",
           "red",
           "blue",
           "red",
           "red",
           "red",
           "blue",
           "red",
           "blue",
           "red",
           "red",
           "red",
           "blue",
           "blue",
           "blue",
           "blue",
           "blue",
           "blue",
           "blue",
           "red",
           "red",
           "red",
           "red",
           "blue",
           "blue",
           "blue",
           "red",
           "red",
           "blue",
           "blue",
           "blue",
           "red",
           "red",
           "blue",
           "red",
           "blue",
           "blue",
           "blue",
           "blue",
           "red",
           "red",
           "red",
           "red",
           "blue",
           "red",
           "red",
           "blue",
           "red",
           "blue",
           "red",
           "blue",
           "blue",
           "blue",
           "red",
           "blue",
           "blue",
           "red",
           "blue",
           "red",
           "red",
           "red",
           "red",
           "red",
           "blue",
           "red",
           "blue",
           "red",
           "blue",
           "red",
           "blue",
           "blue",
           "blue",
           "red",
           "blue",
           "blue",
           "red",
           "blue",
           "blue",
           "red",
           "red",
           "blue",
           "blue",
           "blue",
           "red",
           "blue",
           "red",
           "red",
           "blue",
           "red",
           "red",
           "red",
           "red",
           "blue",
           "red",
           "red",
           "red",
           "red",
           "blue",
           "blue",
           "blue",
           "red",
           "red",
           "red",
           "blue",
           "red",
           "red",
           "red",
           "red",
           "red",
           "red",
           "red",
           "red",
           "red",
           "red",
           "red",
           "red",
           "red",
           "red",
           "red",
           "red",
           "red",
           "red",
           "red",
           "red",
           "red",
           "red",
           "red",
           "red",
           "red",
           "red",
           "red",
           "red",
           "red",
           "red",
           "red",
           "red",
           "red",
           "red",
           "red",
           "red",
           "red",
           "red",
           "red",
           "red",
           "red",
           "red",
           "red",
           "red",
           "red",
           "red",
           "red",
           "red",
           "red",
           "red",
           "red",
           "red",
           "red",
           "red"
          ]
         },
         "scene": "scene",
         "type": "scatter3d",
         "x": [
          0.1484375,
          0.171875,
          0.1328125,
          0.1484375,
          0.203125,
          0.078125,
          0.1640625,
          0.2265625,
          0.1875,
          0.21875,
          0.1015625,
          0.078125,
          0.1171875,
          0.0859375,
          0.171875,
          0.2265625,
          0.21875,
          0.1640625,
          0.1796875,
          0.21875,
          0.2578125,
          0.1015625,
          0.1484375,
          0.1328125,
          0.2578125,
          0.109375,
          0.046875,
          0.15625,
          0.1796875,
          0.2265625,
          0.2265625,
          0.2578125,
          0.0625,
          0.2421875,
          0.109375,
          0.046875,
          0.2578125,
          0.1484375,
          0.1796875,
          -0.015625,
          0.109375,
          0.0625,
          0.1796875,
          0.28125,
          0,
          0.0859375,
          -0.0703125,
          0.109375,
          0.0078125,
          0.2265625,
          0.1953125,
          0,
          0.28125,
          0.15625,
          0.21875,
          0.2578125,
          0.0546875,
          0.015625,
          0.1796875,
          0.1875,
          0.0625,
          0.109375,
          0.0390625,
          0.2578125,
          0.1171875,
          0.2578125,
          -0.046875,
          0.0703125,
          0.140625,
          0.0078125,
          0.015625,
          0.09375,
          0.171875,
          -0.0859375,
          0.125,
          0.125,
          0.3203125,
          0.28125,
          -0.0546875,
          0.203125,
          0.015625,
          -0.0625,
          -0.140625,
          -0.1015625,
          0.28125,
          0.2265625,
          0,
          0.28125,
          0.0546875,
          -0.0234375,
          0.015625,
          0.1953125,
          0.1640625,
          0.125,
          0.0859375,
          0.0234375,
          0.1328125,
          -0.0625,
          -0.046875,
          -0.0546875,
          0.2109375,
          -0.1484375,
          -0.0703125,
          -0.0625,
          0.2890625,
          0.1796875,
          -0.078125,
          0.1328125,
          0.046875,
          0.078125,
          -0.1171875,
          0.1171875,
          0.1328125,
          0.2265625,
          -0.09375,
          0.1796875,
          0.0546875,
          0.203125,
          0.15625,
          0.1484375,
          0.078125,
          -0.078125,
          0,
          0.1328125,
          0.1875,
          0.2421875,
          0.046875,
          -0.015625,
          0.1015625,
          -0.0546875,
          -0.078125,
          0.171875,
          -0.0390625,
          -0.1171875,
          0.046875,
          0.046875,
          -0.1640625,
          0.1953125,
          -0.078125,
          0.0625,
          0.03125,
          0.0546875,
          0.1015625,
          0,
          0.109375,
          -0.1640625,
          -0.0078125,
          -0.140625,
          -0.1796875,
          0.0625,
          -0.203125,
          -0.0078125,
          -0.3203125,
          0.1484375,
          0.1484375,
          0.1484375,
          0.1484375,
          0.1484375,
          0.1484375,
          0.1484375,
          0.1484375,
          0.1484375,
          0.1484375,
          0.1484375,
          0.1484375,
          0.1484375,
          0.1484375,
          0.1484375,
          0.1484375,
          0.1484375,
          0.1484375,
          0.1484375,
          0.1484375,
          0.1484375,
          0.1484375,
          0.1484375,
          0.1484375,
          0.1484375,
          0.1484375,
          0.1484375,
          0.1484375,
          0.1484375,
          0.1484375,
          0.1484375,
          0.1484375,
          0.1484375,
          0.1484375,
          0.1484375,
          0.1484375,
          0.1484375,
          0.1484375,
          0.1484375,
          0.1484375,
          0.1484375,
          0.1484375,
          0.1484375,
          0.1484375,
          0.1484375,
          0.1484375,
          0.1484375
         ],
         "y": [
          0.140625,
          0.0859375,
          0.125,
          0.078125,
          0.0546875,
          0.1640625,
          0.09375,
          -0.0078125,
          0.03125,
          -0.0234375,
          0.1171875,
          0.1640625,
          0.1328125,
          0.1640625,
          0.015625,
          0.0078125,
          -0.03125,
          0.03125,
          0.0078125,
          -0.015625,
          -0.078125,
          0.1015625,
          0.0625,
          0.0625,
          -0.0390625,
          0.1015625,
          0.1484375,
          0.078125,
          0.015625,
          -0.0078125,
          0,
          -0.046875,
          0.1328125,
          -0.0703125,
          0.109375,
          0.1328125,
          -0.046875,
          0.0703125,
          0.0234375,
          0.2265625,
          0.109375,
          0.1484375,
          0.0234375,
          -0.1015625,
          0.1640625,
          0.0859375,
          0.25,
          0.0234375,
          0.1796875,
          -0.1015625,
          -0.0390625,
          0.1640625,
          -0.1015625,
          0,
          -0.046875,
          -0.1171875,
          0.140625,
          0.171875,
          -0.0078125,
          -0.046875,
          0.1171875,
          0.0546875,
          0.1171875,
          -0.1484375,
          0.03125,
          -0.109375,
          0.203125,
          0.0859375,
          0.0078125,
          0.171875,
          0.1484375,
          0.0625,
          -0.0390625,
          0.234375,
          -0.03125,
          0.015625,
          -0.203125,
          -0.1640625,
          0.1875,
          -0.0859375,
          0.1171875,
          0.203125,
          0.25,
          0.21875,
          -0.171875,
          -0.1171875,
          0.0703125,
          -0.171875,
          0.0703125,
          0.15625,
          0.109375,
          -0.1171875,
          -0.0546875,
          -0.015625,
          0.0234375,
          0.0234375,
          -0.0234375,
          0.1640625,
          0.125,
          0.1328125,
          -0.15625,
          0.1953125,
          0.109375,
          0.09375,
          -0.234375,
          -0.109375,
          0.171875,
          -0.0234375,
          -0.03125,
          0.0078125,
          0.1484375,
          -0.0234375,
          -0.0546875,
          -0.1796875,
          0.1640625,
          -0.1171875,
          0.015625,
          -0.1875,
          -0.109375,
          -0.078125,
          -0.03125,
          0.046875,
          0.046875,
          -0.0859375,
          -0.1796875,
          -0.25,
          -0.0078125,
          -0.046875,
          -0.046875,
          -0.0078125,
          0.0234375,
          -0.171875,
          -0.0234375,
          0.0625,
          -0.015625,
          -0.015625,
          0.0859375,
          -0.2421875,
          0.0546875,
          -0.078125,
          -0.046875,
          -0.09375,
          -0.1171875,
          -0.0625,
          -0.1953125,
          -0.0390625,
          -0.0859375,
          -0.09375,
          -0.0625,
          -0.234375,
          -0.0703125,
          -0.15625,
          -0.1015625,
          0.140625,
          0.140625,
          0.140625,
          0.140625,
          0.140625,
          0.140625,
          0.140625,
          0.140625,
          0.140625,
          0.140625,
          0.140625,
          0.140625,
          0.140625,
          0.140625,
          0.140625,
          0.140625,
          0.140625,
          0.140625,
          0.140625,
          0.140625,
          0.140625,
          0.140625,
          0.140625,
          0.140625,
          0.140625,
          0.140625,
          0.140625,
          0.140625,
          0.140625,
          0.140625,
          0.140625,
          0.140625,
          0.140625,
          0.140625,
          0.140625,
          0.140625,
          0.140625,
          0.140625,
          0.140625,
          0.140625,
          0.140625,
          0.140625,
          0.140625,
          0.140625,
          0.140625,
          0.140625,
          0.140625
         ],
         "z": [
          0.1502685546875,
          0.0506591796875,
          0.0501708984375,
          -0.1265869140625,
          0.3328857421875,
          0.0491943359375,
          0.3328857421875,
          -0.0430908203125,
          -0.0435791015625,
          -0.4195556640625,
          -0.1270751953125,
          0.1483154296875,
          0.3319091796875,
          0.3319091796875,
          -0.4205322265625,
          0.3328857421875,
          -0.2325439453125,
          -0.1270751953125,
          -0.2330322265625,
          0.0491943359375,
          -0.2325439453125,
          -0.0450439453125,
          0.1419677734375,
          -0.0450439453125,
          0.3328857421875,
          0.1414794921875,
          -0.1285400390625,
          0.4237060546875,
          0.1419677734375,
          0.4237060546875,
          0.5155029296875,
          0.4246826171875,
          0.1405029296875,
          0.0487060546875,
          0.4237060546875,
          -0.0465087890625,
          0.5155029296875,
          0.5145263671875,
          0.4237060546875,
          0.3309326171875,
          0.5145263671875,
          0.4227294921875,
          0.5145263671875,
          0.4237060546875,
          0.0457763671875,
          0.2337646484375,
          0.1453857421875,
          -0.2364501953125,
          0.3309326171875,
          -0.1417236328125,
          0.2342529296875,
          0.1395263671875,
          0.5155029296875,
          0.2342529296875,
          0.4227294921875,
          0.1478271484375,
          0.5145263671875,
          0.4227294921875,
          0.4217529296875,
          0.1405029296875,
          0.4217529296875,
          0.3280029296875,
          0.2332763671875,
          -0.1422119140625,
          0.2337646484375,
          0.3319091796875,
          0.1453857421875,
          0.3280029296875,
          0.3280029296875,
          0.5135498046875,
          0.4207763671875,
          0.4217529296875,
          0.3280029296875,
          0.2318115234375,
          -0.1441650390625,
          0.4217529296875,
          0.3319091796875,
          0.3309326171875,
          0.2318115234375,
          0.3280029296875,
          0.3270263671875,
          0.3270263671875,
          -0.1475830078125,
          0.1370849609375,
          0.4227294921875,
          0.4207763671875,
          -0.1466064453125,
          0.5145263671875,
          0.5145263671875,
          0.5135498046875,
          0.5145263671875,
          0.2322998046875,
          0.5145263671875,
          0.5145263671875,
          0.5145263671875,
          -0.1475830078125,
          0.6053466796875,
          0.4197998046875,
          0.2303466796875,
          0.3250732421875,
          0.3270263671875,
          -0.1363525390625,
          -0.0528564453125,
          -0.1490478515625,
          0.4227294921875,
          0.5145263671875,
          0.5135498046875,
          0.7899169921875,
          -0.1485595703125,
          0.6053466796875,
          -0.1363525390625,
          0.6981201171875,
          0.6072998046875,
          0.4197998046875,
          0.4197998046875,
          0.6053466796875,
          0.6072998046875,
          0.2308349609375,
          0.6072998046875,
          0.7899169921875,
          0.6072998046875,
          -0.510986328125,
          0.6063232421875,
          0.6981201171875,
          0.5135498046875,
          0.4188232421875,
          0.6981201171875,
          -0.51171875,
          0.8817138671875,
          -0.51220703125,
          -0.2469482421875,
          0.6072998046875,
          -0.2464599609375,
          -0.2474365234375,
          0.7899169921875,
          0.8817138671875,
          -0.2491455078125,
          0.5125732421875,
          0.6053466796875,
          0.7957763671875,
          0.7947998046875,
          0.7010498046875,
          0.8826904296875,
          0.7010498046875,
          0.7010498046875,
          -0.63665771484375,
          0.8895263671875,
          -0.63739013671875,
          -0.8753662109375,
          0.7947998046875,
          -0.4495849609375,
          0.8895263671875,
          -0.8895263671875,
          0.1502685546875,
          0.1502685546875,
          0.1502685546875,
          0.1502685546875,
          0.1502685546875,
          0.1502685546875,
          0.1502685546875,
          0.1502685546875,
          0.1502685546875,
          0.1502685546875,
          0.1502685546875,
          0.1502685546875,
          0.1502685546875,
          0.1502685546875,
          0.1502685546875,
          0.1502685546875,
          0.1502685546875,
          0.1502685546875,
          0.1502685546875,
          0.1502685546875,
          0.1502685546875,
          0.1502685546875,
          0.1502685546875,
          0.1502685546875,
          0.1502685546875,
          0.1502685546875,
          0.1502685546875,
          0.1502685546875,
          0.1502685546875,
          0.1502685546875,
          0.1502685546875,
          0.1502685546875,
          0.1502685546875,
          0.1502685546875,
          0.1502685546875,
          0.1502685546875,
          0.1502685546875,
          0.1502685546875,
          0.1502685546875,
          0.1502685546875,
          0.1502685546875,
          0.1502685546875,
          0.1502685546875,
          0.1502685546875,
          0.1502685546875,
          0.1502685546875,
          0.1502685546875
         ]
        },
        {
         "line": {
          "color": "rgba(0,0,0,0)"
         },
         "marker": {
          "color": "red"
         },
         "scene": "scene2",
         "type": "scatter3d",
         "x": [
          0.1484375,
          0.171875,
          0.1484375,
          0.203125,
          0.078125,
          0.1640625,
          0.2265625,
          0.1875,
          0.21875,
          0.1015625,
          0.078125,
          0.1171875,
          0.0859375,
          0.171875,
          0.21875,
          0.1640625,
          0.1796875,
          0.21875,
          0.2578125,
          0.2578125,
          0.109375,
          0.046875,
          0.1796875,
          0.2265625,
          0.2421875,
          0.2578125,
          0.1484375,
          0.1796875,
          -0.015625,
          0.109375,
          0.0625,
          0.28125,
          0.0859375,
          -0.0703125,
          0.109375,
          0.2265625,
          0,
          0.28125,
          0.15625,
          0.109375,
          0.0390625,
          0.2578125,
          0.1171875,
          0.140625,
          0.0078125,
          -0.0859375,
          0.125,
          0.3203125,
          -0.0625,
          -0.140625,
          -0.1015625,
          0.28125,
          0,
          0.28125,
          -0.0234375,
          0.1953125,
          0.0234375,
          -0.046875,
          0.2109375,
          -0.1484375,
          -0.0703125,
          -0.0625,
          0.2890625,
          -0.078125,
          0.046875,
          -0.1171875,
          -0.09375,
          0.203125,
          0.078125,
          -0.078125,
          0.2421875,
          -0.015625,
          0.1015625,
          -0.078125,
          0.171875,
          -0.0390625,
          -0.1171875,
          0.046875,
          -0.1640625,
          0.1953125,
          -0.078125,
          0.1015625,
          0,
          0.109375,
          -0.0078125,
          -0.140625,
          -0.1796875,
          0.0625,
          -0.203125,
          -0.0078125,
          -0.3203125,
          0.1484375,
          0.1484375,
          0.1484375,
          0.1484375,
          0.1484375,
          0.1484375,
          0.1484375,
          0.1484375,
          0.1484375,
          0.1484375,
          0.1484375,
          0.1484375,
          0.1484375,
          0.1484375,
          0.1484375,
          0.1484375,
          0.1484375,
          0.1484375,
          0.1484375,
          0.1484375,
          0.1484375,
          0.1484375,
          0.1484375,
          0.1484375,
          0.1484375,
          0.1484375,
          0.1484375,
          0.1484375,
          0.1484375,
          0.1484375,
          0.1484375,
          0.1484375,
          0.1484375,
          0.1484375,
          0.1484375,
          0.1484375,
          0.1484375,
          0.1484375,
          0.1484375,
          0.1484375,
          0.1484375,
          0.1484375,
          0.1484375,
          0.1484375,
          0.1484375,
          0.1484375,
          0.1484375
         ],
         "y": [
          0.140625,
          0.0859375,
          0.078125,
          0.0546875,
          0.1640625,
          0.09375,
          -0.0078125,
          0.03125,
          -0.0234375,
          0.1171875,
          0.1640625,
          0.1328125,
          0.1640625,
          0.015625,
          -0.03125,
          0.03125,
          0.0078125,
          -0.015625,
          -0.078125,
          -0.0390625,
          0.1015625,
          0.1484375,
          0.015625,
          0,
          -0.0703125,
          -0.046875,
          0.0703125,
          0.0234375,
          0.2265625,
          0.109375,
          0.1484375,
          -0.1015625,
          0.0859375,
          0.25,
          0.0234375,
          -0.1015625,
          0.1640625,
          -0.1015625,
          0,
          0.0546875,
          0.1171875,
          -0.1484375,
          0.03125,
          0.0078125,
          0.171875,
          0.234375,
          -0.03125,
          -0.203125,
          0.203125,
          0.25,
          0.21875,
          -0.171875,
          0.0703125,
          -0.171875,
          0.15625,
          -0.1171875,
          0.0234375,
          0.125,
          -0.15625,
          0.1953125,
          0.109375,
          0.09375,
          -0.234375,
          0.171875,
          -0.03125,
          0.1484375,
          0.1640625,
          -0.1875,
          -0.03125,
          0.046875,
          -0.25,
          -0.046875,
          -0.046875,
          0.0234375,
          -0.171875,
          -0.0234375,
          0.0625,
          -0.015625,
          0.0859375,
          -0.2421875,
          0.0546875,
          -0.1171875,
          -0.0625,
          -0.1953125,
          -0.0859375,
          -0.09375,
          -0.0625,
          -0.234375,
          -0.0703125,
          -0.15625,
          -0.1015625,
          0.140625,
          0.140625,
          0.140625,
          0.140625,
          0.140625,
          0.140625,
          0.140625,
          0.140625,
          0.140625,
          0.140625,
          0.140625,
          0.140625,
          0.140625,
          0.140625,
          0.140625,
          0.140625,
          0.140625,
          0.140625,
          0.140625,
          0.140625,
          0.140625,
          0.140625,
          0.140625,
          0.140625,
          0.140625,
          0.140625,
          0.140625,
          0.140625,
          0.140625,
          0.140625,
          0.140625,
          0.140625,
          0.140625,
          0.140625,
          0.140625,
          0.140625,
          0.140625,
          0.140625,
          0.140625,
          0.140625,
          0.140625,
          0.140625,
          0.140625,
          0.140625,
          0.140625,
          0.140625,
          0.140625
         ],
         "z": [
          0.1502685546875,
          0.0506591796875,
          -0.1265869140625,
          0.3328857421875,
          0.0491943359375,
          0.3328857421875,
          -0.0430908203125,
          -0.0435791015625,
          -0.4195556640625,
          -0.1270751953125,
          0.1483154296875,
          0.3319091796875,
          0.3319091796875,
          -0.4205322265625,
          -0.2325439453125,
          -0.1270751953125,
          -0.2330322265625,
          0.0491943359375,
          -0.2325439453125,
          0.3328857421875,
          0.1414794921875,
          -0.1285400390625,
          0.1419677734375,
          0.5155029296875,
          0.0487060546875,
          0.5155029296875,
          0.5145263671875,
          0.4237060546875,
          0.3309326171875,
          0.5145263671875,
          0.4227294921875,
          0.4237060546875,
          0.2337646484375,
          0.1453857421875,
          -0.2364501953125,
          -0.1417236328125,
          0.1395263671875,
          0.5155029296875,
          0.2342529296875,
          0.3280029296875,
          0.2332763671875,
          -0.1422119140625,
          0.2337646484375,
          0.3280029296875,
          0.5135498046875,
          0.2318115234375,
          -0.1441650390625,
          0.3319091796875,
          0.3270263671875,
          -0.1475830078125,
          0.1370849609375,
          0.4227294921875,
          -0.1466064453125,
          0.5145263671875,
          0.5135498046875,
          0.2322998046875,
          -0.1475830078125,
          0.2303466796875,
          0.3270263671875,
          -0.1363525390625,
          -0.0528564453125,
          -0.1490478515625,
          0.4227294921875,
          0.5135498046875,
          -0.1485595703125,
          -0.1363525390625,
          0.4197998046875,
          0.2308349609375,
          0.6072998046875,
          -0.510986328125,
          0.4188232421875,
          -0.51171875,
          0.8817138671875,
          -0.2469482421875,
          0.6072998046875,
          -0.2464599609375,
          -0.2474365234375,
          0.8817138671875,
          -0.2491455078125,
          0.5125732421875,
          0.6053466796875,
          0.8826904296875,
          0.7010498046875,
          0.7010498046875,
          0.8895263671875,
          -0.63739013671875,
          -0.8753662109375,
          0.7947998046875,
          -0.4495849609375,
          0.8895263671875,
          -0.8895263671875,
          0.1502685546875,
          0.1502685546875,
          0.1502685546875,
          0.1502685546875,
          0.1502685546875,
          0.1502685546875,
          0.1502685546875,
          0.1502685546875,
          0.1502685546875,
          0.1502685546875,
          0.1502685546875,
          0.1502685546875,
          0.1502685546875,
          0.1502685546875,
          0.1502685546875,
          0.1502685546875,
          0.1502685546875,
          0.1502685546875,
          0.1502685546875,
          0.1502685546875,
          0.1502685546875,
          0.1502685546875,
          0.1502685546875,
          0.1502685546875,
          0.1502685546875,
          0.1502685546875,
          0.1502685546875,
          0.1502685546875,
          0.1502685546875,
          0.1502685546875,
          0.1502685546875,
          0.1502685546875,
          0.1502685546875,
          0.1502685546875,
          0.1502685546875,
          0.1502685546875,
          0.1502685546875,
          0.1502685546875,
          0.1502685546875,
          0.1502685546875,
          0.1502685546875,
          0.1502685546875,
          0.1502685546875,
          0.1502685546875,
          0.1502685546875,
          0.1502685546875,
          0.1502685546875
         ]
        }
       ],
       "layout": {
        "annotations": [
         {
          "font": {
           "size": 16
          },
          "showarrow": false,
          "text": "All Points",
          "x": 0.225,
          "xanchor": "center",
          "xref": "paper",
          "y": 1,
          "yanchor": "bottom",
          "yref": "paper"
         },
         {
          "font": {
           "size": 16
          },
          "showarrow": false,
          "text": "Critical Points",
          "x": 0.775,
          "xanchor": "center",
          "xref": "paper",
          "y": 1,
          "yanchor": "bottom",
          "yref": "paper"
         }
        ],
        "scene": {
         "domain": {
          "x": [
           0,
           0.45
          ],
          "y": [
           0,
           1
          ]
         }
        },
        "scene2": {
         "domain": {
          "x": [
           0.55,
           1
          ],
          "y": [
           0,
           1
          ]
         }
        },
        "template": {
         "data": {
          "bar": [
           {
            "error_x": {
             "color": "#2a3f5f"
            },
            "error_y": {
             "color": "#2a3f5f"
            },
            "marker": {
             "line": {
              "color": "#E5ECF6",
              "width": 0.5
             },
             "pattern": {
              "fillmode": "overlay",
              "size": 10,
              "solidity": 0.2
             }
            },
            "type": "bar"
           }
          ],
          "barpolar": [
           {
            "marker": {
             "line": {
              "color": "#E5ECF6",
              "width": 0.5
             },
             "pattern": {
              "fillmode": "overlay",
              "size": 10,
              "solidity": 0.2
             }
            },
            "type": "barpolar"
           }
          ],
          "carpet": [
           {
            "aaxis": {
             "endlinecolor": "#2a3f5f",
             "gridcolor": "white",
             "linecolor": "white",
             "minorgridcolor": "white",
             "startlinecolor": "#2a3f5f"
            },
            "baxis": {
             "endlinecolor": "#2a3f5f",
             "gridcolor": "white",
             "linecolor": "white",
             "minorgridcolor": "white",
             "startlinecolor": "#2a3f5f"
            },
            "type": "carpet"
           }
          ],
          "choropleth": [
           {
            "colorbar": {
             "outlinewidth": 0,
             "ticks": ""
            },
            "type": "choropleth"
           }
          ],
          "contour": [
           {
            "colorbar": {
             "outlinewidth": 0,
             "ticks": ""
            },
            "colorscale": [
             [
              0,
              "#0d0887"
             ],
             [
              0.1111111111111111,
              "#46039f"
             ],
             [
              0.2222222222222222,
              "#7201a8"
             ],
             [
              0.3333333333333333,
              "#9c179e"
             ],
             [
              0.4444444444444444,
              "#bd3786"
             ],
             [
              0.5555555555555556,
              "#d8576b"
             ],
             [
              0.6666666666666666,
              "#ed7953"
             ],
             [
              0.7777777777777778,
              "#fb9f3a"
             ],
             [
              0.8888888888888888,
              "#fdca26"
             ],
             [
              1,
              "#f0f921"
             ]
            ],
            "type": "contour"
           }
          ],
          "contourcarpet": [
           {
            "colorbar": {
             "outlinewidth": 0,
             "ticks": ""
            },
            "type": "contourcarpet"
           }
          ],
          "heatmap": [
           {
            "colorbar": {
             "outlinewidth": 0,
             "ticks": ""
            },
            "colorscale": [
             [
              0,
              "#0d0887"
             ],
             [
              0.1111111111111111,
              "#46039f"
             ],
             [
              0.2222222222222222,
              "#7201a8"
             ],
             [
              0.3333333333333333,
              "#9c179e"
             ],
             [
              0.4444444444444444,
              "#bd3786"
             ],
             [
              0.5555555555555556,
              "#d8576b"
             ],
             [
              0.6666666666666666,
              "#ed7953"
             ],
             [
              0.7777777777777778,
              "#fb9f3a"
             ],
             [
              0.8888888888888888,
              "#fdca26"
             ],
             [
              1,
              "#f0f921"
             ]
            ],
            "type": "heatmap"
           }
          ],
          "heatmapgl": [
           {
            "colorbar": {
             "outlinewidth": 0,
             "ticks": ""
            },
            "colorscale": [
             [
              0,
              "#0d0887"
             ],
             [
              0.1111111111111111,
              "#46039f"
             ],
             [
              0.2222222222222222,
              "#7201a8"
             ],
             [
              0.3333333333333333,
              "#9c179e"
             ],
             [
              0.4444444444444444,
              "#bd3786"
             ],
             [
              0.5555555555555556,
              "#d8576b"
             ],
             [
              0.6666666666666666,
              "#ed7953"
             ],
             [
              0.7777777777777778,
              "#fb9f3a"
             ],
             [
              0.8888888888888888,
              "#fdca26"
             ],
             [
              1,
              "#f0f921"
             ]
            ],
            "type": "heatmapgl"
           }
          ],
          "histogram": [
           {
            "marker": {
             "pattern": {
              "fillmode": "overlay",
              "size": 10,
              "solidity": 0.2
             }
            },
            "type": "histogram"
           }
          ],
          "histogram2d": [
           {
            "colorbar": {
             "outlinewidth": 0,
             "ticks": ""
            },
            "colorscale": [
             [
              0,
              "#0d0887"
             ],
             [
              0.1111111111111111,
              "#46039f"
             ],
             [
              0.2222222222222222,
              "#7201a8"
             ],
             [
              0.3333333333333333,
              "#9c179e"
             ],
             [
              0.4444444444444444,
              "#bd3786"
             ],
             [
              0.5555555555555556,
              "#d8576b"
             ],
             [
              0.6666666666666666,
              "#ed7953"
             ],
             [
              0.7777777777777778,
              "#fb9f3a"
             ],
             [
              0.8888888888888888,
              "#fdca26"
             ],
             [
              1,
              "#f0f921"
             ]
            ],
            "type": "histogram2d"
           }
          ],
          "histogram2dcontour": [
           {
            "colorbar": {
             "outlinewidth": 0,
             "ticks": ""
            },
            "colorscale": [
             [
              0,
              "#0d0887"
             ],
             [
              0.1111111111111111,
              "#46039f"
             ],
             [
              0.2222222222222222,
              "#7201a8"
             ],
             [
              0.3333333333333333,
              "#9c179e"
             ],
             [
              0.4444444444444444,
              "#bd3786"
             ],
             [
              0.5555555555555556,
              "#d8576b"
             ],
             [
              0.6666666666666666,
              "#ed7953"
             ],
             [
              0.7777777777777778,
              "#fb9f3a"
             ],
             [
              0.8888888888888888,
              "#fdca26"
             ],
             [
              1,
              "#f0f921"
             ]
            ],
            "type": "histogram2dcontour"
           }
          ],
          "mesh3d": [
           {
            "colorbar": {
             "outlinewidth": 0,
             "ticks": ""
            },
            "type": "mesh3d"
           }
          ],
          "parcoords": [
           {
            "line": {
             "colorbar": {
              "outlinewidth": 0,
              "ticks": ""
             }
            },
            "type": "parcoords"
           }
          ],
          "pie": [
           {
            "automargin": true,
            "type": "pie"
           }
          ],
          "scatter": [
           {
            "fillpattern": {
             "fillmode": "overlay",
             "size": 10,
             "solidity": 0.2
            },
            "type": "scatter"
           }
          ],
          "scatter3d": [
           {
            "line": {
             "colorbar": {
              "outlinewidth": 0,
              "ticks": ""
             }
            },
            "marker": {
             "colorbar": {
              "outlinewidth": 0,
              "ticks": ""
             }
            },
            "type": "scatter3d"
           }
          ],
          "scattercarpet": [
           {
            "marker": {
             "colorbar": {
              "outlinewidth": 0,
              "ticks": ""
             }
            },
            "type": "scattercarpet"
           }
          ],
          "scattergeo": [
           {
            "marker": {
             "colorbar": {
              "outlinewidth": 0,
              "ticks": ""
             }
            },
            "type": "scattergeo"
           }
          ],
          "scattergl": [
           {
            "marker": {
             "colorbar": {
              "outlinewidth": 0,
              "ticks": ""
             }
            },
            "type": "scattergl"
           }
          ],
          "scattermapbox": [
           {
            "marker": {
             "colorbar": {
              "outlinewidth": 0,
              "ticks": ""
             }
            },
            "type": "scattermapbox"
           }
          ],
          "scatterpolar": [
           {
            "marker": {
             "colorbar": {
              "outlinewidth": 0,
              "ticks": ""
             }
            },
            "type": "scatterpolar"
           }
          ],
          "scatterpolargl": [
           {
            "marker": {
             "colorbar": {
              "outlinewidth": 0,
              "ticks": ""
             }
            },
            "type": "scatterpolargl"
           }
          ],
          "scatterternary": [
           {
            "marker": {
             "colorbar": {
              "outlinewidth": 0,
              "ticks": ""
             }
            },
            "type": "scatterternary"
           }
          ],
          "surface": [
           {
            "colorbar": {
             "outlinewidth": 0,
             "ticks": ""
            },
            "colorscale": [
             [
              0,
              "#0d0887"
             ],
             [
              0.1111111111111111,
              "#46039f"
             ],
             [
              0.2222222222222222,
              "#7201a8"
             ],
             [
              0.3333333333333333,
              "#9c179e"
             ],
             [
              0.4444444444444444,
              "#bd3786"
             ],
             [
              0.5555555555555556,
              "#d8576b"
             ],
             [
              0.6666666666666666,
              "#ed7953"
             ],
             [
              0.7777777777777778,
              "#fb9f3a"
             ],
             [
              0.8888888888888888,
              "#fdca26"
             ],
             [
              1,
              "#f0f921"
             ]
            ],
            "type": "surface"
           }
          ],
          "table": [
           {
            "cells": {
             "fill": {
              "color": "#EBF0F8"
             },
             "line": {
              "color": "white"
             }
            },
            "header": {
             "fill": {
              "color": "#C8D4E3"
             },
             "line": {
              "color": "white"
             }
            },
            "type": "table"
           }
          ]
         },
         "layout": {
          "annotationdefaults": {
           "arrowcolor": "#2a3f5f",
           "arrowhead": 0,
           "arrowwidth": 1
          },
          "autotypenumbers": "strict",
          "coloraxis": {
           "colorbar": {
            "outlinewidth": 0,
            "ticks": ""
           }
          },
          "colorscale": {
           "diverging": [
            [
             0,
             "#8e0152"
            ],
            [
             0.1,
             "#c51b7d"
            ],
            [
             0.2,
             "#de77ae"
            ],
            [
             0.3,
             "#f1b6da"
            ],
            [
             0.4,
             "#fde0ef"
            ],
            [
             0.5,
             "#f7f7f7"
            ],
            [
             0.6,
             "#e6f5d0"
            ],
            [
             0.7,
             "#b8e186"
            ],
            [
             0.8,
             "#7fbc41"
            ],
            [
             0.9,
             "#4d9221"
            ],
            [
             1,
             "#276419"
            ]
           ],
           "sequential": [
            [
             0,
             "#0d0887"
            ],
            [
             0.1111111111111111,
             "#46039f"
            ],
            [
             0.2222222222222222,
             "#7201a8"
            ],
            [
             0.3333333333333333,
             "#9c179e"
            ],
            [
             0.4444444444444444,
             "#bd3786"
            ],
            [
             0.5555555555555556,
             "#d8576b"
            ],
            [
             0.6666666666666666,
             "#ed7953"
            ],
            [
             0.7777777777777778,
             "#fb9f3a"
            ],
            [
             0.8888888888888888,
             "#fdca26"
            ],
            [
             1,
             "#f0f921"
            ]
           ],
           "sequentialminus": [
            [
             0,
             "#0d0887"
            ],
            [
             0.1111111111111111,
             "#46039f"
            ],
            [
             0.2222222222222222,
             "#7201a8"
            ],
            [
             0.3333333333333333,
             "#9c179e"
            ],
            [
             0.4444444444444444,
             "#bd3786"
            ],
            [
             0.5555555555555556,
             "#d8576b"
            ],
            [
             0.6666666666666666,
             "#ed7953"
            ],
            [
             0.7777777777777778,
             "#fb9f3a"
            ],
            [
             0.8888888888888888,
             "#fdca26"
            ],
            [
             1,
             "#f0f921"
            ]
           ]
          },
          "colorway": [
           "#636efa",
           "#EF553B",
           "#00cc96",
           "#ab63fa",
           "#FFA15A",
           "#19d3f3",
           "#FF6692",
           "#B6E880",
           "#FF97FF",
           "#FECB52"
          ],
          "font": {
           "color": "#2a3f5f"
          },
          "geo": {
           "bgcolor": "white",
           "lakecolor": "white",
           "landcolor": "#E5ECF6",
           "showlakes": true,
           "showland": true,
           "subunitcolor": "white"
          },
          "hoverlabel": {
           "align": "left"
          },
          "hovermode": "closest",
          "mapbox": {
           "style": "light"
          },
          "paper_bgcolor": "white",
          "plot_bgcolor": "#E5ECF6",
          "polar": {
           "angularaxis": {
            "gridcolor": "white",
            "linecolor": "white",
            "ticks": ""
           },
           "bgcolor": "#E5ECF6",
           "radialaxis": {
            "gridcolor": "white",
            "linecolor": "white",
            "ticks": ""
           }
          },
          "scene": {
           "xaxis": {
            "backgroundcolor": "#E5ECF6",
            "gridcolor": "white",
            "gridwidth": 2,
            "linecolor": "white",
            "showbackground": true,
            "ticks": "",
            "zerolinecolor": "white"
           },
           "yaxis": {
            "backgroundcolor": "#E5ECF6",
            "gridcolor": "white",
            "gridwidth": 2,
            "linecolor": "white",
            "showbackground": true,
            "ticks": "",
            "zerolinecolor": "white"
           },
           "zaxis": {
            "backgroundcolor": "#E5ECF6",
            "gridcolor": "white",
            "gridwidth": 2,
            "linecolor": "white",
            "showbackground": true,
            "ticks": "",
            "zerolinecolor": "white"
           }
          },
          "shapedefaults": {
           "line": {
            "color": "#2a3f5f"
           }
          },
          "ternary": {
           "aaxis": {
            "gridcolor": "white",
            "linecolor": "white",
            "ticks": ""
           },
           "baxis": {
            "gridcolor": "white",
            "linecolor": "white",
            "ticks": ""
           },
           "bgcolor": "#E5ECF6",
           "caxis": {
            "gridcolor": "white",
            "linecolor": "white",
            "ticks": ""
           }
          },
          "title": {
           "x": 0.05
          },
          "xaxis": {
           "automargin": true,
           "gridcolor": "white",
           "linecolor": "white",
           "ticks": "",
           "title": {
            "standoff": 15
           },
           "zerolinecolor": "white",
           "zerolinewidth": 2
          },
          "yaxis": {
           "automargin": true,
           "gridcolor": "white",
           "linecolor": "white",
           "ticks": "",
           "title": {
            "standoff": 15
           },
           "zerolinecolor": "white",
           "zerolinewidth": 2
          }
         }
        }
       }
      }
     },
     "metadata": {},
     "output_type": "display_data"
    }
   ],
   "source": [
    "plot_crit_points_from_file(model, 'data/sweeps/PEDESTRIAN/11.txt', 200)"
   ]
  }
 ],
 "metadata": {
  "kernelspec": {
   "display_name": "Python 3 (ipykernel)",
   "language": "python",
   "name": "python3"
  },
  "language_info": {
   "codemirror_mode": {
    "name": "ipython",
    "version": 3
   },
   "file_extension": ".py",
   "mimetype": "text/x-python",
   "name": "python",
   "nbconvert_exporter": "python",
   "pygments_lexer": "ipython3",
   "version": "3.10.0"
  },
  "vscode": {
   "interpreter": {
    "hash": "74396501bd377449ed34cc27f22eec8ef2c76b2ba7fe805dab1a9b94c2831a5b"
   }
  },
  "widgets": {
   "state": {},
   "version": "1.1.2"
  }
 },
 "nbformat": 4,
 "nbformat_minor": 4
}
