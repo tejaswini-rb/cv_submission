{
 "cells": [
  {
   "cell_type": "markdown",
   "metadata": {},
   "source": [
    "# Project 5: Classifying Point Clouds with PointNet"
   ]
  },
  {
   "cell_type": "markdown",
   "metadata": {},
   "source": [
    "For this project, we are going to build deep learning architectures to classify point clouds that were extracted from self-driving car LiDAR scans.\n",
    "\n",
    "Basic learning objectives of this project:\n",
    "* Construct the basic pipeline used for point cloud classification\n",
    "* Analyze the results from our model and look for potential points of improvement\n",
    "* Understand the limitations of the model and improve it using positional encodings"
   ]
  },
  {
   "cell_type": "markdown",
   "metadata": {},
   "source": [
    "## Setup"
   ]
  },
  {
   "cell_type": "code",
   "execution_count": 58,
   "metadata": {},
   "outputs": [
    {
     "name": "stdout",
     "output_type": "stream",
     "text": [
      "The autoreload extension is already loaded. To reload it, use:\n",
      "  %reload_ext autoreload\n"
     ]
    }
   ],
   "source": [
    "%matplotlib inline\n",
    "%load_ext autoreload\n",
    "%autoreload 2\n",
    "\n",
    "import torch\n",
    "from vision.utils import verify"
   ]
  },
  {
   "cell_type": "code",
   "execution_count": 59,
   "metadata": {},
   "outputs": [
    {
     "name": "stdout",
     "output_type": "stream",
     "text": [
      "Apple Silicon GPU detected. Consider setting use_apple_silicon to True.\n",
      "Using device: cpu\n"
     ]
    }
   ],
   "source": [
    "device = torch.device('cpu')\n",
    "# If you have an NVIDIA GPU with at least 2 GB of VRAM, set this to True\n",
    "use_cuda = False\n",
    "# If you have an Apple Silicon Mac, set this to True\n",
    "use_apple_silicon = False\n",
    "if torch.cuda.is_available():\n",
    "    if use_cuda:\n",
    "        device = torch.device('cuda')\n",
    "        print(\"CUDA-compatible NVIDIA GPU enabled.\")\n",
    "    else:\n",
    "        print(\"CUDA-compatible NVIDIA GPU detected. Consider setting use_cuda to True.\")\n",
    "if torch.backends.mps.is_available() and torch.backends.mps.is_built():\n",
    "    if use_apple_silicon:\n",
    "        device = torch.device('mps')\n",
    "        print(\"Apple Silicon GPU enabled.\")\n",
    "    else:\n",
    "        print(\"Apple Silicon GPU detected. Consider setting use_apple_silicon to True.\")\n",
    "        \n",
    "\n",
    "print(\"Using device: %s\" % str(device))"
   ]
  },
  {
   "cell_type": "markdown",
   "metadata": {},
   "source": [
    "Lets take a second to visualize a few point clouds that we are going to train our model on. You might need to rotate the visualization before you can actually see the object being represented by the points. See if you can make out this pedestrian's arms, legs, and head."
   ]
  },
  {
   "cell_type": "code",
   "execution_count": 6,
   "metadata": {},
   "outputs": [
    {
     "data": {
      "application/vnd.plotly.v1+json": {
       "config": {
        "plotlyServerURL": "https://plot.ly"
       },
       "data": [
        {
         "hovertemplate": "x=%{x}<br>y=%{y}<br>z=%{z}<extra></extra>",
         "legendgroup": "",
         "marker": {
          "color": "#636efa",
          "symbol": "circle"
         },
         "mode": "markers",
         "name": "",
         "scene": "scene",
         "showlegend": false,
         "type": "scatter3d",
         "x": [
          0.1484375,
          0.171875,
          0.1328125,
          0.1484375,
          0.203125,
          0.078125,
          0.1640625,
          0.2265625,
          0.1875,
          0.21875,
          0.1015625,
          0.078125,
          0.1171875,
          0.0859375,
          0.171875,
          0.2265625,
          0.21875,
          0.1640625,
          0.1796875,
          0.21875,
          0.2578125,
          0.1015625,
          0.1484375,
          0.1328125,
          0.2578125,
          0.109375,
          0.046875,
          0.15625,
          0.1796875,
          0.2265625,
          0.2265625,
          0.2578125,
          0.0625,
          0.2421875,
          0.109375,
          0.046875,
          0.2578125,
          0.1484375,
          0.1796875,
          -0.015625,
          0.109375,
          0.0625,
          0.1796875,
          0.28125,
          0,
          0.0859375,
          -0.0703125,
          0.109375,
          0.0078125,
          0.2265625,
          0.1953125,
          0,
          0.28125,
          0.15625,
          0.21875,
          0.2578125,
          0.0546875,
          0.015625,
          0.1796875,
          0.1875,
          0.0625,
          0.109375,
          0.0390625,
          0.2578125,
          0.1171875,
          0.2578125,
          -0.046875,
          0.0703125,
          0.140625,
          0.0078125,
          0.015625,
          0.09375,
          0.171875,
          -0.0859375,
          0.125,
          0.125,
          0.3203125,
          0.28125,
          -0.0546875,
          0.203125,
          0.015625,
          -0.0625,
          -0.140625,
          -0.1015625,
          0.28125,
          0.2265625,
          0,
          0.28125,
          0.0546875,
          -0.0234375,
          0.015625,
          0.1953125,
          0.1640625,
          0.125,
          0.0859375,
          0.0234375,
          0.1328125,
          -0.0625,
          -0.046875,
          -0.0546875,
          0.2109375,
          -0.1484375,
          -0.0703125,
          -0.0625,
          0.2890625,
          0.1796875,
          -0.078125,
          0.1328125,
          0.046875,
          0.078125,
          -0.1171875,
          0.1171875,
          0.1328125,
          0.2265625,
          -0.09375,
          0.1796875,
          0.0546875,
          0.203125,
          0.15625,
          0.1484375,
          0.078125,
          -0.078125,
          0,
          0.1328125,
          0.1875,
          0.2421875,
          0.046875,
          -0.015625,
          0.1015625,
          -0.0546875,
          -0.078125,
          0.171875,
          -0.0390625,
          -0.1171875,
          0.046875,
          0.046875,
          -0.1640625,
          0.1953125,
          -0.078125,
          0.0625,
          0.03125,
          0.0546875,
          0.1015625,
          0,
          0.109375,
          -0.1640625,
          -0.0078125,
          -0.140625,
          -0.1796875,
          0.0625,
          -0.203125,
          -0.0078125,
          -0.3203125
         ],
         "y": [
          0.140625,
          0.0859375,
          0.125,
          0.078125,
          0.0546875,
          0.1640625,
          0.09375,
          -0.0078125,
          0.03125,
          -0.0234375,
          0.1171875,
          0.1640625,
          0.1328125,
          0.1640625,
          0.015625,
          0.0078125,
          -0.03125,
          0.03125,
          0.0078125,
          -0.015625,
          -0.078125,
          0.1015625,
          0.0625,
          0.0625,
          -0.0390625,
          0.1015625,
          0.1484375,
          0.078125,
          0.015625,
          -0.0078125,
          0,
          -0.046875,
          0.1328125,
          -0.0703125,
          0.109375,
          0.1328125,
          -0.046875,
          0.0703125,
          0.0234375,
          0.2265625,
          0.109375,
          0.1484375,
          0.0234375,
          -0.1015625,
          0.1640625,
          0.0859375,
          0.25,
          0.0234375,
          0.1796875,
          -0.1015625,
          -0.0390625,
          0.1640625,
          -0.1015625,
          0,
          -0.046875,
          -0.1171875,
          0.140625,
          0.171875,
          -0.0078125,
          -0.046875,
          0.1171875,
          0.0546875,
          0.1171875,
          -0.1484375,
          0.03125,
          -0.109375,
          0.203125,
          0.0859375,
          0.0078125,
          0.171875,
          0.1484375,
          0.0625,
          -0.0390625,
          0.234375,
          -0.03125,
          0.015625,
          -0.203125,
          -0.1640625,
          0.1875,
          -0.0859375,
          0.1171875,
          0.203125,
          0.25,
          0.21875,
          -0.171875,
          -0.1171875,
          0.0703125,
          -0.171875,
          0.0703125,
          0.15625,
          0.109375,
          -0.1171875,
          -0.0546875,
          -0.015625,
          0.0234375,
          0.0234375,
          -0.0234375,
          0.1640625,
          0.125,
          0.1328125,
          -0.15625,
          0.1953125,
          0.109375,
          0.09375,
          -0.234375,
          -0.109375,
          0.171875,
          -0.0234375,
          -0.03125,
          0.0078125,
          0.1484375,
          -0.0234375,
          -0.0546875,
          -0.1796875,
          0.1640625,
          -0.1171875,
          0.015625,
          -0.1875,
          -0.109375,
          -0.078125,
          -0.03125,
          0.046875,
          0.046875,
          -0.0859375,
          -0.1796875,
          -0.25,
          -0.0078125,
          -0.046875,
          -0.046875,
          -0.0078125,
          0.0234375,
          -0.171875,
          -0.0234375,
          0.0625,
          -0.015625,
          -0.015625,
          0.0859375,
          -0.2421875,
          0.0546875,
          -0.078125,
          -0.046875,
          -0.09375,
          -0.1171875,
          -0.0625,
          -0.1953125,
          -0.0390625,
          -0.0859375,
          -0.09375,
          -0.0625,
          -0.234375,
          -0.0703125,
          -0.15625,
          -0.1015625
         ],
         "z": [
          0.1502685546875,
          0.0506591796875,
          0.0501708984375,
          -0.1265869140625,
          0.3328857421875,
          0.0491943359375,
          0.3328857421875,
          -0.0430908203125,
          -0.0435791015625,
          -0.4195556640625,
          -0.1270751953125,
          0.1483154296875,
          0.3319091796875,
          0.3319091796875,
          -0.4205322265625,
          0.3328857421875,
          -0.2325439453125,
          -0.1270751953125,
          -0.2330322265625,
          0.0491943359375,
          -0.2325439453125,
          -0.0450439453125,
          0.1419677734375,
          -0.0450439453125,
          0.3328857421875,
          0.1414794921875,
          -0.1285400390625,
          0.4237060546875,
          0.1419677734375,
          0.4237060546875,
          0.5155029296875,
          0.4246826171875,
          0.1405029296875,
          0.0487060546875,
          0.4237060546875,
          -0.0465087890625,
          0.5155029296875,
          0.5145263671875,
          0.4237060546875,
          0.3309326171875,
          0.5145263671875,
          0.4227294921875,
          0.5145263671875,
          0.4237060546875,
          0.0457763671875,
          0.2337646484375,
          0.1453857421875,
          -0.2364501953125,
          0.3309326171875,
          -0.1417236328125,
          0.2342529296875,
          0.1395263671875,
          0.5155029296875,
          0.2342529296875,
          0.4227294921875,
          0.1478271484375,
          0.5145263671875,
          0.4227294921875,
          0.4217529296875,
          0.1405029296875,
          0.4217529296875,
          0.3280029296875,
          0.2332763671875,
          -0.1422119140625,
          0.2337646484375,
          0.3319091796875,
          0.1453857421875,
          0.3280029296875,
          0.3280029296875,
          0.5135498046875,
          0.4207763671875,
          0.4217529296875,
          0.3280029296875,
          0.2318115234375,
          -0.1441650390625,
          0.4217529296875,
          0.3319091796875,
          0.3309326171875,
          0.2318115234375,
          0.3280029296875,
          0.3270263671875,
          0.3270263671875,
          -0.1475830078125,
          0.1370849609375,
          0.4227294921875,
          0.4207763671875,
          -0.1466064453125,
          0.5145263671875,
          0.5145263671875,
          0.5135498046875,
          0.5145263671875,
          0.2322998046875,
          0.5145263671875,
          0.5145263671875,
          0.5145263671875,
          -0.1475830078125,
          0.6053466796875,
          0.4197998046875,
          0.2303466796875,
          0.3250732421875,
          0.3270263671875,
          -0.1363525390625,
          -0.0528564453125,
          -0.1490478515625,
          0.4227294921875,
          0.5145263671875,
          0.5135498046875,
          0.7899169921875,
          -0.1485595703125,
          0.6053466796875,
          -0.1363525390625,
          0.6981201171875,
          0.6072998046875,
          0.4197998046875,
          0.4197998046875,
          0.6053466796875,
          0.6072998046875,
          0.2308349609375,
          0.6072998046875,
          0.7899169921875,
          0.6072998046875,
          -0.510986328125,
          0.6063232421875,
          0.6981201171875,
          0.5135498046875,
          0.4188232421875,
          0.6981201171875,
          -0.51171875,
          0.8817138671875,
          -0.51220703125,
          -0.2469482421875,
          0.6072998046875,
          -0.2464599609375,
          -0.2474365234375,
          0.7899169921875,
          0.8817138671875,
          -0.2491455078125,
          0.5125732421875,
          0.6053466796875,
          0.7957763671875,
          0.7947998046875,
          0.7010498046875,
          0.8826904296875,
          0.7010498046875,
          0.7010498046875,
          -0.63665771484375,
          0.8895263671875,
          -0.63739013671875,
          -0.8753662109375,
          0.7947998046875,
          -0.4495849609375,
          0.8895263671875,
          -0.8895263671875
         ]
        }
       ],
       "layout": {
        "legend": {
         "tracegroupgap": 0
        },
        "margin": {
         "t": 60
        },
        "scene": {
         "domain": {
          "x": [
           0,
           1
          ],
          "y": [
           0,
           1
          ]
         },
         "xaxis": {
          "title": {
           "text": "x"
          }
         },
         "yaxis": {
          "title": {
           "text": "y"
          }
         },
         "zaxis": {
          "title": {
           "text": "z"
          }
         }
        },
        "template": {
         "data": {
          "bar": [
           {
            "error_x": {
             "color": "#2a3f5f"
            },
            "error_y": {
             "color": "#2a3f5f"
            },
            "marker": {
             "line": {
              "color": "#E5ECF6",
              "width": 0.5
             },
             "pattern": {
              "fillmode": "overlay",
              "size": 10,
              "solidity": 0.2
             }
            },
            "type": "bar"
           }
          ],
          "barpolar": [
           {
            "marker": {
             "line": {
              "color": "#E5ECF6",
              "width": 0.5
             },
             "pattern": {
              "fillmode": "overlay",
              "size": 10,
              "solidity": 0.2
             }
            },
            "type": "barpolar"
           }
          ],
          "carpet": [
           {
            "aaxis": {
             "endlinecolor": "#2a3f5f",
             "gridcolor": "white",
             "linecolor": "white",
             "minorgridcolor": "white",
             "startlinecolor": "#2a3f5f"
            },
            "baxis": {
             "endlinecolor": "#2a3f5f",
             "gridcolor": "white",
             "linecolor": "white",
             "minorgridcolor": "white",
             "startlinecolor": "#2a3f5f"
            },
            "type": "carpet"
           }
          ],
          "choropleth": [
           {
            "colorbar": {
             "outlinewidth": 0,
             "ticks": ""
            },
            "type": "choropleth"
           }
          ],
          "contour": [
           {
            "colorbar": {
             "outlinewidth": 0,
             "ticks": ""
            },
            "colorscale": [
             [
              0,
              "#0d0887"
             ],
             [
              0.1111111111111111,
              "#46039f"
             ],
             [
              0.2222222222222222,
              "#7201a8"
             ],
             [
              0.3333333333333333,
              "#9c179e"
             ],
             [
              0.4444444444444444,
              "#bd3786"
             ],
             [
              0.5555555555555556,
              "#d8576b"
             ],
             [
              0.6666666666666666,
              "#ed7953"
             ],
             [
              0.7777777777777778,
              "#fb9f3a"
             ],
             [
              0.8888888888888888,
              "#fdca26"
             ],
             [
              1,
              "#f0f921"
             ]
            ],
            "type": "contour"
           }
          ],
          "contourcarpet": [
           {
            "colorbar": {
             "outlinewidth": 0,
             "ticks": ""
            },
            "type": "contourcarpet"
           }
          ],
          "heatmap": [
           {
            "colorbar": {
             "outlinewidth": 0,
             "ticks": ""
            },
            "colorscale": [
             [
              0,
              "#0d0887"
             ],
             [
              0.1111111111111111,
              "#46039f"
             ],
             [
              0.2222222222222222,
              "#7201a8"
             ],
             [
              0.3333333333333333,
              "#9c179e"
             ],
             [
              0.4444444444444444,
              "#bd3786"
             ],
             [
              0.5555555555555556,
              "#d8576b"
             ],
             [
              0.6666666666666666,
              "#ed7953"
             ],
             [
              0.7777777777777778,
              "#fb9f3a"
             ],
             [
              0.8888888888888888,
              "#fdca26"
             ],
             [
              1,
              "#f0f921"
             ]
            ],
            "type": "heatmap"
           }
          ],
          "heatmapgl": [
           {
            "colorbar": {
             "outlinewidth": 0,
             "ticks": ""
            },
            "colorscale": [
             [
              0,
              "#0d0887"
             ],
             [
              0.1111111111111111,
              "#46039f"
             ],
             [
              0.2222222222222222,
              "#7201a8"
             ],
             [
              0.3333333333333333,
              "#9c179e"
             ],
             [
              0.4444444444444444,
              "#bd3786"
             ],
             [
              0.5555555555555556,
              "#d8576b"
             ],
             [
              0.6666666666666666,
              "#ed7953"
             ],
             [
              0.7777777777777778,
              "#fb9f3a"
             ],
             [
              0.8888888888888888,
              "#fdca26"
             ],
             [
              1,
              "#f0f921"
             ]
            ],
            "type": "heatmapgl"
           }
          ],
          "histogram": [
           {
            "marker": {
             "pattern": {
              "fillmode": "overlay",
              "size": 10,
              "solidity": 0.2
             }
            },
            "type": "histogram"
           }
          ],
          "histogram2d": [
           {
            "colorbar": {
             "outlinewidth": 0,
             "ticks": ""
            },
            "colorscale": [
             [
              0,
              "#0d0887"
             ],
             [
              0.1111111111111111,
              "#46039f"
             ],
             [
              0.2222222222222222,
              "#7201a8"
             ],
             [
              0.3333333333333333,
              "#9c179e"
             ],
             [
              0.4444444444444444,
              "#bd3786"
             ],
             [
              0.5555555555555556,
              "#d8576b"
             ],
             [
              0.6666666666666666,
              "#ed7953"
             ],
             [
              0.7777777777777778,
              "#fb9f3a"
             ],
             [
              0.8888888888888888,
              "#fdca26"
             ],
             [
              1,
              "#f0f921"
             ]
            ],
            "type": "histogram2d"
           }
          ],
          "histogram2dcontour": [
           {
            "colorbar": {
             "outlinewidth": 0,
             "ticks": ""
            },
            "colorscale": [
             [
              0,
              "#0d0887"
             ],
             [
              0.1111111111111111,
              "#46039f"
             ],
             [
              0.2222222222222222,
              "#7201a8"
             ],
             [
              0.3333333333333333,
              "#9c179e"
             ],
             [
              0.4444444444444444,
              "#bd3786"
             ],
             [
              0.5555555555555556,
              "#d8576b"
             ],
             [
              0.6666666666666666,
              "#ed7953"
             ],
             [
              0.7777777777777778,
              "#fb9f3a"
             ],
             [
              0.8888888888888888,
              "#fdca26"
             ],
             [
              1,
              "#f0f921"
             ]
            ],
            "type": "histogram2dcontour"
           }
          ],
          "mesh3d": [
           {
            "colorbar": {
             "outlinewidth": 0,
             "ticks": ""
            },
            "type": "mesh3d"
           }
          ],
          "parcoords": [
           {
            "line": {
             "colorbar": {
              "outlinewidth": 0,
              "ticks": ""
             }
            },
            "type": "parcoords"
           }
          ],
          "pie": [
           {
            "automargin": true,
            "type": "pie"
           }
          ],
          "scatter": [
           {
            "fillpattern": {
             "fillmode": "overlay",
             "size": 10,
             "solidity": 0.2
            },
            "type": "scatter"
           }
          ],
          "scatter3d": [
           {
            "line": {
             "colorbar": {
              "outlinewidth": 0,
              "ticks": ""
             }
            },
            "marker": {
             "colorbar": {
              "outlinewidth": 0,
              "ticks": ""
             }
            },
            "type": "scatter3d"
           }
          ],
          "scattercarpet": [
           {
            "marker": {
             "colorbar": {
              "outlinewidth": 0,
              "ticks": ""
             }
            },
            "type": "scattercarpet"
           }
          ],
          "scattergeo": [
           {
            "marker": {
             "colorbar": {
              "outlinewidth": 0,
              "ticks": ""
             }
            },
            "type": "scattergeo"
           }
          ],
          "scattergl": [
           {
            "marker": {
             "colorbar": {
              "outlinewidth": 0,
              "ticks": ""
             }
            },
            "type": "scattergl"
           }
          ],
          "scattermapbox": [
           {
            "marker": {
             "colorbar": {
              "outlinewidth": 0,
              "ticks": ""
             }
            },
            "type": "scattermapbox"
           }
          ],
          "scatterpolar": [
           {
            "marker": {
             "colorbar": {
              "outlinewidth": 0,
              "ticks": ""
             }
            },
            "type": "scatterpolar"
           }
          ],
          "scatterpolargl": [
           {
            "marker": {
             "colorbar": {
              "outlinewidth": 0,
              "ticks": ""
             }
            },
            "type": "scatterpolargl"
           }
          ],
          "scatterternary": [
           {
            "marker": {
             "colorbar": {
              "outlinewidth": 0,
              "ticks": ""
             }
            },
            "type": "scatterternary"
           }
          ],
          "surface": [
           {
            "colorbar": {
             "outlinewidth": 0,
             "ticks": ""
            },
            "colorscale": [
             [
              0,
              "#0d0887"
             ],
             [
              0.1111111111111111,
              "#46039f"
             ],
             [
              0.2222222222222222,
              "#7201a8"
             ],
             [
              0.3333333333333333,
              "#9c179e"
             ],
             [
              0.4444444444444444,
              "#bd3786"
             ],
             [
              0.5555555555555556,
              "#d8576b"
             ],
             [
              0.6666666666666666,
              "#ed7953"
             ],
             [
              0.7777777777777778,
              "#fb9f3a"
             ],
             [
              0.8888888888888888,
              "#fdca26"
             ],
             [
              1,
              "#f0f921"
             ]
            ],
            "type": "surface"
           }
          ],
          "table": [
           {
            "cells": {
             "fill": {
              "color": "#EBF0F8"
             },
             "line": {
              "color": "white"
             }
            },
            "header": {
             "fill": {
              "color": "#C8D4E3"
             },
             "line": {
              "color": "white"
             }
            },
            "type": "table"
           }
          ]
         },
         "layout": {
          "annotationdefaults": {
           "arrowcolor": "#2a3f5f",
           "arrowhead": 0,
           "arrowwidth": 1
          },
          "autotypenumbers": "strict",
          "coloraxis": {
           "colorbar": {
            "outlinewidth": 0,
            "ticks": ""
           }
          },
          "colorscale": {
           "diverging": [
            [
             0,
             "#8e0152"
            ],
            [
             0.1,
             "#c51b7d"
            ],
            [
             0.2,
             "#de77ae"
            ],
            [
             0.3,
             "#f1b6da"
            ],
            [
             0.4,
             "#fde0ef"
            ],
            [
             0.5,
             "#f7f7f7"
            ],
            [
             0.6,
             "#e6f5d0"
            ],
            [
             0.7,
             "#b8e186"
            ],
            [
             0.8,
             "#7fbc41"
            ],
            [
             0.9,
             "#4d9221"
            ],
            [
             1,
             "#276419"
            ]
           ],
           "sequential": [
            [
             0,
             "#0d0887"
            ],
            [
             0.1111111111111111,
             "#46039f"
            ],
            [
             0.2222222222222222,
             "#7201a8"
            ],
            [
             0.3333333333333333,
             "#9c179e"
            ],
            [
             0.4444444444444444,
             "#bd3786"
            ],
            [
             0.5555555555555556,
             "#d8576b"
            ],
            [
             0.6666666666666666,
             "#ed7953"
            ],
            [
             0.7777777777777778,
             "#fb9f3a"
            ],
            [
             0.8888888888888888,
             "#fdca26"
            ],
            [
             1,
             "#f0f921"
            ]
           ],
           "sequentialminus": [
            [
             0,
             "#0d0887"
            ],
            [
             0.1111111111111111,
             "#46039f"
            ],
            [
             0.2222222222222222,
             "#7201a8"
            ],
            [
             0.3333333333333333,
             "#9c179e"
            ],
            [
             0.4444444444444444,
             "#bd3786"
            ],
            [
             0.5555555555555556,
             "#d8576b"
            ],
            [
             0.6666666666666666,
             "#ed7953"
            ],
            [
             0.7777777777777778,
             "#fb9f3a"
            ],
            [
             0.8888888888888888,
             "#fdca26"
            ],
            [
             1,
             "#f0f921"
            ]
           ]
          },
          "colorway": [
           "#636efa",
           "#EF553B",
           "#00cc96",
           "#ab63fa",
           "#FFA15A",
           "#19d3f3",
           "#FF6692",
           "#B6E880",
           "#FF97FF",
           "#FECB52"
          ],
          "font": {
           "color": "#2a3f5f"
          },
          "geo": {
           "bgcolor": "white",
           "lakecolor": "white",
           "landcolor": "#E5ECF6",
           "showlakes": true,
           "showland": true,
           "subunitcolor": "white"
          },
          "hoverlabel": {
           "align": "left"
          },
          "hovermode": "closest",
          "mapbox": {
           "style": "light"
          },
          "paper_bgcolor": "white",
          "plot_bgcolor": "#E5ECF6",
          "polar": {
           "angularaxis": {
            "gridcolor": "white",
            "linecolor": "white",
            "ticks": ""
           },
           "bgcolor": "#E5ECF6",
           "radialaxis": {
            "gridcolor": "white",
            "linecolor": "white",
            "ticks": ""
           }
          },
          "scene": {
           "xaxis": {
            "backgroundcolor": "#E5ECF6",
            "gridcolor": "white",
            "gridwidth": 2,
            "linecolor": "white",
            "showbackground": true,
            "ticks": "",
            "zerolinecolor": "white"
           },
           "yaxis": {
            "backgroundcolor": "#E5ECF6",
            "gridcolor": "white",
            "gridwidth": 2,
            "linecolor": "white",
            "showbackground": true,
            "ticks": "",
            "zerolinecolor": "white"
           },
           "zaxis": {
            "backgroundcolor": "#E5ECF6",
            "gridcolor": "white",
            "gridwidth": 2,
            "linecolor": "white",
            "showbackground": true,
            "ticks": "",
            "zerolinecolor": "white"
           }
          },
          "shapedefaults": {
           "line": {
            "color": "#2a3f5f"
           }
          },
          "ternary": {
           "aaxis": {
            "gridcolor": "white",
            "linecolor": "white",
            "ticks": ""
           },
           "baxis": {
            "gridcolor": "white",
            "linecolor": "white",
            "ticks": ""
           },
           "bgcolor": "#E5ECF6",
           "caxis": {
            "gridcolor": "white",
            "linecolor": "white",
            "ticks": ""
           }
          },
          "title": {
           "x": 0.05
          },
          "xaxis": {
           "automargin": true,
           "gridcolor": "white",
           "linecolor": "white",
           "ticks": "",
           "title": {
            "standoff": 15
           },
           "zerolinecolor": "white",
           "zerolinewidth": 2
          },
          "yaxis": {
           "automargin": true,
           "gridcolor": "white",
           "linecolor": "white",
           "ticks": "",
           "title": {
            "standoff": 15
           },
           "zerolinecolor": "white",
           "zerolinewidth": 2
          }
         }
        }
       }
      }
     },
     "metadata": {},
     "output_type": "display_data"
    }
   ],
   "source": [
    "from vision.utils import plot_cloud_from_file\n",
    "\n",
    "plot_cloud_from_file('data/sweeps/PEDESTRIAN/11.txt')"
   ]
  },
  {
   "cell_type": "markdown",
   "metadata": {},
   "source": [
    "## Part 1: Data Loading"
   ]
  },
  {
   "cell_type": "markdown",
   "metadata": {},
   "source": [
    "The first order of business we're going to take care of is writing a PyTorch dataset that will load in the data we'll be using to train and test our model. We have a total of 20 different classes that all found under the `data/sweeps` folder and each class has been split into a training and testing set. We will write a class that will load the appropriate data given the split we pass in (i.e. train/test split).\n",
    "\n",
    "**TODO 1:** complete `part1_dataloader.py`"
   ]
  },
  {
   "cell_type": "code",
   "execution_count": 7,
   "metadata": {},
   "outputs": [],
   "source": [
    "from vision.part1_dataloader import Argoverse\n",
    "from torch.utils.data import DataLoader\n",
    "from tests.test_part1 import (\n",
    "    test_dataset_length, \n",
    "    test_unique_values, \n",
    "    test_get_points_from_file, \n",
    "    test_pad_points, \n",
    "    test_class_values\n",
    ")"
   ]
  },
  {
   "cell_type": "code",
   "execution_count": 8,
   "metadata": {},
   "outputs": [
    {
     "name": "stdout",
     "output_type": "stream",
     "text": [
      "test_dataset_length():  \u001b[32m\"Correct\"\u001b[0m\n",
      "test_unique_values():  \u001b[32m\"Correct\"\u001b[0m\n",
      "test_get_points_from_file():  \u001b[32m\"Correct\"\u001b[0m\n",
      "test_pad_points():  \u001b[32m\"Correct\"\u001b[0m\n",
      "test_class_values():  \u001b[32m\"Correct\"\u001b[0m\n"
     ]
    }
   ],
   "source": [
    "print(\"test_dataset_length(): \", verify(test_dataset_length))\n",
    "print(\"test_unique_values(): \", verify(test_unique_values))\n",
    "print(\"test_get_points_from_file(): \", verify(test_get_points_from_file))\n",
    "print(\"test_pad_points(): \", verify(test_pad_points))\n",
    "print(\"test_class_values(): \", verify(test_class_values))"
   ]
  },
  {
   "cell_type": "markdown",
   "metadata": {},
   "source": [
    "Now we can load in our data. When extracting object point clouds from LiDAR scans, we pruned point clouds with large numbers of points to reduce the computational demand of training and testing our classifiers. We pruned all point clouds to have a maximum of 200 points so that is the size that we will be padding all of the other point clouds to. (Feel free to adjust the batch size if you find a value that works better with your implementation)"
   ]
  },
  {
   "cell_type": "code",
   "execution_count": 9,
   "metadata": {},
   "outputs": [],
   "source": [
    "train_dataset = Argoverse('train', 'data/sweeps', 200)\n",
    "test_dataset = Argoverse('test', 'data/sweeps', 200)\n",
    "\n",
    "train_loader = DataLoader(train_dataset, batch_size=16, shuffle=True)\n",
    "test_loader = DataLoader(test_dataset, batch_size=16, shuffle=True)"
   ]
  },
  {
   "cell_type": "markdown",
   "metadata": {},
   "source": [
    "## Part 2: Baseline\n",
    "\n",
    "A very simple baseline to start with is a voxel-based approach. Our overall point cloud falls in a 4x4x4 meter volume in space. We can divide this up into 1x1x1 meter volumes which would give us a total of 64 $1m^3$ cells. We build a 64-dimensional feature for a point by simply counting how many points in the point cloud fall into each cell then normalizng the resulting feature vector.\n",
    "\n",
    "For more details see the project pdf.\n",
    "\n",
    "**TODO 2:** complete `part2_baseline.py`"
   ]
  },
  {
   "cell_type": "code",
   "execution_count": 217,
   "metadata": {},
   "outputs": [],
   "source": [
    "from vision.part2_baseline import Baseline\n",
    "from torch import optim\n",
    "from vision.training import train, test\n",
    "from tests.test_part2 import (\n",
    "    test_count_points,\n",
    "    test_baseline\n",
    ")"
   ]
  },
  {
   "cell_type": "code",
   "execution_count": 218,
   "metadata": {},
   "outputs": [
    {
     "name": "stdout",
     "output_type": "stream",
     "text": [
      "test_count_points():  \u001b[32m\"Correct\"\u001b[0m\n",
      "test_baseline():  \u001b[32m\"Correct\"\u001b[0m\n"
     ]
    }
   ],
   "source": [
    "print(\"test_count_points(): \", verify(test_count_points))\n",
    "print(\"test_baseline(): \", verify(test_baseline))"
   ]
  },
  {
   "cell_type": "markdown",
   "metadata": {},
   "source": [
    "Lets train our baseline implementation and see how it does! Fill in the hyperparameters and train your model. \n",
    "\n",
    "To get full credit for this section, you will need *$\\geq$ 30%* accuracy on the test data set. The TAs were able to consistently achieve this accuracy with ~15 epochs.\n",
    "\n",
    "*Hint: Play around with different voxel resolutions and the two different modes you implemented to see which configuration works the best.*"
   ]
  },
  {
   "cell_type": "code",
   "execution_count": 219,
   "metadata": {},
   "outputs": [],
   "source": [
    "lr = 0.05\n",
    "weight_decay = 1e-4\n",
    "epochs = 10\n",
    "\n",
    "model = Baseline(20, voxel_resolution=8, mode=\"occupancy\")\n",
    "optimizer = optim.Adam(model.parameters(), lr=lr, weight_decay=weight_decay)"
   ]
  },
  {
   "cell_type": "code",
   "execution_count": 220,
   "metadata": {},
   "outputs": [
    {
     "name": "stdout",
     "output_type": "stream",
     "text": [
      "Epoch 1\n",
      "\n",
      "Training...\n"
     ]
    },
    {
     "name": "stderr",
     "output_type": "stream",
     "text": [
      "100%|██████████| 213/213 [00:01<00:00, 188.17it/s]\n"
     ]
    },
    {
     "name": "stdout",
     "output_type": "stream",
     "text": [
      "\n",
      "Testing...\n"
     ]
    },
    {
     "name": "stderr",
     "output_type": "stream",
     "text": [
      "100%|██████████| 38/38 [00:00<00:00, 224.51it/s]\n"
     ]
    },
    {
     "name": "stdout",
     "output_type": "stream",
     "text": [
      "\n",
      "Epoch 1 Stats:\n",
      "\tTraining accuracy: 0.5782\n",
      "\tTraining loss: 1.4724\n",
      "\tValidation accuracy: 0.4167\n",
      "\tValidation loss: 2.3490\n",
      "\n",
      "Validation accuracy improved from 0 to 0.4166666567325592\n",
      "Saving model to Baseline.pt\n",
      "\n",
      "===============================================================================\n",
      "\n",
      "Epoch 2\n",
      "\n",
      "Training...\n"
     ]
    },
    {
     "name": "stderr",
     "output_type": "stream",
     "text": [
      "100%|██████████| 213/213 [00:00<00:00, 273.46it/s]\n"
     ]
    },
    {
     "name": "stdout",
     "output_type": "stream",
     "text": [
      "\n",
      "Testing...\n"
     ]
    },
    {
     "name": "stderr",
     "output_type": "stream",
     "text": [
      "100%|██████████| 38/38 [00:00<00:00, 315.16it/s]\n"
     ]
    },
    {
     "name": "stdout",
     "output_type": "stream",
     "text": [
      "\n",
      "Epoch 2 Stats:\n",
      "\tTraining accuracy: 0.7303\n",
      "\tTraining loss: 0.8301\n",
      "\tValidation accuracy: 0.4617\n",
      "\tValidation loss: 2.3533\n",
      "\n",
      "Validation accuracy improved from 0.4166666567325592 to 0.46166667342185974\n",
      "Saving model to Baseline.pt\n",
      "\n",
      "===============================================================================\n",
      "\n",
      "Epoch 3\n",
      "\n",
      "Training...\n"
     ]
    },
    {
     "name": "stderr",
     "output_type": "stream",
     "text": [
      "100%|██████████| 213/213 [00:00<00:00, 279.91it/s]\n"
     ]
    },
    {
     "name": "stdout",
     "output_type": "stream",
     "text": [
      "\n",
      "Testing...\n"
     ]
    },
    {
     "name": "stderr",
     "output_type": "stream",
     "text": [
      "100%|██████████| 38/38 [00:00<00:00, 323.90it/s]\n"
     ]
    },
    {
     "name": "stdout",
     "output_type": "stream",
     "text": [
      "\n",
      "Epoch 3 Stats:\n",
      "\tTraining accuracy: 0.7526\n",
      "\tTraining loss: 0.7499\n",
      "\tValidation accuracy: 0.4400\n",
      "\tValidation loss: 2.6564\n",
      "\n",
      "===============================================================================\n",
      "\n",
      "Epoch 4\n",
      "\n",
      "Training...\n"
     ]
    },
    {
     "name": "stderr",
     "output_type": "stream",
     "text": [
      "100%|██████████| 213/213 [00:00<00:00, 290.38it/s]\n"
     ]
    },
    {
     "name": "stdout",
     "output_type": "stream",
     "text": [
      "\n",
      "Testing...\n"
     ]
    },
    {
     "name": "stderr",
     "output_type": "stream",
     "text": [
      "100%|██████████| 38/38 [00:00<00:00, 295.02it/s]\n"
     ]
    },
    {
     "name": "stdout",
     "output_type": "stream",
     "text": [
      "\n",
      "Epoch 4 Stats:\n",
      "\tTraining accuracy: 0.7568\n",
      "\tTraining loss: 0.7133\n",
      "\tValidation accuracy: 0.4467\n",
      "\tValidation loss: 2.7011\n",
      "\n",
      "===============================================================================\n",
      "\n",
      "Epoch 5\n",
      "\n",
      "Training...\n"
     ]
    },
    {
     "name": "stderr",
     "output_type": "stream",
     "text": [
      "100%|██████████| 213/213 [00:00<00:00, 300.39it/s]\n"
     ]
    },
    {
     "name": "stdout",
     "output_type": "stream",
     "text": [
      "\n",
      "Testing...\n"
     ]
    },
    {
     "name": "stderr",
     "output_type": "stream",
     "text": [
      "100%|██████████| 38/38 [00:00<00:00, 339.24it/s]\n"
     ]
    },
    {
     "name": "stdout",
     "output_type": "stream",
     "text": [
      "\n",
      "Epoch 5 Stats:\n",
      "\tTraining accuracy: 0.7665\n",
      "\tTraining loss: 0.6945\n",
      "\tValidation accuracy: 0.4483\n",
      "\tValidation loss: 2.9255\n",
      "\n",
      "===============================================================================\n",
      "\n",
      "Epoch 6\n",
      "\n",
      "Training...\n"
     ]
    },
    {
     "name": "stderr",
     "output_type": "stream",
     "text": [
      "100%|██████████| 213/213 [00:00<00:00, 296.98it/s]\n"
     ]
    },
    {
     "name": "stdout",
     "output_type": "stream",
     "text": [
      "\n",
      "Testing...\n"
     ]
    },
    {
     "name": "stderr",
     "output_type": "stream",
     "text": [
      "100%|██████████| 38/38 [00:00<00:00, 331.34it/s]\n"
     ]
    },
    {
     "name": "stdout",
     "output_type": "stream",
     "text": [
      "\n",
      "Epoch 6 Stats:\n",
      "\tTraining accuracy: 0.7676\n",
      "\tTraining loss: 0.6805\n",
      "\tValidation accuracy: 0.4583\n",
      "\tValidation loss: 3.0457\n",
      "\n",
      "===============================================================================\n",
      "\n",
      "Epoch 7\n",
      "\n",
      "Training...\n"
     ]
    },
    {
     "name": "stderr",
     "output_type": "stream",
     "text": [
      "100%|██████████| 213/213 [00:00<00:00, 301.13it/s]\n"
     ]
    },
    {
     "name": "stdout",
     "output_type": "stream",
     "text": [
      "\n",
      "Testing...\n"
     ]
    },
    {
     "name": "stderr",
     "output_type": "stream",
     "text": [
      "100%|██████████| 38/38 [00:00<00:00, 336.00it/s]\n"
     ]
    },
    {
     "name": "stdout",
     "output_type": "stream",
     "text": [
      "\n",
      "Epoch 7 Stats:\n",
      "\tTraining accuracy: 0.7706\n",
      "\tTraining loss: 0.6703\n",
      "\tValidation accuracy: 0.4433\n",
      "\tValidation loss: 3.1362\n",
      "\n",
      "===============================================================================\n",
      "\n",
      "Epoch 8\n",
      "\n",
      "Training...\n"
     ]
    },
    {
     "name": "stderr",
     "output_type": "stream",
     "text": [
      "100%|██████████| 213/213 [00:00<00:00, 275.28it/s]\n"
     ]
    },
    {
     "name": "stdout",
     "output_type": "stream",
     "text": [
      "\n",
      "Testing...\n"
     ]
    },
    {
     "name": "stderr",
     "output_type": "stream",
     "text": [
      "100%|██████████| 38/38 [00:00<00:00, 321.62it/s]\n"
     ]
    },
    {
     "name": "stdout",
     "output_type": "stream",
     "text": [
      "\n",
      "Epoch 8 Stats:\n",
      "\tTraining accuracy: 0.7759\n",
      "\tTraining loss: 0.6279\n",
      "\tValidation accuracy: 0.4400\n",
      "\tValidation loss: 2.8697\n",
      "\n",
      "===============================================================================\n",
      "\n",
      "Epoch 9\n",
      "\n",
      "Training...\n"
     ]
    },
    {
     "name": "stderr",
     "output_type": "stream",
     "text": [
      "100%|██████████| 213/213 [00:00<00:00, 218.64it/s]\n"
     ]
    },
    {
     "name": "stdout",
     "output_type": "stream",
     "text": [
      "\n",
      "Testing...\n"
     ]
    },
    {
     "name": "stderr",
     "output_type": "stream",
     "text": [
      "100%|██████████| 38/38 [00:00<00:00, 327.78it/s]\n"
     ]
    },
    {
     "name": "stdout",
     "output_type": "stream",
     "text": [
      "\n",
      "Epoch 9 Stats:\n",
      "\tTraining accuracy: 0.7826\n",
      "\tTraining loss: 0.6386\n",
      "\tValidation accuracy: 0.4667\n",
      "\tValidation loss: 2.6555\n",
      "\n",
      "Validation accuracy improved from 0.46166667342185974 to 0.46666666865348816\n",
      "Saving model to Baseline.pt\n",
      "\n",
      "===============================================================================\n",
      "\n",
      "Epoch 10\n",
      "\n",
      "Training...\n"
     ]
    },
    {
     "name": "stderr",
     "output_type": "stream",
     "text": [
      "100%|██████████| 213/213 [00:00<00:00, 277.01it/s]\n"
     ]
    },
    {
     "name": "stdout",
     "output_type": "stream",
     "text": [
      "\n",
      "Testing...\n"
     ]
    },
    {
     "name": "stderr",
     "output_type": "stream",
     "text": [
      "100%|██████████| 38/38 [00:00<00:00, 323.89it/s]\n"
     ]
    },
    {
     "name": "stdout",
     "output_type": "stream",
     "text": [
      "\n",
      "Epoch 10 Stats:\n",
      "\tTraining accuracy: 0.7603\n",
      "\tTraining loss: 0.7051\n",
      "\tValidation accuracy: 0.4417\n",
      "\tValidation loss: 3.4117\n",
      "\n",
      "===============================================================================\n",
      "\n"
     ]
    }
   ],
   "source": [
    "train_acc, train_loss, test_acc, test_loss = train(model, optimizer, epochs, train_loader, test_loader)"
   ]
  },
  {
   "cell_type": "code",
   "execution_count": 221,
   "metadata": {},
   "outputs": [
    {
     "name": "stderr",
     "output_type": "stream",
     "text": [
      "/var/folders/zt/lq569kjj6f5f4wqklbbzk7r40000gn/T/ipykernel_28856/2856288945.py:1: FutureWarning:\n",
      "\n",
      "You are using `torch.load` with `weights_only=False` (the current default value), which uses the default pickle module implicitly. It is possible to construct malicious pickle data which will execute arbitrary code during unpickling (See https://github.com/pytorch/pytorch/blob/main/SECURITY.md#untrusted-models for more details). In a future release, the default value for `weights_only` will be flipped to `True`. This limits the functions that could be executed during unpickling. Arbitrary objects will no longer be allowed to be loaded via this mode unless they are explicitly allowlisted by the user via `torch.serialization.add_safe_globals`. We recommend you start setting `weights_only=True` for any use case where you don't have full control of the loaded file. Please open an issue on GitHub for any issues related to this experimental feature.\n",
      "\n",
      "100%|██████████| 38/38 [00:00<00:00, 314.28it/s]"
     ]
    },
    {
     "name": "stdout",
     "output_type": "stream",
     "text": [
      "Test accuracy: 0.4667\n",
      "Test loss: 2.7085\n"
     ]
    },
    {
     "name": "stderr",
     "output_type": "stream",
     "text": [
      "\n"
     ]
    }
   ],
   "source": [
    "model = torch.load('output/Baseline.pt')\n",
    "test_acc, test_loss = test(model, test_loader)"
   ]
  },
  {
   "cell_type": "markdown",
   "metadata": {},
   "source": [
    "## Part 3: PointNet"
   ]
  },
  {
   "cell_type": "markdown",
   "metadata": {},
   "source": [
    "Now that we have a baseline to compare to, we're going to build a simplified version of PointNet which was first published in 2017 by researchers at Stanford University. You can view the original website for this publication [here](https://stanford.edu/~rqi/pointnet/). \n",
    "\n",
    "We will be slightly modifying the original architecture. The architecture described in the PointNet publication includes two modules that we will not be implementing. Namely, they are the input transform and the feature transform. We will also not be using our PointNet implementation for semantic segmentation so you can ignore that part of the architecture as well. For an architecture diagram of what we will be implementing, check the project pdf.\n",
    "\n",
    "**TODO 3**: complete `part3_pointnet.py`, use the architecture diagram in the project pdf for reference."
   ]
  },
  {
   "cell_type": "code",
   "execution_count": 117,
   "metadata": {},
   "outputs": [],
   "source": [
    "from tests.test_part3 import test_pointnet\n",
    "from vision.part3_pointnet import PointNet"
   ]
  },
  {
   "cell_type": "code",
   "execution_count": 118,
   "metadata": {},
   "outputs": [
    {
     "name": "stdout",
     "output_type": "stream",
     "text": [
      "test_pointnet():  \u001b[32m\"Correct\"\u001b[0m\n"
     ]
    }
   ],
   "source": [
    "print(\"test_pointnet(): \", verify(test_pointnet))"
   ]
  },
  {
   "cell_type": "markdown",
   "metadata": {},
   "source": [
    "Now that we have a PointNet implementation, lets train our model and see how it does. Fill in the hyper-parameters and give your new model a spin! \n",
    "\n",
    "To get full credit for this section, you will need *$\\geq$ 60% accuracy* on the test dataset. The TAs were able to consistently achieve this accuracy with ~15 epochs of training."
   ]
  },
  {
   "cell_type": "code",
   "execution_count": 119,
   "metadata": {},
   "outputs": [],
   "source": [
    "lr = 0.001\n",
    "weight_decay = 1e-4\n",
    "epochs = 10\n",
    "\n",
    "model = PointNet(classes=20)\n",
    "optimizer = optim.Adam(model.parameters(), lr=lr, weight_decay=weight_decay)"
   ]
  },
  {
   "cell_type": "code",
   "execution_count": 120,
   "metadata": {},
   "outputs": [
    {
     "name": "stdout",
     "output_type": "stream",
     "text": [
      "Epoch 1\n",
      "\n",
      "Training...\n"
     ]
    },
    {
     "name": "stderr",
     "output_type": "stream",
     "text": [
      "100%|██████████| 213/213 [00:04<00:00, 49.80it/s]\n"
     ]
    },
    {
     "name": "stdout",
     "output_type": "stream",
     "text": [
      "\n",
      "Testing...\n"
     ]
    },
    {
     "name": "stderr",
     "output_type": "stream",
     "text": [
      "100%|██████████| 38/38 [00:00<00:00, 114.35it/s]\n"
     ]
    },
    {
     "name": "stdout",
     "output_type": "stream",
     "text": [
      "\n",
      "Epoch 1 Stats:\n",
      "\tTraining accuracy: 0.4653\n",
      "\tTraining loss: 1.6381\n",
      "\tValidation accuracy: 0.3917\n",
      "\tValidation loss: 1.7324\n",
      "\n",
      "Validation accuracy improved from 0 to 0.3916666805744171\n",
      "Saving model to PointNet.pt\n",
      "\n",
      "===============================================================================\n",
      "\n",
      "Epoch 2\n",
      "\n",
      "Training...\n"
     ]
    },
    {
     "name": "stderr",
     "output_type": "stream",
     "text": [
      "100%|██████████| 213/213 [00:04<00:00, 51.20it/s]\n"
     ]
    },
    {
     "name": "stdout",
     "output_type": "stream",
     "text": [
      "\n",
      "Testing...\n"
     ]
    },
    {
     "name": "stderr",
     "output_type": "stream",
     "text": [
      "100%|██████████| 38/38 [00:00<00:00, 149.84it/s]\n"
     ]
    },
    {
     "name": "stdout",
     "output_type": "stream",
     "text": [
      "\n",
      "Epoch 2 Stats:\n",
      "\tTraining accuracy: 0.6071\n",
      "\tTraining loss: 1.1721\n",
      "\tValidation accuracy: 0.4883\n",
      "\tValidation loss: 1.4406\n",
      "\n",
      "Validation accuracy improved from 0.3916666805744171 to 0.4883333444595337\n",
      "Saving model to PointNet.pt\n",
      "\n",
      "===============================================================================\n",
      "\n",
      "Epoch 3\n",
      "\n",
      "Training...\n"
     ]
    },
    {
     "name": "stderr",
     "output_type": "stream",
     "text": [
      "100%|██████████| 213/213 [00:05<00:00, 37.38it/s]\n"
     ]
    },
    {
     "name": "stdout",
     "output_type": "stream",
     "text": [
      "\n",
      "Testing...\n"
     ]
    },
    {
     "name": "stderr",
     "output_type": "stream",
     "text": [
      "100%|██████████| 38/38 [00:00<00:00, 111.29it/s]\n"
     ]
    },
    {
     "name": "stdout",
     "output_type": "stream",
     "text": [
      "\n",
      "Epoch 3 Stats:\n",
      "\tTraining accuracy: 0.6682\n",
      "\tTraining loss: 1.0213\n",
      "\tValidation accuracy: 0.4583\n",
      "\tValidation loss: 1.5717\n",
      "\n",
      "===============================================================================\n",
      "\n",
      "Epoch 4\n",
      "\n",
      "Training...\n"
     ]
    },
    {
     "name": "stderr",
     "output_type": "stream",
     "text": [
      "100%|██████████| 213/213 [00:04<00:00, 45.27it/s]\n"
     ]
    },
    {
     "name": "stdout",
     "output_type": "stream",
     "text": [
      "\n",
      "Testing...\n"
     ]
    },
    {
     "name": "stderr",
     "output_type": "stream",
     "text": [
      "100%|██████████| 38/38 [00:00<00:00, 145.71it/s]\n"
     ]
    },
    {
     "name": "stdout",
     "output_type": "stream",
     "text": [
      "\n",
      "Epoch 4 Stats:\n",
      "\tTraining accuracy: 0.6988\n",
      "\tTraining loss: 0.9372\n",
      "\tValidation accuracy: 0.5433\n",
      "\tValidation loss: 1.3428\n",
      "\n",
      "Validation accuracy improved from 0.4883333444595337 to 0.5433333516120911\n",
      "Saving model to PointNet.pt\n",
      "\n",
      "===============================================================================\n",
      "\n",
      "Epoch 5\n",
      "\n",
      "Training...\n"
     ]
    },
    {
     "name": "stderr",
     "output_type": "stream",
     "text": [
      "100%|██████████| 213/213 [00:04<00:00, 51.21it/s]\n"
     ]
    },
    {
     "name": "stdout",
     "output_type": "stream",
     "text": [
      "\n",
      "Testing...\n"
     ]
    },
    {
     "name": "stderr",
     "output_type": "stream",
     "text": [
      "100%|██████████| 38/38 [00:00<00:00, 137.76it/s]\n"
     ]
    },
    {
     "name": "stdout",
     "output_type": "stream",
     "text": [
      "\n",
      "Epoch 5 Stats:\n",
      "\tTraining accuracy: 0.7276\n",
      "\tTraining loss: 0.8528\n",
      "\tValidation accuracy: 0.5200\n",
      "\tValidation loss: 1.6250\n",
      "\n",
      "===============================================================================\n",
      "\n",
      "Epoch 6\n",
      "\n",
      "Training...\n"
     ]
    },
    {
     "name": "stderr",
     "output_type": "stream",
     "text": [
      "100%|██████████| 213/213 [00:04<00:00, 52.89it/s]\n"
     ]
    },
    {
     "name": "stdout",
     "output_type": "stream",
     "text": [
      "\n",
      "Testing...\n"
     ]
    },
    {
     "name": "stderr",
     "output_type": "stream",
     "text": [
      "100%|██████████| 38/38 [00:00<00:00, 128.91it/s]\n"
     ]
    },
    {
     "name": "stdout",
     "output_type": "stream",
     "text": [
      "\n",
      "Epoch 6 Stats:\n",
      "\tTraining accuracy: 0.7462\n",
      "\tTraining loss: 0.7891\n",
      "\tValidation accuracy: 0.5800\n",
      "\tValidation loss: 1.3967\n",
      "\n",
      "Validation accuracy improved from 0.5433333516120911 to 0.5799999833106995\n",
      "Saving model to PointNet.pt\n",
      "\n",
      "===============================================================================\n",
      "\n",
      "Epoch 7\n",
      "\n",
      "Training...\n"
     ]
    },
    {
     "name": "stderr",
     "output_type": "stream",
     "text": [
      "100%|██████████| 213/213 [00:03<00:00, 53.34it/s]\n"
     ]
    },
    {
     "name": "stdout",
     "output_type": "stream",
     "text": [
      "\n",
      "Testing...\n"
     ]
    },
    {
     "name": "stderr",
     "output_type": "stream",
     "text": [
      "100%|██████████| 38/38 [00:00<00:00, 142.73it/s]\n"
     ]
    },
    {
     "name": "stdout",
     "output_type": "stream",
     "text": [
      "\n",
      "Epoch 7 Stats:\n",
      "\tTraining accuracy: 0.7524\n",
      "\tTraining loss: 0.7586\n",
      "\tValidation accuracy: 0.5450\n",
      "\tValidation loss: 1.3778\n",
      "\n",
      "===============================================================================\n",
      "\n",
      "Epoch 8\n",
      "\n",
      "Training...\n"
     ]
    },
    {
     "name": "stderr",
     "output_type": "stream",
     "text": [
      "100%|██████████| 213/213 [00:04<00:00, 52.53it/s]\n"
     ]
    },
    {
     "name": "stdout",
     "output_type": "stream",
     "text": [
      "\n",
      "Testing...\n"
     ]
    },
    {
     "name": "stderr",
     "output_type": "stream",
     "text": [
      "100%|██████████| 38/38 [00:00<00:00, 130.64it/s]\n"
     ]
    },
    {
     "name": "stdout",
     "output_type": "stream",
     "text": [
      "\n",
      "Epoch 8 Stats:\n",
      "\tTraining accuracy: 0.7721\n",
      "\tTraining loss: 0.7166\n",
      "\tValidation accuracy: 0.5333\n",
      "\tValidation loss: 1.5075\n",
      "\n",
      "===============================================================================\n",
      "\n",
      "Epoch 9\n",
      "\n",
      "Training...\n"
     ]
    },
    {
     "name": "stderr",
     "output_type": "stream",
     "text": [
      "100%|██████████| 213/213 [00:04<00:00, 51.79it/s]\n"
     ]
    },
    {
     "name": "stdout",
     "output_type": "stream",
     "text": [
      "\n",
      "Testing...\n"
     ]
    },
    {
     "name": "stderr",
     "output_type": "stream",
     "text": [
      "100%|██████████| 38/38 [00:00<00:00, 138.25it/s]\n"
     ]
    },
    {
     "name": "stdout",
     "output_type": "stream",
     "text": [
      "\n",
      "Epoch 9 Stats:\n",
      "\tTraining accuracy: 0.7782\n",
      "\tTraining loss: 0.6841\n",
      "\tValidation accuracy: 0.6383\n",
      "\tValidation loss: 1.1725\n",
      "\n",
      "Validation accuracy improved from 0.5799999833106995 to 0.6383333206176758\n",
      "Saving model to PointNet.pt\n",
      "\n",
      "===============================================================================\n",
      "\n",
      "Epoch 10\n",
      "\n",
      "Training...\n"
     ]
    },
    {
     "name": "stderr",
     "output_type": "stream",
     "text": [
      "100%|██████████| 213/213 [00:04<00:00, 47.40it/s]\n"
     ]
    },
    {
     "name": "stdout",
     "output_type": "stream",
     "text": [
      "\n",
      "Testing...\n"
     ]
    },
    {
     "name": "stderr",
     "output_type": "stream",
     "text": [
      "100%|██████████| 38/38 [00:00<00:00, 145.50it/s]"
     ]
    },
    {
     "name": "stdout",
     "output_type": "stream",
     "text": [
      "\n",
      "Epoch 10 Stats:\n",
      "\tTraining accuracy: 0.7912\n",
      "\tTraining loss: 0.6405\n",
      "\tValidation accuracy: 0.6233\n",
      "\tValidation loss: 1.1953\n",
      "\n",
      "===============================================================================\n",
      "\n"
     ]
    },
    {
     "name": "stderr",
     "output_type": "stream",
     "text": [
      "\n"
     ]
    }
   ],
   "source": [
    "train_acc, train_loss, test_acc, test_loss = train(model, optimizer, epochs, train_loader, test_loader, device=device)"
   ]
  },
  {
   "cell_type": "code",
   "execution_count": 121,
   "metadata": {},
   "outputs": [
    {
     "name": "stderr",
     "output_type": "stream",
     "text": [
      "/var/folders/zt/lq569kjj6f5f4wqklbbzk7r40000gn/T/ipykernel_28856/2270301145.py:1: FutureWarning:\n",
      "\n",
      "You are using `torch.load` with `weights_only=False` (the current default value), which uses the default pickle module implicitly. It is possible to construct malicious pickle data which will execute arbitrary code during unpickling (See https://github.com/pytorch/pytorch/blob/main/SECURITY.md#untrusted-models for more details). In a future release, the default value for `weights_only` will be flipped to `True`. This limits the functions that could be executed during unpickling. Arbitrary objects will no longer be allowed to be loaded via this mode unless they are explicitly allowlisted by the user via `torch.serialization.add_safe_globals`. We recommend you start setting `weights_only=True` for any use case where you don't have full control of the loaded file. Please open an issue on GitHub for any issues related to this experimental feature.\n",
      "\n",
      "100%|██████████| 38/38 [00:00<00:00, 113.01it/s]"
     ]
    },
    {
     "name": "stdout",
     "output_type": "stream",
     "text": [
      "Test accuracy: 0.6383\n",
      "Test loss: 1.1754\n"
     ]
    },
    {
     "name": "stderr",
     "output_type": "stream",
     "text": [
      "\n"
     ]
    }
   ],
   "source": [
    "model = torch.load('output/PointNet.pt', map_location='cpu')\n",
    "test_acc, test_loss = test(model, test_loader)"
   ]
  },
  {
   "cell_type": "markdown",
   "metadata": {},
   "source": [
    "## Part 4: Performance Analysis"
   ]
  },
  {
   "cell_type": "markdown",
   "metadata": {},
   "source": [
    "Now that we have a trained PointNet model, we can look at how it performs and what its shortcomings are. We are also going to analyze our point clouds to see which parts of them the model deemed to be most important in making its classification decision.\n",
    "\n",
    "**TODO 4:** complete `part4_analysis.py`"
   ]
  },
  {
   "cell_type": "code",
   "execution_count": 124,
   "metadata": {},
   "outputs": [],
   "source": [
    "from vision.utils import (\n",
    "    generate_and_plot_confusion_matrix,\n",
    "    plot_crit_points_from_file\n",
    ")\n",
    "from tests.test_part4 import (\n",
    "    test_critical_indices,\n",
    "    test_critical_indices_with_duplicates,\n",
    "    test_confusion_matrix,\n",
    "    test_confusion_matrix_normalized\n",
    ")"
   ]
  },
  {
   "cell_type": "code",
   "execution_count": 125,
   "metadata": {},
   "outputs": [
    {
     "name": "stdout",
     "output_type": "stream",
     "text": [
      "test_critical_indices():  \u001b[32m\"Correct\"\u001b[0m\n",
      "test_critical_indices_with_duplicates():  \u001b[32m\"Correct\"\u001b[0m\n",
      "test_confusion_matrix():  \u001b[32m\"Correct\"\u001b[0m\n",
      "test_confusion_matrix_normalized():  \u001b[32m\"Correct\"\u001b[0m\n"
     ]
    }
   ],
   "source": [
    "print(\"test_critical_indices(): \", verify(test_critical_indices))\n",
    "print(\"test_critical_indices_with_duplicates(): \", verify(test_critical_indices_with_duplicates))\n",
    "print(\"test_confusion_matrix(): \", verify(test_confusion_matrix))\n",
    "print(\"test_confusion_matrix_normalized(): \", verify(test_confusion_matrix_normalized))"
   ]
  },
  {
   "cell_type": "markdown",
   "metadata": {},
   "source": [
    "Lets use the confusion matrix to look at which mistakes our model is making most often."
   ]
  },
  {
   "cell_type": "code",
   "execution_count": 126,
   "metadata": {},
   "outputs": [
    {
     "data": {
      "image/png": "[encoded data removed]",
      "text/plain": [
       "<Figure size 1000x1000 with 1 Axes>"
      ]
     },
     "metadata": {},
     "output_type": "display_data"
    }
   ],
   "source": [
    "generate_and_plot_confusion_matrix(model, test_loader, 20)"
   ]
  },
  {
   "cell_type": "markdown",
   "metadata": {},
   "source": [
    "Now lets visualize the critical points calculated by our model for the predestrian clouds from before. Recall that these are the points that contributed to the global feature. Why do you think these were the critical points the model ended up using? (Feel free to use different point clouds for your analysis)"
   ]
  },
  {
   "cell_type": "code",
   "execution_count": 127,
   "metadata": {},
   "outputs": [
    {
     "data": {
      "application/vnd.plotly.v1+json": {
       "config": {
        "plotlyServerURL": "https://plot.ly"
       },
       "data": [
        {
         "line": {
          "color": "rgba(0,0,0,0)"
         },
         "marker": {
          "color": [
           "red",
           "red",
           "red",
           "red",
           "red",
           "red",
           "red",
           "red",
           "blue",
           "red",
           "red",
           "red",
           "blue",
           "red",
           "red",
           "blue",
           "red",
           "blue",
           "red",
           "blue",
           "red",
           "blue",
           "red",
           "red",
           "red",
           "blue",
           "red",
           "blue",
           "red",
           "red",
           "red",
           "red",
           "red",
           "red",
           "blue",
           "red",
           "red",
           "red",
           "blue",
           "red",
           "red",
           "blue",
           "blue",
           "red",
           "red",
           "blue",
           "red",
           "red",
           "blue",
           "blue",
           "blue",
           "red",
           "red",
           "red",
           "blue",
           "red",
           "blue",
           "blue",
           "blue",
           "red",
           "red",
           "blue",
           "blue",
           "red",
           "blue",
           "red",
           "blue",
           "blue",
           "blue",
           "red",
           "blue",
           "blue",
           "red",
           "red",
           "blue",
           "blue",
           "red",
           "red",
           "red",
           "red",
           "blue",
           "red",
           "red",
           "red",
           "blue",
           "blue",
           "blue",
           "blue",
           "blue",
           "blue",
           "blue",
           "red",
           "blue",
           "blue",
           "blue",
           "red",
           "blue",
           "red",
           "red",
           "red",
           "blue",
           "red",
           "red",
           "red",
           "red",
           "blue",
           "red",
           "red",
           "red",
           "blue",
           "red",
           "blue",
           "blue",
           "blue",
           "red",
           "blue",
           "blue",
           "red",
           "red",
           "red",
           "blue",
           "red",
           "blue",
           "blue",
           "blue",
           "red",
           "blue",
           "red",
           "red",
           "blue",
           "red",
           "blue",
           "red",
           "red",
           "blue",
           "red",
           "red",
           "red",
           "red",
           "blue",
           "blue",
           "blue",
           "red",
           "blue",
           "red",
           "red",
           "red",
           "red",
           "red",
           "red",
           "red",
           "red",
           "red",
           "red",
           "red",
           "red",
           "red",
           "red",
           "red",
           "red",
           "red",
           "red",
           "red",
           "red",
           "red",
           "red",
           "red",
           "red",
           "red",
           "red",
           "red",
           "red",
           "red",
           "red",
           "red",
           "red",
           "red",
           "red",
           "red",
           "red",
           "red",
           "red",
           "red",
           "red",
           "red",
           "red",
           "red",
           "red",
           "red",
           "red",
           "red",
           "red",
           "red",
           "red",
           "red",
           "red",
           "red",
           "red",
           "red",
           "red"
          ]
         },
         "scene": "scene",
         "type": "scatter3d",
         "x": [
          0.1484375,
          0.171875,
          0.1328125,
          0.1484375,
          0.203125,
          0.078125,
          0.1640625,
          0.2265625,
          0.1875,
          0.21875,
          0.1015625,
          0.078125,
          0.1171875,
          0.0859375,
          0.171875,
          0.2265625,
          0.21875,
          0.1640625,
          0.1796875,
          0.21875,
          0.2578125,
          0.1015625,
          0.1484375,
          0.1328125,
          0.2578125,
          0.109375,
          0.046875,
          0.15625,
          0.1796875,
          0.2265625,
          0.2265625,
          0.2578125,
          0.0625,
          0.2421875,
          0.109375,
          0.046875,
          0.2578125,
          0.1484375,
          0.1796875,
          -0.015625,
          0.109375,
          0.0625,
          0.1796875,
          0.28125,
          0,
          0.0859375,
          -0.0703125,
          0.109375,
          0.0078125,
          0.2265625,
          0.1953125,
          0,
          0.28125,
          0.15625,
          0.21875,
          0.2578125,
          0.0546875,
          0.015625,
          0.1796875,
          0.1875,
          0.0625,
          0.109375,
          0.0390625,
          0.2578125,
          0.1171875,
          0.2578125,
          -0.046875,
          0.0703125,
          0.140625,
          0.0078125,
          0.015625,
          0.09375,
          0.171875,
          -0.0859375,
          0.125,
          0.125,
          0.3203125,
          0.28125,
          -0.0546875,
          0.203125,
          0.015625,
          -0.0625,
          -0.140625,
          -0.1015625,
          0.28125,
          0.2265625,
          0,
          0.28125,
          0.0546875,
          -0.0234375,
          0.015625,
          0.1953125,
          0.1640625,
          0.125,
          0.0859375,
          0.0234375,
          0.1328125,
          -0.0625,
          -0.046875,
          -0.0546875,
          0.2109375,
          -0.1484375,
          -0.0703125,
          -0.0625,
          0.2890625,
          0.1796875,
          -0.078125,
          0.1328125,
          0.046875,
          0.078125,
          -0.1171875,
          0.1171875,
          0.1328125,
          0.2265625,
          -0.09375,
          0.1796875,
          0.0546875,
          0.203125,
          0.15625,
          0.1484375,
          0.078125,
          -0.078125,
          0,
          0.1328125,
          0.1875,
          0.2421875,
          0.046875,
          -0.015625,
          0.1015625,
          -0.0546875,
          -0.078125,
          0.171875,
          -0.0390625,
          -0.1171875,
          0.046875,
          0.046875,
          -0.1640625,
          0.1953125,
          -0.078125,
          0.0625,
          0.03125,
          0.0546875,
          0.1015625,
          0,
          0.109375,
          -0.1640625,
          -0.0078125,
          -0.140625,
          -0.1796875,
          0.0625,
          -0.203125,
          -0.0078125,
          -0.3203125,
          0.1484375,
          0.1484375,
          0.1484375,
          0.1484375,
          0.1484375,
          0.1484375,
          0.1484375,
          0.1484375,
          0.1484375,
          0.1484375,
          0.1484375,
          0.1484375,
          0.1484375,
          0.1484375,
          0.1484375,
          0.1484375,
          0.1484375,
          0.1484375,
          0.1484375,
          0.1484375,
          0.1484375,
          0.1484375,
          0.1484375,
          0.1484375,
          0.1484375,
          0.1484375,
          0.1484375,
          0.1484375,
          0.1484375,
          0.1484375,
          0.1484375,
          0.1484375,
          0.1484375,
          0.1484375,
          0.1484375,
          0.1484375,
          0.1484375,
          0.1484375,
          0.1484375,
          0.1484375,
          0.1484375,
          0.1484375,
          0.1484375,
          0.1484375,
          0.1484375,
          0.1484375,
          0.1484375
         ],
         "y": [
          0.140625,
          0.0859375,
          0.125,
          0.078125,
          0.0546875,
          0.1640625,
          0.09375,
          -0.0078125,
          0.03125,
          -0.0234375,
          0.1171875,
          0.1640625,
          0.1328125,
          0.1640625,
          0.015625,
          0.0078125,
          -0.03125,
          0.03125,
          0.0078125,
          -0.015625,
          -0.078125,
          0.1015625,
          0.0625,
          0.0625,
          -0.0390625,
          0.1015625,
          0.1484375,
          0.078125,
          0.015625,
          -0.0078125,
          0,
          -0.046875,
          0.1328125,
          -0.0703125,
          0.109375,
          0.1328125,
          -0.046875,
          0.0703125,
          0.0234375,
          0.2265625,
          0.109375,
          0.1484375,
          0.0234375,
          -0.1015625,
          0.1640625,
          0.0859375,
          0.25,
          0.0234375,
          0.1796875,
          -0.1015625,
          -0.0390625,
          0.1640625,
          -0.1015625,
          0,
          -0.046875,
          -0.1171875,
          0.140625,
          0.171875,
          -0.0078125,
          -0.046875,
          0.1171875,
          0.0546875,
          0.1171875,
          -0.1484375,
          0.03125,
          -0.109375,
          0.203125,
          0.0859375,
          0.0078125,
          0.171875,
          0.1484375,
          0.0625,
          -0.0390625,
          0.234375,
          -0.03125,
          0.015625,
          -0.203125,
          -0.1640625,
          0.1875,
          -0.0859375,
          0.1171875,
          0.203125,
          0.25,
          0.21875,
          -0.171875,
          -0.1171875,
          0.0703125,
          -0.171875,
          0.0703125,
          0.15625,
          0.109375,
          -0.1171875,
          -0.0546875,
          -0.015625,
          0.0234375,
          0.0234375,
          -0.0234375,
          0.1640625,
          0.125,
          0.1328125,
          -0.15625,
          0.1953125,
          0.109375,
          0.09375,
          -0.234375,
          -0.109375,
          0.171875,
          -0.0234375,
          -0.03125,
          0.0078125,
          0.1484375,
          -0.0234375,
          -0.0546875,
          -0.1796875,
          0.1640625,
          -0.1171875,
          0.015625,
          -0.1875,
          -0.109375,
          -0.078125,
          -0.03125,
          0.046875,
          0.046875,
          -0.0859375,
          -0.1796875,
          -0.25,
          -0.0078125,
          -0.046875,
          -0.046875,
          -0.0078125,
          0.0234375,
          -0.171875,
          -0.0234375,
          0.0625,
          -0.015625,
          -0.015625,
          0.0859375,
          -0.2421875,
          0.0546875,
          -0.078125,
          -0.046875,
          -0.09375,
          -0.1171875,
          -0.0625,
          -0.1953125,
          -0.0390625,
          -0.0859375,
          -0.09375,
          -0.0625,
          -0.234375,
          -0.0703125,
          -0.15625,
          -0.1015625,
          0.140625,
          0.140625,
          0.140625,
          0.140625,
          0.140625,
          0.140625,
          0.140625,
          0.140625,
          0.140625,
          0.140625,
          0.140625,
          0.140625,
          0.140625,
          0.140625,
          0.140625,
          0.140625,
          0.140625,
          0.140625,
          0.140625,
          0.140625,
          0.140625,
          0.140625,
          0.140625,
          0.140625,
          0.140625,
          0.140625,
          0.140625,
          0.140625,
          0.140625,
          0.140625,
          0.140625,
          0.140625,
          0.140625,
          0.140625,
          0.140625,
          0.140625,
          0.140625,
          0.140625,
          0.140625,
          0.140625,
          0.140625,
          0.140625,
          0.140625,
          0.140625,
          0.140625,
          0.140625,
          0.140625
         ],
         "z": [
          0.1502685546875,
          0.0506591796875,
          0.0501708984375,
          -0.1265869140625,
          0.3328857421875,
          0.0491943359375,
          0.3328857421875,
          -0.0430908203125,
          -0.0435791015625,
          -0.4195556640625,
          -0.1270751953125,
          0.1483154296875,
          0.3319091796875,
          0.3319091796875,
          -0.4205322265625,
          0.3328857421875,
          -0.2325439453125,
          -0.1270751953125,
          -0.2330322265625,
          0.0491943359375,
          -0.2325439453125,
          -0.0450439453125,
          0.1419677734375,
          -0.0450439453125,
          0.3328857421875,
          0.1414794921875,
          -0.1285400390625,
          0.4237060546875,
          0.1419677734375,
          0.4237060546875,
          0.5155029296875,
          0.4246826171875,
          0.1405029296875,
          0.0487060546875,
          0.4237060546875,
          -0.0465087890625,
          0.5155029296875,
          0.5145263671875,
          0.4237060546875,
          0.3309326171875,
          0.5145263671875,
          0.4227294921875,
          0.5145263671875,
          0.4237060546875,
          0.0457763671875,
          0.2337646484375,
          0.1453857421875,
          -0.2364501953125,
          0.3309326171875,
          -0.1417236328125,
          0.2342529296875,
          0.1395263671875,
          0.5155029296875,
          0.2342529296875,
          0.4227294921875,
          0.1478271484375,
          0.5145263671875,
          0.4227294921875,
          0.4217529296875,
          0.1405029296875,
          0.4217529296875,
          0.3280029296875,
          0.2332763671875,
          -0.1422119140625,
          0.2337646484375,
          0.3319091796875,
          0.1453857421875,
          0.3280029296875,
          0.3280029296875,
          0.5135498046875,
          0.4207763671875,
          0.4217529296875,
          0.3280029296875,
          0.2318115234375,
          -0.1441650390625,
          0.4217529296875,
          0.3319091796875,
          0.3309326171875,
          0.2318115234375,
          0.3280029296875,
          0.3270263671875,
          0.3270263671875,
          -0.1475830078125,
          0.1370849609375,
          0.4227294921875,
          0.4207763671875,
          -0.1466064453125,
          0.5145263671875,
          0.5145263671875,
          0.5135498046875,
          0.5145263671875,
          0.2322998046875,
          0.5145263671875,
          0.5145263671875,
          0.5145263671875,
          -0.1475830078125,
          0.6053466796875,
          0.4197998046875,
          0.2303466796875,
          0.3250732421875,
          0.3270263671875,
          -0.1363525390625,
          -0.0528564453125,
          -0.1490478515625,
          0.4227294921875,
          0.5145263671875,
          0.5135498046875,
          0.7899169921875,
          -0.1485595703125,
          0.6053466796875,
          -0.1363525390625,
          0.6981201171875,
          0.6072998046875,
          0.4197998046875,
          0.4197998046875,
          0.6053466796875,
          0.6072998046875,
          0.2308349609375,
          0.6072998046875,
          0.7899169921875,
          0.6072998046875,
          -0.510986328125,
          0.6063232421875,
          0.6981201171875,
          0.5135498046875,
          0.4188232421875,
          0.6981201171875,
          -0.51171875,
          0.8817138671875,
          -0.51220703125,
          -0.2469482421875,
          0.6072998046875,
          -0.2464599609375,
          -0.2474365234375,
          0.7899169921875,
          0.8817138671875,
          -0.2491455078125,
          0.5125732421875,
          0.6053466796875,
          0.7957763671875,
          0.7947998046875,
          0.7010498046875,
          0.8826904296875,
          0.7010498046875,
          0.7010498046875,
          -0.63665771484375,
          0.8895263671875,
          -0.63739013671875,
          -0.8753662109375,
          0.7947998046875,
          -0.4495849609375,
          0.8895263671875,
          -0.8895263671875,
          0.1502685546875,
          0.1502685546875,
          0.1502685546875,
          0.1502685546875,
          0.1502685546875,
          0.1502685546875,
          0.1502685546875,
          0.1502685546875,
          0.1502685546875,
          0.1502685546875,
          0.1502685546875,
          0.1502685546875,
          0.1502685546875,
          0.1502685546875,
          0.1502685546875,
          0.1502685546875,
          0.1502685546875,
          0.1502685546875,
          0.1502685546875,
          0.1502685546875,
          0.1502685546875,
          0.1502685546875,
          0.1502685546875,
          0.1502685546875,
          0.1502685546875,
          0.1502685546875,
          0.1502685546875,
          0.1502685546875,
          0.1502685546875,
          0.1502685546875,
          0.1502685546875,
          0.1502685546875,
          0.1502685546875,
          0.1502685546875,
          0.1502685546875,
          0.1502685546875,
          0.1502685546875,
          0.1502685546875,
          0.1502685546875,
          0.1502685546875,
          0.1502685546875,
          0.1502685546875,
          0.1502685546875,
          0.1502685546875,
          0.1502685546875,
          0.1502685546875,
          0.1502685546875
         ]
        },
        {
         "line": {
          "color": "rgba(0,0,0,0)"
         },
         "marker": {
          "color": "red"
         },
         "scene": "scene2",
         "type": "scatter3d",
         "x": [
          0.1484375,
          0.171875,
          0.1328125,
          0.1484375,
          0.203125,
          0.078125,
          0.1640625,
          0.2265625,
          0.21875,
          0.1015625,
          0.078125,
          0.0859375,
          0.171875,
          0.21875,
          0.1796875,
          0.2578125,
          0.1484375,
          0.1328125,
          0.2578125,
          0.046875,
          0.1796875,
          0.2265625,
          0.2265625,
          0.2578125,
          0.0625,
          0.2421875,
          0.046875,
          0.2578125,
          0.1484375,
          -0.015625,
          0.109375,
          0.28125,
          0,
          -0.0703125,
          0.109375,
          0,
          0.28125,
          0.15625,
          0.2578125,
          0.1875,
          0.0625,
          0.2578125,
          0.2578125,
          0.0078125,
          0.171875,
          -0.0859375,
          0.3203125,
          0.28125,
          -0.0546875,
          0.203125,
          -0.0625,
          -0.140625,
          -0.1015625,
          0.1953125,
          0.0234375,
          -0.0625,
          -0.046875,
          -0.0546875,
          -0.1484375,
          -0.0703125,
          -0.0625,
          0.2890625,
          -0.078125,
          0.1328125,
          0.046875,
          -0.1171875,
          -0.09375,
          0.203125,
          0.15625,
          0.1484375,
          -0.078125,
          0.2421875,
          -0.015625,
          0.1015625,
          -0.078125,
          -0.0390625,
          -0.1171875,
          0.046875,
          -0.1640625,
          0.1953125,
          -0.078125,
          0.1015625,
          0.109375,
          -0.1640625,
          -0.0078125,
          -0.140625,
          -0.1796875,
          0.0625,
          -0.203125,
          -0.0078125,
          -0.3203125,
          0.1484375,
          0.1484375,
          0.1484375,
          0.1484375,
          0.1484375,
          0.1484375,
          0.1484375,
          0.1484375,
          0.1484375,
          0.1484375,
          0.1484375,
          0.1484375,
          0.1484375,
          0.1484375,
          0.1484375,
          0.1484375,
          0.1484375,
          0.1484375,
          0.1484375,
          0.1484375,
          0.1484375,
          0.1484375,
          0.1484375,
          0.1484375,
          0.1484375,
          0.1484375,
          0.1484375,
          0.1484375,
          0.1484375,
          0.1484375,
          0.1484375,
          0.1484375,
          0.1484375,
          0.1484375,
          0.1484375,
          0.1484375,
          0.1484375,
          0.1484375,
          0.1484375,
          0.1484375,
          0.1484375,
          0.1484375,
          0.1484375,
          0.1484375,
          0.1484375,
          0.1484375,
          0.1484375
         ],
         "y": [
          0.140625,
          0.0859375,
          0.125,
          0.078125,
          0.0546875,
          0.1640625,
          0.09375,
          -0.0078125,
          -0.0234375,
          0.1171875,
          0.1640625,
          0.1640625,
          0.015625,
          -0.03125,
          0.0078125,
          -0.078125,
          0.0625,
          0.0625,
          -0.0390625,
          0.1484375,
          0.015625,
          -0.0078125,
          0,
          -0.046875,
          0.1328125,
          -0.0703125,
          0.1328125,
          -0.046875,
          0.0703125,
          0.2265625,
          0.109375,
          -0.1015625,
          0.1640625,
          0.25,
          0.0234375,
          0.1640625,
          -0.1015625,
          0,
          -0.1171875,
          -0.046875,
          0.1171875,
          -0.1484375,
          -0.109375,
          0.171875,
          -0.0390625,
          0.234375,
          -0.203125,
          -0.1640625,
          0.1875,
          -0.0859375,
          0.203125,
          0.25,
          0.21875,
          -0.1171875,
          0.0234375,
          0.1640625,
          0.125,
          0.1328125,
          0.1953125,
          0.109375,
          0.09375,
          -0.234375,
          0.171875,
          -0.0234375,
          -0.03125,
          0.1484375,
          0.1640625,
          -0.1875,
          -0.109375,
          -0.078125,
          0.046875,
          -0.25,
          -0.046875,
          -0.046875,
          0.0234375,
          -0.0234375,
          0.0625,
          -0.015625,
          0.0859375,
          -0.2421875,
          0.0546875,
          -0.1171875,
          -0.1953125,
          -0.0390625,
          -0.0859375,
          -0.09375,
          -0.0625,
          -0.234375,
          -0.0703125,
          -0.15625,
          -0.1015625,
          0.140625,
          0.140625,
          0.140625,
          0.140625,
          0.140625,
          0.140625,
          0.140625,
          0.140625,
          0.140625,
          0.140625,
          0.140625,
          0.140625,
          0.140625,
          0.140625,
          0.140625,
          0.140625,
          0.140625,
          0.140625,
          0.140625,
          0.140625,
          0.140625,
          0.140625,
          0.140625,
          0.140625,
          0.140625,
          0.140625,
          0.140625,
          0.140625,
          0.140625,
          0.140625,
          0.140625,
          0.140625,
          0.140625,
          0.140625,
          0.140625,
          0.140625,
          0.140625,
          0.140625,
          0.140625,
          0.140625,
          0.140625,
          0.140625,
          0.140625,
          0.140625,
          0.140625,
          0.140625,
          0.140625
         ],
         "z": [
          0.1502685546875,
          0.0506591796875,
          0.0501708984375,
          -0.1265869140625,
          0.3328857421875,
          0.0491943359375,
          0.3328857421875,
          -0.0430908203125,
          -0.4195556640625,
          -0.1270751953125,
          0.1483154296875,
          0.3319091796875,
          -0.4205322265625,
          -0.2325439453125,
          -0.2330322265625,
          -0.2325439453125,
          0.1419677734375,
          -0.0450439453125,
          0.3328857421875,
          -0.1285400390625,
          0.1419677734375,
          0.4237060546875,
          0.5155029296875,
          0.4246826171875,
          0.1405029296875,
          0.0487060546875,
          -0.0465087890625,
          0.5155029296875,
          0.5145263671875,
          0.3309326171875,
          0.5145263671875,
          0.4237060546875,
          0.0457763671875,
          0.1453857421875,
          -0.2364501953125,
          0.1395263671875,
          0.5155029296875,
          0.2342529296875,
          0.1478271484375,
          0.1405029296875,
          0.4217529296875,
          -0.1422119140625,
          0.3319091796875,
          0.5135498046875,
          0.3280029296875,
          0.2318115234375,
          0.3319091796875,
          0.3309326171875,
          0.2318115234375,
          0.3280029296875,
          0.3270263671875,
          -0.1475830078125,
          0.1370849609375,
          0.2322998046875,
          -0.1475830078125,
          0.4197998046875,
          0.2303466796875,
          0.3250732421875,
          -0.1363525390625,
          -0.0528564453125,
          -0.1490478515625,
          0.4227294921875,
          0.5135498046875,
          0.7899169921875,
          -0.1485595703125,
          -0.1363525390625,
          0.4197998046875,
          0.2308349609375,
          0.6072998046875,
          0.7899169921875,
          -0.510986328125,
          0.4188232421875,
          -0.51171875,
          0.8817138671875,
          -0.2469482421875,
          -0.2464599609375,
          -0.2474365234375,
          0.8817138671875,
          -0.2491455078125,
          0.5125732421875,
          0.6053466796875,
          0.8826904296875,
          0.7010498046875,
          -0.63665771484375,
          0.8895263671875,
          -0.63739013671875,
          -0.8753662109375,
          0.7947998046875,
          -0.4495849609375,
          0.8895263671875,
          -0.8895263671875,
          0.1502685546875,
          0.1502685546875,
          0.1502685546875,
          0.1502685546875,
          0.1502685546875,
          0.1502685546875,
          0.1502685546875,
          0.1502685546875,
          0.1502685546875,
          0.1502685546875,
          0.1502685546875,
          0.1502685546875,
          0.1502685546875,
          0.1502685546875,
          0.1502685546875,
          0.1502685546875,
          0.1502685546875,
          0.1502685546875,
          0.1502685546875,
          0.1502685546875,
          0.1502685546875,
          0.1502685546875,
          0.1502685546875,
          0.1502685546875,
          0.1502685546875,
          0.1502685546875,
          0.1502685546875,
          0.1502685546875,
          0.1502685546875,
          0.1502685546875,
          0.1502685546875,
          0.1502685546875,
          0.1502685546875,
          0.1502685546875,
          0.1502685546875,
          0.1502685546875,
          0.1502685546875,
          0.1502685546875,
          0.1502685546875,
          0.1502685546875,
          0.1502685546875,
          0.1502685546875,
          0.1502685546875,
          0.1502685546875,
          0.1502685546875,
          0.1502685546875,
          0.1502685546875
         ]
        }
       ],
       "layout": {
        "annotations": [
         {
          "font": {
           "size": 16
          },
          "showarrow": false,
          "text": "All Points",
          "x": 0.225,
          "xanchor": "center",
          "xref": "paper",
          "y": 1,
          "yanchor": "bottom",
          "yref": "paper"
         },
         {
          "font": {
           "size": 16
          },
          "showarrow": false,
          "text": "Critical Points",
          "x": 0.775,
          "xanchor": "center",
          "xref": "paper",
          "y": 1,
          "yanchor": "bottom",
          "yref": "paper"
         }
        ],
        "scene": {
         "domain": {
          "x": [
           0,
           0.45
          ],
          "y": [
           0,
           1
          ]
         }
        },
        "scene2": {
         "domain": {
          "x": [
           0.55,
           1
          ],
          "y": [
           0,
           1
          ]
         }
        },
        "template": {
         "data": {
          "bar": [
           {
            "error_x": {
             "color": "#2a3f5f"
            },
            "error_y": {
             "color": "#2a3f5f"
            },
            "marker": {
             "line": {
              "color": "#E5ECF6",
              "width": 0.5
             },
             "pattern": {
              "fillmode": "overlay",
              "size": 10,
              "solidity": 0.2
             }
            },
            "type": "bar"
           }
          ],
          "barpolar": [
           {
            "marker": {
             "line": {
              "color": "#E5ECF6",
              "width": 0.5
             },
             "pattern": {
              "fillmode": "overlay",
              "size": 10,
              "solidity": 0.2
             }
            },
            "type": "barpolar"
           }
          ],
          "carpet": [
           {
            "aaxis": {
             "endlinecolor": "#2a3f5f",
             "gridcolor": "white",
             "linecolor": "white",
             "minorgridcolor": "white",
             "startlinecolor": "#2a3f5f"
            },
            "baxis": {
             "endlinecolor": "#2a3f5f",
             "gridcolor": "white",
             "linecolor": "white",
             "minorgridcolor": "white",
             "startlinecolor": "#2a3f5f"
            },
            "type": "carpet"
           }
          ],
          "choropleth": [
           {
            "colorbar": {
             "outlinewidth": 0,
             "ticks": ""
            },
            "type": "choropleth"
           }
          ],
          "contour": [
           {
            "colorbar": {
             "outlinewidth": 0,
             "ticks": ""
            },
            "colorscale": [
             [
              0,
              "#0d0887"
             ],
             [
              0.1111111111111111,
              "#46039f"
             ],
             [
              0.2222222222222222,
              "#7201a8"
             ],
             [
              0.3333333333333333,
              "#9c179e"
             ],
             [
              0.4444444444444444,
              "#bd3786"
             ],
             [
              0.5555555555555556,
              "#d8576b"
             ],
             [
              0.6666666666666666,
              "#ed7953"
             ],
             [
              0.7777777777777778,
              "#fb9f3a"
             ],
             [
              0.8888888888888888,
              "#fdca26"
             ],
             [
              1,
              "#f0f921"
             ]
            ],
            "type": "contour"
           }
          ],
          "contourcarpet": [
           {
            "colorbar": {
             "outlinewidth": 0,
             "ticks": ""
            },
            "type": "contourcarpet"
           }
          ],
          "heatmap": [
           {
            "colorbar": {
             "outlinewidth": 0,
             "ticks": ""
            },
            "colorscale": [
             [
              0,
              "#0d0887"
             ],
             [
              0.1111111111111111,
              "#46039f"
             ],
             [
              0.2222222222222222,
              "#7201a8"
             ],
             [
              0.3333333333333333,
              "#9c179e"
             ],
             [
              0.4444444444444444,
              "#bd3786"
             ],
             [
              0.5555555555555556,
              "#d8576b"
             ],
             [
              0.6666666666666666,
              "#ed7953"
             ],
             [
              0.7777777777777778,
              "#fb9f3a"
             ],
             [
              0.8888888888888888,
              "#fdca26"
             ],
             [
              1,
              "#f0f921"
             ]
            ],
            "type": "heatmap"
           }
          ],
          "heatmapgl": [
           {
            "colorbar": {
             "outlinewidth": 0,
             "ticks": ""
            },
            "colorscale": [
             [
              0,
              "#0d0887"
             ],
             [
              0.1111111111111111,
              "#46039f"
             ],
             [
              0.2222222222222222,
              "#7201a8"
             ],
             [
              0.3333333333333333,
              "#9c179e"
             ],
             [
              0.4444444444444444,
              "#bd3786"
             ],
             [
              0.5555555555555556,
              "#d8576b"
             ],
             [
              0.6666666666666666,
              "#ed7953"
             ],
             [
              0.7777777777777778,
              "#fb9f3a"
             ],
             [
              0.8888888888888888,
              "#fdca26"
             ],
             [
              1,
              "#f0f921"
             ]
            ],
            "type": "heatmapgl"
           }
          ],
          "histogram": [
           {
            "marker": {
             "pattern": {
              "fillmode": "overlay",
              "size": 10,
              "solidity": 0.2
             }
            },
            "type": "histogram"
           }
          ],
          "histogram2d": [
           {
            "colorbar": {
             "outlinewidth": 0,
             "ticks": ""
            },
            "colorscale": [
             [
              0,
              "#0d0887"
             ],
             [
              0.1111111111111111,
              "#46039f"
             ],
             [
              0.2222222222222222,
              "#7201a8"
             ],
             [
              0.3333333333333333,
              "#9c179e"
             ],
             [
              0.4444444444444444,
              "#bd3786"
             ],
             [
              0.5555555555555556,
              "#d8576b"
             ],
             [
              0.6666666666666666,
              "#ed7953"
             ],
             [
              0.7777777777777778,
              "#fb9f3a"
             ],
             [
              0.8888888888888888,
              "#fdca26"
             ],
             [
              1,
              "#f0f921"
             ]
            ],
            "type": "histogram2d"
           }
          ],
          "histogram2dcontour": [
           {
            "colorbar": {
             "outlinewidth": 0,
             "ticks": ""
            },
            "colorscale": [
             [
              0,
              "#0d0887"
             ],
             [
              0.1111111111111111,
              "#46039f"
             ],
             [
              0.2222222222222222,
              "#7201a8"
             ],
             [
              0.3333333333333333,
              "#9c179e"
             ],
             [
              0.4444444444444444,
              "#bd3786"
             ],
             [
              0.5555555555555556,
              "#d8576b"
             ],
             [
              0.6666666666666666,
              "#ed7953"
             ],
             [
              0.7777777777777778,
              "#fb9f3a"
             ],
             [
              0.8888888888888888,
              "#fdca26"
             ],
             [
              1,
              "#f0f921"
             ]
            ],
            "type": "histogram2dcontour"
           }
          ],
          "mesh3d": [
           {
            "colorbar": {
             "outlinewidth": 0,
             "ticks": ""
            },
            "type": "mesh3d"
           }
          ],
          "parcoords": [
           {
            "line": {
             "colorbar": {
              "outlinewidth": 0,
              "ticks": ""
             }
            },
            "type": "parcoords"
           }
          ],
          "pie": [
           {
            "automargin": true,
            "type": "pie"
           }
          ],
          "scatter": [
           {
            "fillpattern": {
             "fillmode": "overlay",
             "size": 10,
             "solidity": 0.2
            },
            "type": "scatter"
           }
          ],
          "scatter3d": [
           {
            "line": {
             "colorbar": {
              "outlinewidth": 0,
              "ticks": ""
             }
            },
            "marker": {
             "colorbar": {
              "outlinewidth": 0,
              "ticks": ""
             }
            },
            "type": "scatter3d"
           }
          ],
          "scattercarpet": [
           {
            "marker": {
             "colorbar": {
              "outlinewidth": 0,
              "ticks": ""
             }
            },
            "type": "scattercarpet"
           }
          ],
          "scattergeo": [
           {
            "marker": {
             "colorbar": {
              "outlinewidth": 0,
              "ticks": ""
             }
            },
            "type": "scattergeo"
           }
          ],
          "scattergl": [
           {
            "marker": {
             "colorbar": {
              "outlinewidth": 0,
              "ticks": ""
             }
            },
            "type": "scattergl"
           }
          ],
          "scattermapbox": [
           {
            "marker": {
             "colorbar": {
              "outlinewidth": 0,
              "ticks": ""
             }
            },
            "type": "scattermapbox"
           }
          ],
          "scatterpolar": [
           {
            "marker": {
             "colorbar": {
              "outlinewidth": 0,
              "ticks": ""
             }
            },
            "type": "scatterpolar"
           }
          ],
          "scatterpolargl": [
           {
            "marker": {
             "colorbar": {
              "outlinewidth": 0,
              "ticks": ""
             }
            },
            "type": "scatterpolargl"
           }
          ],
          "scatterternary": [
           {
            "marker": {
             "colorbar": {
              "outlinewidth": 0,
              "ticks": ""
             }
            },
            "type": "scatterternary"
           }
          ],
          "surface": [
           {
            "colorbar": {
             "outlinewidth": 0,
             "ticks": ""
            },
            "colorscale": [
             [
              0,
              "#0d0887"
             ],
             [
              0.1111111111111111,
              "#46039f"
             ],
             [
              0.2222222222222222,
              "#7201a8"
             ],
             [
              0.3333333333333333,
              "#9c179e"
             ],
             [
              0.4444444444444444,
              "#bd3786"
             ],
             [
              0.5555555555555556,
              "#d8576b"
             ],
             [
              0.6666666666666666,
              "#ed7953"
             ],
             [
              0.7777777777777778,
              "#fb9f3a"
             ],
             [
              0.8888888888888888,
              "#fdca26"
             ],
             [
              1,
              "#f0f921"
             ]
            ],
            "type": "surface"
           }
          ],
          "table": [
           {
            "cells": {
             "fill": {
              "color": "#EBF0F8"
             },
             "line": {
              "color": "white"
             }
            },
            "header": {
             "fill": {
              "color": "#C8D4E3"
             },
             "line": {
              "color": "white"
             }
            },
            "type": "table"
           }
          ]
         },
         "layout": {
          "annotationdefaults": {
           "arrowcolor": "#2a3f5f",
           "arrowhead": 0,
           "arrowwidth": 1
          },
          "autotypenumbers": "strict",
          "coloraxis": {
           "colorbar": {
            "outlinewidth": 0,
            "ticks": ""
           }
          },
          "colorscale": {
           "diverging": [
            [
             0,
             "#8e0152"
            ],
            [
             0.1,
             "#c51b7d"
            ],
            [
             0.2,
             "#de77ae"
            ],
            [
             0.3,
             "#f1b6da"
            ],
            [
             0.4,
             "#fde0ef"
            ],
            [
             0.5,
             "#f7f7f7"
            ],
            [
             0.6,
             "#e6f5d0"
            ],
            [
             0.7,
             "#b8e186"
            ],
            [
             0.8,
             "#7fbc41"
            ],
            [
             0.9,
             "#4d9221"
            ],
            [
             1,
             "#276419"
            ]
           ],
           "sequential": [
            [
             0,
             "#0d0887"
            ],
            [
             0.1111111111111111,
             "#46039f"
            ],
            [
             0.2222222222222222,
             "#7201a8"
            ],
            [
             0.3333333333333333,
             "#9c179e"
            ],
            [
             0.4444444444444444,
             "#bd3786"
            ],
            [
             0.5555555555555556,
             "#d8576b"
            ],
            [
             0.6666666666666666,
             "#ed7953"
            ],
            [
             0.7777777777777778,
             "#fb9f3a"
            ],
            [
             0.8888888888888888,
             "#fdca26"
            ],
            [
             1,
             "#f0f921"
            ]
           ],
           "sequentialminus": [
            [
             0,
             "#0d0887"
            ],
            [
             0.1111111111111111,
             "#46039f"
            ],
            [
             0.2222222222222222,
             "#7201a8"
            ],
            [
             0.3333333333333333,
             "#9c179e"
            ],
            [
             0.4444444444444444,
             "#bd3786"
            ],
            [
             0.5555555555555556,
             "#d8576b"
            ],
            [
             0.6666666666666666,
             "#ed7953"
            ],
            [
             0.7777777777777778,
             "#fb9f3a"
            ],
            [
             0.8888888888888888,
             "#fdca26"
            ],
            [
             1,
             "#f0f921"
            ]
           ]
          },
          "colorway": [
           "#636efa",
           "#EF553B",
           "#00cc96",
           "#ab63fa",
           "#FFA15A",
           "#19d3f3",
           "#FF6692",
           "#B6E880",
           "#FF97FF",
           "#FECB52"
          ],
          "font": {
           "color": "#2a3f5f"
          },
          "geo": {
           "bgcolor": "white",
           "lakecolor": "white",
           "landcolor": "#E5ECF6",
           "showlakes": true,
           "showland": true,
           "subunitcolor": "white"
          },
          "hoverlabel": {
           "align": "left"
          },
          "hovermode": "closest",
          "mapbox": {
           "style": "light"
          },
          "paper_bgcolor": "white",
          "plot_bgcolor": "#E5ECF6",
          "polar": {
           "angularaxis": {
            "gridcolor": "white",
            "linecolor": "white",
            "ticks": ""
           },
           "bgcolor": "#E5ECF6",
           "radialaxis": {
            "gridcolor": "white",
            "linecolor": "white",
            "ticks": ""
           }
          },
          "scene": {
           "xaxis": {
            "backgroundcolor": "#E5ECF6",
            "gridcolor": "white",
            "gridwidth": 2,
            "linecolor": "white",
            "showbackground": true,
            "ticks": "",
            "zerolinecolor": "white"
           },
           "yaxis": {
            "backgroundcolor": "#E5ECF6",
            "gridcolor": "white",
            "gridwidth": 2,
            "linecolor": "white",
            "showbackground": true,
            "ticks": "",
            "zerolinecolor": "white"
           },
           "zaxis": {
            "backgroundcolor": "#E5ECF6",
            "gridcolor": "white",
            "gridwidth": 2,
            "linecolor": "white",
            "showbackground": true,
            "ticks": "",
            "zerolinecolor": "white"
           }
          },
          "shapedefaults": {
           "line": {
            "color": "#2a3f5f"
           }
          },
          "ternary": {
           "aaxis": {
            "gridcolor": "white",
            "linecolor": "white",
            "ticks": ""
           },
           "baxis": {
            "gridcolor": "white",
            "linecolor": "white",
            "ticks": ""
           },
           "bgcolor": "#E5ECF6",
           "caxis": {
            "gridcolor": "white",
            "linecolor": "white",
            "ticks": ""
           }
          },
          "title": {
           "x": 0.05
          },
          "xaxis": {
           "automargin": true,
           "gridcolor": "white",
           "linecolor": "white",
           "ticks": "",
           "title": {
            "standoff": 15
           },
           "zerolinecolor": "white",
           "zerolinewidth": 2
          },
          "yaxis": {
           "automargin": true,
           "gridcolor": "white",
           "linecolor": "white",
           "ticks": "",
           "title": {
            "standoff": 15
           },
           "zerolinecolor": "white",
           "zerolinewidth": 2
          }
         }
        }
       }
      }
     },
     "metadata": {},
     "output_type": "display_data"
    }
   ],
   "source": [
    "plot_crit_points_from_file(model, 'data/sweeps/PEDESTRIAN/11.txt', 200)"
   ]
  },
  {
   "cell_type": "markdown",
   "metadata": {},
   "source": [
    "## Part 5: T-Net"
   ]
  },
  {
   "cell_type": "markdown",
   "metadata": {},
   "source": [
    "Our basic PointNet model does pretty well. But let's see if we can do any better. One proposed solution to improve on the shortcomings of the basic PointNet model is using a T-Net (see pdf for more details). \n",
    "\n",
    "**TODO 5:** complete `part5_tnet.py`"
   ]
  },
  {
   "cell_type": "code",
   "execution_count": 215,
   "metadata": {},
   "outputs": [],
   "source": [
    "from vision.part5_tnet import PointNetTNet\n",
    "from tests.test_part5 import (\n",
    "    test_tnet_shapes,\n",
    "    test_pointnet_tnet\n",
    ")"
   ]
  },
  {
   "cell_type": "code",
   "execution_count": 216,
   "metadata": {},
   "outputs": [
    {
     "name": "stdout",
     "output_type": "stream",
     "text": [
      "test_tnet_shapes():  \u001b[32m\"Correct\"\u001b[0m\n",
      "test_pointnet_tnet():  \u001b[32m\"Correct\"\u001b[0m\n"
     ]
    }
   ],
   "source": [
    "print(\"test_tnet_shapes(): \", verify(test_tnet_shapes))\n",
    "print(\"test_pointnet_tnet(): \", verify(test_pointnet_tnet))"
   ]
  },
  {
   "cell_type": "markdown",
   "metadata": {},
   "source": [
    "Let's check out how our model performs now that we added a T-Net.\n",
    "\n",
    "To get full credit for this section, you will need *$\\geq$ 65% accuracy* on the test dataset. The TAs were able to consistently achieve this accuracy with ~10 epochs of training.\n",
    "\n",
    "*Hint: You may need to play around with the number of layers in the T-Net*"
   ]
  },
  {
   "cell_type": "code",
   "execution_count": null,
   "metadata": {},
   "outputs": [],
   "source": [
    "lr = 0.002\n",
    "weight_decay = 1e-4\n",
    "epochs = 10\n",
    "\n",
    "model = PointNetTNet(classes=20)\n",
    "optimizer = optim.Adam(model.parameters(), lr=lr, weight_decay=weight_decay)"
   ]
  },
  {
   "cell_type": "code",
   "execution_count": null,
   "metadata": {},
   "outputs": [],
   "source": [
    "train_acc, train_loss, test_acc, test_loss = train(model, optimizer, epochs, train_loader, test_loader, device=device)"
   ]
  },
  {
   "cell_type": "code",
   "execution_count": null,
   "metadata": {},
   "outputs": [],
   "source": [
    "model = torch.load('output/PointNetTNet.pt', map_location='cpu')\n",
    "test_acc, test_loss = test(model, test_loader)"
   ]
  },
  {
   "cell_type": "markdown",
   "metadata": {},
   "source": [
    "Lets take a look at how the addition of positional encoding improved on the performance of our original PointNet model. Which classes does the positional encoding help the most with? Which ones does it not really seem to make much of a difference for? Why?"
   ]
  },
  {
   "cell_type": "code",
   "execution_count": null,
   "metadata": {},
   "outputs": [],
   "source": [
    "generate_and_plot_confusion_matrix(model, test_loader, 20)"
   ]
  },
  {
   "cell_type": "code",
   "execution_count": null,
   "metadata": {},
   "outputs": [],
   "source": [
    "plot_crit_points_from_file(model, 'data/sweeps/PEDESTRIAN/11.txt', 200)"
   ]
  }
 ],
 "metadata": {
  "kernelspec": {
   "display_name": "Python 3 (ipykernel)",
   "language": "python",
   "name": "python3"
  },
  "language_info": {
   "codemirror_mode": {
    "name": "ipython",
    "version": 3
   },
   "file_extension": ".py",
   "mimetype": "text/x-python",
   "name": "python",
   "nbconvert_exporter": "python",
   "pygments_lexer": "ipython3",
   "version": "3.10.0"
  },
  "vscode": {
   "interpreter": {
    "hash": "74396501bd377449ed34cc27f22eec8ef2c76b2ba7fe805dab1a9b94c2831a5b"
   }
  },
  "widgets": {
   "state": {},
   "version": "1.1.2"
  }
 },
 "nbformat": 4,
 "nbformat_minor": 4
}
